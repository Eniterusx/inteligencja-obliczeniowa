{
 "cells": [
  {
   "cell_type": "code",
   "execution_count": 4,
   "metadata": {},
   "outputs": [],
   "source": [
    "from easyAI.AI import NegamaxNoPruning\n",
    "from easyAI import TwoPlayerGame, Human_Player, AI_Player, Negamax, NegamaxNoPruning\n",
    "import random\n",
    "from tqdm.auto import tqdm"
   ]
  },
  {
   "cell_type": "code",
   "execution_count": 5,
   "metadata": {},
   "outputs": [],
   "source": [
    "class Nim(TwoPlayerGame):\n",
    "    def __init__(self, players, piles = [5, 5, 5, 5], deterministic = False):\n",
    "        self.piles = piles\n",
    "        self.players = players\n",
    "        self.nplayer = 1\n",
    "        self.current_player = 1\n",
    "        self.deterministic = deterministic\n",
    "    \n",
    "    def possible_moves(self):\n",
    "        moves = [\"%d,%d\" % (i + 1, j) for i in range(len(self.piles)) for j in range(1, self.piles[i] + 1)]\n",
    "        return moves\n",
    "    \n",
    "    def make_final_move(self, move):\n",
    "        pile, count = move.split(\",\")\n",
    "        extra = 1 if random.randint(1, 10) == 1 and not self.deterministic else 0\n",
    "        self.piles[int(pile) - 1] -= int(count) - extra\n",
    "        return extra\n",
    "    \n",
    "    def make_move(self, move):\n",
    "        pile, count = move.split(\",\")\n",
    "        self.piles[int(pile) - 1] -= int(count)\n",
    "\n",
    "    def unmake_move(self, move): # optional method (speeds up the AI)\n",
    "        pile, count = move.split(\",\")\n",
    "        self.piles[int(pile) - 1] += int(count)\n",
    "\n",
    "    def show(self): print(\" \".join(map(str, self.piles)))\n",
    "\n",
    "    def win(self): return max(self.piles) == 0\n",
    "\n",
    "    def is_over(self): return self.win()\n",
    "\n",
    "    def scoring(self): return 100 if self.win() else 0\n",
    "\n",
    "    def ttentry(self): return tuple(self.piles) #optional, speeds up AI"
   ]
  },
  {
   "cell_type": "markdown",
   "metadata": {},
   "source": [
    "# Negamax"
   ]
  },
  {
   "cell_type": "code",
   "execution_count": 6,
   "metadata": {},
   "outputs": [
    {
     "data": {
      "application/vnd.jupyter.widget-view+json": {
       "model_id": "91345c0ef94d48ea81179ddd47473438",
       "version_major": 2,
       "version_minor": 0
      },
      "text/plain": [
       "Processing depths:   0%|          | 0/4 [00:00<?, ?it/s]"
      ]
     },
     "metadata": {},
     "output_type": "display_data"
    },
    {
     "data": {
      "application/vnd.jupyter.widget-view+json": {
       "model_id": "8046a4e37b604f1b82c5a755fd08d9b9",
       "version_major": 2,
       "version_minor": 0
      },
      "text/plain": [
       "Processing deterministic:   0%|          | 0/2 [00:00<?, ?it/s]"
      ]
     },
     "metadata": {},
     "output_type": "display_data"
    },
    {
     "data": {
      "application/vnd.jupyter.widget-view+json": {
       "model_id": "a1a85955e11a4fdabb9314be340f60b9",
       "version_major": 2,
       "version_minor": 0
      },
      "text/plain": [
       "Playing games:   0%|          | 0/10 [00:00<?, ?it/s]"
      ]
     },
     "metadata": {},
     "output_type": "display_data"
    },
    {
     "data": {
      "application/vnd.jupyter.widget-view+json": {
       "model_id": "d51cba8402c3476fae9a24c57707a179",
       "version_major": 2,
       "version_minor": 0
      },
      "text/plain": [
       "Playing games:   0%|          | 0/10 [00:00<?, ?it/s]"
      ]
     },
     "metadata": {},
     "output_type": "display_data"
    },
    {
     "data": {
      "application/vnd.jupyter.widget-view+json": {
       "model_id": "6de0e0d0a13e4c62ac546dcae06bc37e",
       "version_major": 2,
       "version_minor": 0
      },
      "text/plain": [
       "Processing deterministic:   0%|          | 0/2 [00:00<?, ?it/s]"
      ]
     },
     "metadata": {},
     "output_type": "display_data"
    },
    {
     "data": {
      "application/vnd.jupyter.widget-view+json": {
       "model_id": "1bc6dc28946a4f0a87b40b29a0a3948d",
       "version_major": 2,
       "version_minor": 0
      },
      "text/plain": [
       "Playing games:   0%|          | 0/10 [00:00<?, ?it/s]"
      ]
     },
     "metadata": {},
     "output_type": "display_data"
    },
    {
     "data": {
      "application/vnd.jupyter.widget-view+json": {
       "model_id": "ee06b9597ce344b992f3727e10b43467",
       "version_major": 2,
       "version_minor": 0
      },
      "text/plain": [
       "Playing games:   0%|          | 0/10 [00:00<?, ?it/s]"
      ]
     },
     "metadata": {},
     "output_type": "display_data"
    },
    {
     "data": {
      "application/vnd.jupyter.widget-view+json": {
       "model_id": "1b8f9ab79ddb42bba741dd2c46b663eb",
       "version_major": 2,
       "version_minor": 0
      },
      "text/plain": [
       "Processing deterministic:   0%|          | 0/2 [00:00<?, ?it/s]"
      ]
     },
     "metadata": {},
     "output_type": "display_data"
    },
    {
     "data": {
      "application/vnd.jupyter.widget-view+json": {
       "model_id": "423219133038426cb9323dc765bfb425",
       "version_major": 2,
       "version_minor": 0
      },
      "text/plain": [
       "Playing games:   0%|          | 0/10 [00:00<?, ?it/s]"
      ]
     },
     "metadata": {},
     "output_type": "display_data"
    },
    {
     "data": {
      "application/vnd.jupyter.widget-view+json": {
       "model_id": "e68added23394d3795ec155fb4b351b7",
       "version_major": 2,
       "version_minor": 0
      },
      "text/plain": [
       "Playing games:   0%|          | 0/10 [00:00<?, ?it/s]"
      ]
     },
     "metadata": {},
     "output_type": "display_data"
    },
    {
     "data": {
      "application/vnd.jupyter.widget-view+json": {
       "model_id": "342d840133544955b9f3f60f981d51cb",
       "version_major": 2,
       "version_minor": 0
      },
      "text/plain": [
       "Processing deterministic:   0%|          | 0/2 [00:00<?, ?it/s]"
      ]
     },
     "metadata": {},
     "output_type": "display_data"
    },
    {
     "data": {
      "application/vnd.jupyter.widget-view+json": {
       "model_id": "4167fd90eed24d8bae36baff8bceafd3",
       "version_major": 2,
       "version_minor": 0
      },
      "text/plain": [
       "Playing games:   0%|          | 0/10 [00:00<?, ?it/s]"
      ]
     },
     "metadata": {},
     "output_type": "display_data"
    },
    {
     "data": {
      "application/vnd.jupyter.widget-view+json": {
       "model_id": "199f532eb7ff47c3b7a97e8206bfbb50",
       "version_major": 2,
       "version_minor": 0
      },
      "text/plain": [
       "Playing games:   0%|          | 0/10 [00:00<?, ?it/s]"
      ]
     },
     "metadata": {},
     "output_type": "display_data"
    },
    {
     "name": "stdout",
     "output_type": "stream",
     "text": [
      "{(3, 3, True): {'p1_wins': 0, 'p2_wins': 10, 'p1_average_game_time': 0.00032284061999973804, 'p2_average_game_time': 0.00032643342221629404}, (3, 3, False): {'p1_wins': 1, 'p2_wins': 9, 'p1_average_game_time': 0.00037722063863429177, 'p2_average_game_time': 0.0003784540660614073}, (3, 7, True): {'p1_wins': 0, 'p2_wins': 10, 'p1_average_game_time': 0.00030049969999652144, 'p2_average_game_time': 0.02232468786666636}, (3, 7, False): {'p1_wins': 3, 'p2_wins': 7, 'p1_average_game_time': 0.00031671366863765695, 'p2_average_game_time': 0.02276145709454843}, (7, 3, True): {'p1_wins': 10, 'p2_wins': 0, 'p1_average_game_time': 0.028406229699998498, 'p2_average_game_time': 0.00032280886666676966}, (7, 3, False): {'p1_wins': 7, 'p2_wins': 3, 'p1_average_game_time': 0.025529068405403005, 'p2_average_game_time': 0.00029152145737249165}, (7, 7, True): {'p1_wins': 0, 'p2_wins': 10, 'p1_average_game_time': 0.023933521789999194, 'p2_average_game_time': 0.021653484222219452}, (7, 7, False): {'p1_wins': 5, 'p2_wins': 5, 'p1_average_game_time': 0.024703848285151375, 'p2_average_game_time': 0.021459103674545038}}\n"
     ]
    }
   ],
   "source": [
    "# Win tracking dict\n",
    "results = {}\n",
    "\n",
    "depths = [3, 7]\n",
    "deterministic = [True, False]\n",
    "game_amount = 10\n",
    "\n",
    "for d1, d2 in tqdm([(d1, d2) for d1 in depths for d2 in depths], desc=\"Processing depths\"):\n",
    "    for det in tqdm(deterministic, desc=\"Processing deterministic\"):\n",
    "        # print(f\"depth1: {d1}, depth2: {d2} deterministic: {det}\")\n",
    "        \n",
    "        # Play 10 games and track the results\n",
    "        p1_wins = 0\n",
    "        p2_wins = 0\n",
    "        p1_avg_time = 0\n",
    "        p2_avg_time = 0\n",
    "\n",
    "        for x in tqdm(range(game_amount), desc=\"Playing games\"):\n",
    "            ai = Negamax(d1)\n",
    "            ai2 = Negamax(d2)\n",
    "            game = Nim(players=[AI_Player(ai), AI_Player(ai2)],\n",
    "                    deterministic=det,\n",
    "                    piles=[5,5,5,5])\n",
    "            p1_time, p2_time = game.play(verbose=False)\n",
    "            p1_avg_time += p1_time\n",
    "            p2_avg_time += p2_time\n",
    "            # print(\"\\nplayer %d wins\\n\" % game.current_player)\n",
    "            if game.current_player == 1:\n",
    "                p1_wins += 1\n",
    "            else:\n",
    "                p2_wins += 1 \n",
    "\n",
    "        p1_avg_time /= game_amount\n",
    "        p2_avg_time /= game_amount\n",
    "        results[(d1, d2, det)] = {\"p1_wins\": p1_wins,\n",
    "                                    \"p2_wins\": p2_wins,\n",
    "                                    \"p1_average_game_time\": p1_avg_time,\n",
    "                                    \"p2_average_game_time\": p2_avg_time} # Update the results\n",
    "\n",
    "print(results)"
   ]
  },
  {
   "cell_type": "markdown",
   "metadata": {},
   "source": [
    "## TODO:\n",
    "wziac rzeczy z results i se zrobic plota jakiegos fajnego"
   ]
  },
  {
   "cell_type": "markdown",
   "metadata": {},
   "source": [
    "# Negamax bez alpha-beta pruning\n",
    "(zakładając, że copilot dobrze zaimplementował (ale chyba jest git xd))"
   ]
  },
  {
   "cell_type": "code",
   "execution_count": 7,
   "metadata": {},
   "outputs": [
    {
     "data": {
      "application/vnd.jupyter.widget-view+json": {
       "model_id": "c5ec92cdc6614f15b4c7c0f3ade62d7a",
       "version_major": 2,
       "version_minor": 0
      },
      "text/plain": [
       "Processing depths:   0%|          | 0/4 [00:00<?, ?it/s]"
      ]
     },
     "metadata": {},
     "output_type": "display_data"
    },
    {
     "data": {
      "application/vnd.jupyter.widget-view+json": {
       "model_id": "96b41e89d62b47c68ba2387ce6d179a6",
       "version_major": 2,
       "version_minor": 0
      },
      "text/plain": [
       "Processing deterministic:   0%|          | 0/2 [00:00<?, ?it/s]"
      ]
     },
     "metadata": {},
     "output_type": "display_data"
    },
    {
     "data": {
      "application/vnd.jupyter.widget-view+json": {
       "model_id": "0ee1e14439e743afba8309b9c4c20883",
       "version_major": 2,
       "version_minor": 0
      },
      "text/plain": [
       "Playing games:   0%|          | 0/10 [00:00<?, ?it/s]"
      ]
     },
     "metadata": {},
     "output_type": "display_data"
    },
    {
     "data": {
      "application/vnd.jupyter.widget-view+json": {
       "model_id": "b29d41f1451c4aad8569a185e97f8df6",
       "version_major": 2,
       "version_minor": 0
      },
      "text/plain": [
       "Playing games:   0%|          | 0/10 [00:00<?, ?it/s]"
      ]
     },
     "metadata": {},
     "output_type": "display_data"
    },
    {
     "data": {
      "application/vnd.jupyter.widget-view+json": {
       "model_id": "0f3cd2622392415f85b01263c84acfaf",
       "version_major": 2,
       "version_minor": 0
      },
      "text/plain": [
       "Processing deterministic:   0%|          | 0/2 [00:00<?, ?it/s]"
      ]
     },
     "metadata": {},
     "output_type": "display_data"
    },
    {
     "data": {
      "application/vnd.jupyter.widget-view+json": {
       "model_id": "0aed3627aecb498a9227e25e23f70921",
       "version_major": 2,
       "version_minor": 0
      },
      "text/plain": [
       "Playing games:   0%|          | 0/10 [00:00<?, ?it/s]"
      ]
     },
     "metadata": {},
     "output_type": "display_data"
    },
    {
     "data": {
      "application/vnd.jupyter.widget-view+json": {
       "model_id": "d46f5c3507644614bc5bc28f5e4d3a77",
       "version_major": 2,
       "version_minor": 0
      },
      "text/plain": [
       "Playing games:   0%|          | 0/10 [00:00<?, ?it/s]"
      ]
     },
     "metadata": {},
     "output_type": "display_data"
    },
    {
     "data": {
      "application/vnd.jupyter.widget-view+json": {
       "model_id": "bbe7dcb6a35c43259e8fd26dead1420f",
       "version_major": 2,
       "version_minor": 0
      },
      "text/plain": [
       "Processing deterministic:   0%|          | 0/2 [00:00<?, ?it/s]"
      ]
     },
     "metadata": {},
     "output_type": "display_data"
    },
    {
     "data": {
      "application/vnd.jupyter.widget-view+json": {
       "model_id": "44c2bf9810c8433ca806e511d67f521e",
       "version_major": 2,
       "version_minor": 0
      },
      "text/plain": [
       "Playing games:   0%|          | 0/10 [00:00<?, ?it/s]"
      ]
     },
     "metadata": {},
     "output_type": "display_data"
    },
    {
     "data": {
      "application/vnd.jupyter.widget-view+json": {
       "model_id": "b05eaa1c86c24be68356a5f8287f0a06",
       "version_major": 2,
       "version_minor": 0
      },
      "text/plain": [
       "Playing games:   0%|          | 0/10 [00:00<?, ?it/s]"
      ]
     },
     "metadata": {},
     "output_type": "display_data"
    },
    {
     "data": {
      "application/vnd.jupyter.widget-view+json": {
       "model_id": "29ab5dc5a3fc4b3ea87a8cc08c754979",
       "version_major": 2,
       "version_minor": 0
      },
      "text/plain": [
       "Processing deterministic:   0%|          | 0/2 [00:00<?, ?it/s]"
      ]
     },
     "metadata": {},
     "output_type": "display_data"
    },
    {
     "data": {
      "application/vnd.jupyter.widget-view+json": {
       "model_id": "88414d9e03aa4eb08aaf670e1d443899",
       "version_major": 2,
       "version_minor": 0
      },
      "text/plain": [
       "Playing games:   0%|          | 0/10 [00:00<?, ?it/s]"
      ]
     },
     "metadata": {},
     "output_type": "display_data"
    },
    {
     "data": {
      "application/vnd.jupyter.widget-view+json": {
       "model_id": "3b286dbb03754d68b9beca7814518fff",
       "version_major": 2,
       "version_minor": 0
      },
      "text/plain": [
       "Playing games:   0%|          | 0/10 [00:00<?, ?it/s]"
      ]
     },
     "metadata": {},
     "output_type": "display_data"
    },
    {
     "name": "stdout",
     "output_type": "stream",
     "text": [
      "{(3, 3, True): {'p1_wins': 0, 'p2_wins': 10, 'p1_average_game_time': 0.002352423430002091, 'p2_average_game_time': 0.002234599211113972}, (3, 3, False): {'p1_wins': 6, 'p2_wins': 4, 'p1_average_game_time': 0.002164716782654509, 'p2_average_game_time': 0.0019697112114301684}, (3, 7, True): {'p1_wins': 0, 'p2_wins': 10, 'p1_average_game_time': 0.0022851577800014414, 'p2_average_game_time': 6.192900851811118}, (3, 7, False): {'p1_wins': 4, 'p2_wins': 6, 'p1_average_game_time': 0.002477701099100035, 'p2_average_game_time': 6.702792869455867}, (7, 3, True): {'p1_wins': 10, 'p2_wins': 0, 'p1_average_game_time': 9.457783687477768, 'p2_average_game_time': 0.0021668997222124946}, (7, 3, False): {'p1_wins': 8, 'p2_wins': 2, 'p1_average_game_time': 9.432899639012003, 'p2_average_game_time': 0.002168304355968528}, (7, 7, True): {'p1_wins': 0, 'p2_wins': 10, 'p1_average_game_time': 8.437451273259963, 'p2_average_game_time': 6.304128975500049}, (7, 7, False): {'p1_wins': 5, 'p2_wins': 5, 'p1_average_game_time': 9.08543029141534, 'p2_average_game_time': 7.044954840282993}}\n"
     ]
    }
   ],
   "source": [
    "# Win tracking dict\n",
    "results = {}\n",
    "\n",
    "depths = [3, 7]\n",
    "deterministic = [True, False]\n",
    "game_amount = 10\n",
    "\n",
    "for d1, d2 in tqdm([(d1, d2) for d1 in depths for d2 in depths], desc=\"Processing depths\"):\n",
    "    for det in tqdm(deterministic, desc=\"Processing deterministic\"):\n",
    "        # print(f\"depth1: {d1}, depth2: {d2} deterministic: {det}\")\n",
    "        \n",
    "        # Play 10 games and track the results\n",
    "        p1_wins = 0\n",
    "        p2_wins = 0\n",
    "        p1_avg_time = 0\n",
    "        p2_avg_time = 0\n",
    "\n",
    "        for x in tqdm(range(game_amount), desc=\"Playing games\"):\n",
    "            ai = NegamaxNoPruning(d1)\n",
    "            ai2 = NegamaxNoPruning(d2)\n",
    "            game = Nim(players=[AI_Player(ai), AI_Player(ai2)],\n",
    "                    deterministic=det,\n",
    "                    piles=[5,5,5,5])\n",
    "            p1_time, p2_time = game.play(verbose=False)\n",
    "            p1_avg_time += p1_time\n",
    "            p2_avg_time += p2_time\n",
    "            # print(\"\\nplayer %d wins\\n\" % game.current_player)\n",
    "            if game.current_player == 1:\n",
    "                p1_wins += 1\n",
    "            else:\n",
    "                p2_wins += 1 \n",
    "\n",
    "        p1_avg_time /= game_amount\n",
    "        p2_avg_time /= game_amount\n",
    "        results[(d1, d2, det)] = {\"p1_wins\": p1_wins,\n",
    "                                    \"p2_wins\": p2_wins,\n",
    "                                    \"p1_average_game_time\": p1_avg_time,\n",
    "                                    \"p2_average_game_time\": p2_avg_time} # Update the results\n",
    "\n",
    "print(results)"
   ]
  },
  {
   "cell_type": "code",
   "execution_count": null,
   "metadata": {},
   "outputs": [],
   "source": []
  }
 ],
 "metadata": {
  "kernelspec": {
   "display_name": "intobl",
   "language": "python",
   "name": "python3"
  },
  "language_info": {
   "codemirror_mode": {
    "name": "ipython",
    "version": 3
   },
   "file_extension": ".py",
   "mimetype": "text/x-python",
   "name": "python",
   "nbconvert_exporter": "python",
   "pygments_lexer": "ipython3",
   "version": "3.11.7"
  }
 },
 "nbformat": 4,
 "nbformat_minor": 2
}
