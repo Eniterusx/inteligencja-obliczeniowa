{
 "cells": [
  {
   "cell_type": "code",
   "execution_count": 1,
   "metadata": {},
   "outputs": [],
   "source": [
    "from easyAI.AI import NegamaxNoPruning\n",
    "from easyAI import TwoPlayerGame, Human_Player, AI_Player, Negamax, NegamaxNoPruning, NonRecursiveNegamax, SSS, Expectiminimax\n",
    "import random\n",
    "from tqdm.auto import tqdm\n",
    "import pandas as pd"
   ]
  },
  {
   "cell_type": "code",
   "execution_count": 2,
   "metadata": {},
   "outputs": [],
   "source": [
    "class Nim(TwoPlayerGame):\n",
    "    def __init__(self, players, piles = [5, 5, 5, 5], deterministic = False):\n",
    "        self.piles = piles\n",
    "        self.players = players\n",
    "        self.nplayer = 1\n",
    "        self.current_player = 1\n",
    "        self.deterministic = deterministic\n",
    "    \n",
    "    def possible_moves(self):\n",
    "        moves = [\"%d,%d\" % (i + 1, j) for i in range(len(self.piles)) for j in range(1, self.piles[i] + 1)]\n",
    "        return moves\n",
    "    \n",
    "    def make_final_move(self, move):\n",
    "        pile, count = move.split(\",\")\n",
    "        extra = 1 if random.randint(1, 10) == 1 and not self.deterministic else 0\n",
    "        self.piles[int(pile) - 1] -= int(count) - extra\n",
    "        return extra\n",
    "    \n",
    "    def make_move(self, move):\n",
    "        pile, count = move.split(\",\")\n",
    "        self.piles[int(pile) - 1] -= int(count)\n",
    "\n",
    "    def unmake_move(self, move): # optional method (speeds up the AI)\n",
    "        pile, count = move.split(\",\")\n",
    "        self.piles[int(pile) - 1] += int(count)\n",
    "\n",
    "    def show(self): print(\" \".join(map(str, self.piles)))\n",
    "\n",
    "    def win(self): return max(self.piles) == 0\n",
    "\n",
    "    def is_over(self): return self.win()\n",
    "\n",
    "    def scoring(self): return 100 if self.win() else 0\n",
    "\n",
    "    def ttentry(self): return tuple(self.piles) #optional, speeds up AI\n",
    "\n",
    "    def ttrestore(self, entry): self.piles = list(entry)"
   ]
  },
  {
   "cell_type": "markdown",
   "metadata": {},
   "source": [
    "# Negamax"
   ]
  },
  {
   "cell_type": "code",
   "execution_count": 6,
   "metadata": {},
   "outputs": [
    {
     "data": {
      "application/vnd.jupyter.widget-view+json": {
       "model_id": "91345c0ef94d48ea81179ddd47473438",
       "version_major": 2,
       "version_minor": 0
      },
      "text/plain": [
       "Processing depths:   0%|          | 0/4 [00:00<?, ?it/s]"
      ]
     },
     "metadata": {},
     "output_type": "display_data"
    },
    {
     "data": {
      "application/vnd.jupyter.widget-view+json": {
       "model_id": "8046a4e37b604f1b82c5a755fd08d9b9",
       "version_major": 2,
       "version_minor": 0
      },
      "text/plain": [
       "Processing deterministic:   0%|          | 0/2 [00:00<?, ?it/s]"
      ]
     },
     "metadata": {},
     "output_type": "display_data"
    },
    {
     "data": {
      "application/vnd.jupyter.widget-view+json": {
       "model_id": "a1a85955e11a4fdabb9314be340f60b9",
       "version_major": 2,
       "version_minor": 0
      },
      "text/plain": [
       "Playing games:   0%|          | 0/10 [00:00<?, ?it/s]"
      ]
     },
     "metadata": {},
     "output_type": "display_data"
    },
    {
     "data": {
      "application/vnd.jupyter.widget-view+json": {
       "model_id": "d51cba8402c3476fae9a24c57707a179",
       "version_major": 2,
       "version_minor": 0
      },
      "text/plain": [
       "Playing games:   0%|          | 0/10 [00:00<?, ?it/s]"
      ]
     },
     "metadata": {},
     "output_type": "display_data"
    },
    {
     "data": {
      "application/vnd.jupyter.widget-view+json": {
       "model_id": "6de0e0d0a13e4c62ac546dcae06bc37e",
       "version_major": 2,
       "version_minor": 0
      },
      "text/plain": [
       "Processing deterministic:   0%|          | 0/2 [00:00<?, ?it/s]"
      ]
     },
     "metadata": {},
     "output_type": "display_data"
    },
    {
     "data": {
      "application/vnd.jupyter.widget-view+json": {
       "model_id": "1bc6dc28946a4f0a87b40b29a0a3948d",
       "version_major": 2,
       "version_minor": 0
      },
      "text/plain": [
       "Playing games:   0%|          | 0/10 [00:00<?, ?it/s]"
      ]
     },
     "metadata": {},
     "output_type": "display_data"
    },
    {
     "data": {
      "application/vnd.jupyter.widget-view+json": {
       "model_id": "ee06b9597ce344b992f3727e10b43467",
       "version_major": 2,
       "version_minor": 0
      },
      "text/plain": [
       "Playing games:   0%|          | 0/10 [00:00<?, ?it/s]"
      ]
     },
     "metadata": {},
     "output_type": "display_data"
    },
    {
     "data": {
      "application/vnd.jupyter.widget-view+json": {
       "model_id": "1b8f9ab79ddb42bba741dd2c46b663eb",
       "version_major": 2,
       "version_minor": 0
      },
      "text/plain": [
       "Processing deterministic:   0%|          | 0/2 [00:00<?, ?it/s]"
      ]
     },
     "metadata": {},
     "output_type": "display_data"
    },
    {
     "data": {
      "application/vnd.jupyter.widget-view+json": {
       "model_id": "423219133038426cb9323dc765bfb425",
       "version_major": 2,
       "version_minor": 0
      },
      "text/plain": [
       "Playing games:   0%|          | 0/10 [00:00<?, ?it/s]"
      ]
     },
     "metadata": {},
     "output_type": "display_data"
    },
    {
     "data": {
      "application/vnd.jupyter.widget-view+json": {
       "model_id": "e68added23394d3795ec155fb4b351b7",
       "version_major": 2,
       "version_minor": 0
      },
      "text/plain": [
       "Playing games:   0%|          | 0/10 [00:00<?, ?it/s]"
      ]
     },
     "metadata": {},
     "output_type": "display_data"
    },
    {
     "data": {
      "application/vnd.jupyter.widget-view+json": {
       "model_id": "342d840133544955b9f3f60f981d51cb",
       "version_major": 2,
       "version_minor": 0
      },
      "text/plain": [
       "Processing deterministic:   0%|          | 0/2 [00:00<?, ?it/s]"
      ]
     },
     "metadata": {},
     "output_type": "display_data"
    },
    {
     "data": {
      "application/vnd.jupyter.widget-view+json": {
       "model_id": "4167fd90eed24d8bae36baff8bceafd3",
       "version_major": 2,
       "version_minor": 0
      },
      "text/plain": [
       "Playing games:   0%|          | 0/10 [00:00<?, ?it/s]"
      ]
     },
     "metadata": {},
     "output_type": "display_data"
    },
    {
     "data": {
      "application/vnd.jupyter.widget-view+json": {
       "model_id": "199f532eb7ff47c3b7a97e8206bfbb50",
       "version_major": 2,
       "version_minor": 0
      },
      "text/plain": [
       "Playing games:   0%|          | 0/10 [00:00<?, ?it/s]"
      ]
     },
     "metadata": {},
     "output_type": "display_data"
    },
    {
     "name": "stdout",
     "output_type": "stream",
     "text": [
      "{(3, 3, True): {'p1_wins': 0, 'p2_wins': 10, 'p1_average_game_time': 0.00032284061999973804, 'p2_average_game_time': 0.00032643342221629404}, (3, 3, False): {'p1_wins': 1, 'p2_wins': 9, 'p1_average_game_time': 0.00037722063863429177, 'p2_average_game_time': 0.0003784540660614073}, (3, 7, True): {'p1_wins': 0, 'p2_wins': 10, 'p1_average_game_time': 0.00030049969999652144, 'p2_average_game_time': 0.02232468786666636}, (3, 7, False): {'p1_wins': 3, 'p2_wins': 7, 'p1_average_game_time': 0.00031671366863765695, 'p2_average_game_time': 0.02276145709454843}, (7, 3, True): {'p1_wins': 10, 'p2_wins': 0, 'p1_average_game_time': 0.028406229699998498, 'p2_average_game_time': 0.00032280886666676966}, (7, 3, False): {'p1_wins': 7, 'p2_wins': 3, 'p1_average_game_time': 0.025529068405403005, 'p2_average_game_time': 0.00029152145737249165}, (7, 7, True): {'p1_wins': 0, 'p2_wins': 10, 'p1_average_game_time': 0.023933521789999194, 'p2_average_game_time': 0.021653484222219452}, (7, 7, False): {'p1_wins': 5, 'p2_wins': 5, 'p1_average_game_time': 0.024703848285151375, 'p2_average_game_time': 0.021459103674545038}}\n"
     ]
    }
   ],
   "source": [
    "# Win tracking dict\n",
    "results = {}\n",
    "\n",
    "depths = [3, 7]\n",
    "deterministic = [True, False]\n",
    "game_amount = 10\n",
    "\n",
    "for d1, d2 in tqdm([(d1, d2) for d1 in depths for d2 in depths], desc=\"Processing depths\"):\n",
    "    for det in tqdm(deterministic, desc=\"Processing deterministic\"):\n",
    "        # print(f\"depth1: {d1}, depth2: {d2} deterministic: {det}\")\n",
    "        \n",
    "        # Play 10 games and track the results\n",
    "        p1_wins = 0\n",
    "        p2_wins = 0\n",
    "        p1_avg_time = 0\n",
    "        p2_avg_time = 0\n",
    "\n",
    "        for x in tqdm(range(game_amount), desc=\"Playing games\"):\n",
    "            ai = Negamax(d1)\n",
    "            ai2 = Negamax(d2)\n",
    "            game = Nim(players=[AI_Player(ai), AI_Player(ai2)],\n",
    "                    deterministic=det,\n",
    "                    piles=[5,5,5,5])\n",
    "            p1_time, p2_time = game.play(verbose=False)\n",
    "            p1_avg_time += p1_time\n",
    "            p2_avg_time += p2_time\n",
    "            # print(\"\\nplayer %d wins\\n\" % game.current_player)\n",
    "            if game.current_player == 1:\n",
    "                p1_wins += 1\n",
    "            else:\n",
    "                p2_wins += 1 \n",
    "\n",
    "        p1_avg_time /= game_amount\n",
    "        p2_avg_time /= game_amount\n",
    "        results[(d1, d2, det)] = {\"p1_wins\": p1_wins,\n",
    "                                    \"p2_wins\": p2_wins,\n",
    "                                    \"p1_average_game_time\": p1_avg_time,\n",
    "                                    \"p2_average_game_time\": p2_avg_time} # Update the results\n",
    "\n",
    "print(results)"
   ]
  },
  {
   "cell_type": "markdown",
   "metadata": {},
   "source": [
    "## TODO:\n",
    "wziac rzeczy z results i se zrobic plota jakiegos fajnego"
   ]
  },
  {
   "cell_type": "markdown",
   "metadata": {},
   "source": [
    "# Negamax bez alpha-beta pruning\n",
    "(zakładając, że copilot dobrze zaimplementował (ale chyba jest git xd))"
   ]
  },
  {
   "cell_type": "code",
   "execution_count": 5,
   "metadata": {},
   "outputs": [
    {
     "data": {
      "application/vnd.jupyter.widget-view+json": {
       "model_id": "b94b744dfa204bba84ae8a7bb8d9530d",
       "version_major": 2,
       "version_minor": 0
      },
      "text/plain": [
       "Processing depths:   0%|          | 0/4 [00:00<?, ?it/s]"
      ]
     },
     "metadata": {},
     "output_type": "display_data"
    },
    {
     "data": {
      "application/vnd.jupyter.widget-view+json": {
       "model_id": "9a2e63b5f4b54ac095107c6ba94394d5",
       "version_major": 2,
       "version_minor": 0
      },
      "text/plain": [
       "Processing deterministic:   0%|          | 0/2 [00:00<?, ?it/s]"
      ]
     },
     "metadata": {},
     "output_type": "display_data"
    },
    {
     "data": {
      "application/vnd.jupyter.widget-view+json": {
       "model_id": "b3edc4f398b14c8c9216cba22833899d",
       "version_major": 2,
       "version_minor": 0
      },
      "text/plain": [
       "Playing games:   0%|          | 0/10 [00:00<?, ?it/s]"
      ]
     },
     "metadata": {},
     "output_type": "display_data"
    },
    {
     "data": {
      "application/vnd.jupyter.widget-view+json": {
       "model_id": "abfd6bf256a04d72b2e60977987041f8",
       "version_major": 2,
       "version_minor": 0
      },
      "text/plain": [
       "Playing games:   0%|          | 0/10 [00:00<?, ?it/s]"
      ]
     },
     "metadata": {},
     "output_type": "display_data"
    },
    {
     "data": {
      "application/vnd.jupyter.widget-view+json": {
       "model_id": "4024f207a5e84dd9a27b99e2da0ed0e7",
       "version_major": 2,
       "version_minor": 0
      },
      "text/plain": [
       "Processing deterministic:   0%|          | 0/2 [00:00<?, ?it/s]"
      ]
     },
     "metadata": {},
     "output_type": "display_data"
    },
    {
     "data": {
      "application/vnd.jupyter.widget-view+json": {
       "model_id": "2e7927eaa338424da1f5191eff772647",
       "version_major": 2,
       "version_minor": 0
      },
      "text/plain": [
       "Playing games:   0%|          | 0/10 [00:00<?, ?it/s]"
      ]
     },
     "metadata": {},
     "output_type": "display_data"
    },
    {
     "data": {
      "application/vnd.jupyter.widget-view+json": {
       "model_id": "56cf2fcbada2440a865cfc48b41fd0cc",
       "version_major": 2,
       "version_minor": 0
      },
      "text/plain": [
       "Playing games:   0%|          | 0/10 [00:00<?, ?it/s]"
      ]
     },
     "metadata": {},
     "output_type": "display_data"
    },
    {
     "data": {
      "application/vnd.jupyter.widget-view+json": {
       "model_id": "c93631db6c6d42f085767521cc9872a5",
       "version_major": 2,
       "version_minor": 0
      },
      "text/plain": [
       "Processing deterministic:   0%|          | 0/2 [00:00<?, ?it/s]"
      ]
     },
     "metadata": {},
     "output_type": "display_data"
    },
    {
     "data": {
      "application/vnd.jupyter.widget-view+json": {
       "model_id": "3782dab353bf4df3a0091c5ef3d77130",
       "version_major": 2,
       "version_minor": 0
      },
      "text/plain": [
       "Playing games:   0%|          | 0/10 [00:00<?, ?it/s]"
      ]
     },
     "metadata": {},
     "output_type": "display_data"
    },
    {
     "data": {
      "application/vnd.jupyter.widget-view+json": {
       "model_id": "3de975a04c6f42b5958d1115caaab595",
       "version_major": 2,
       "version_minor": 0
      },
      "text/plain": [
       "Playing games:   0%|          | 0/10 [00:00<?, ?it/s]"
      ]
     },
     "metadata": {},
     "output_type": "display_data"
    },
    {
     "ename": "KeyboardInterrupt",
     "evalue": "",
     "output_type": "error",
     "traceback": [
      "\u001b[0;31m---------------------------------------------------------------------------\u001b[0m",
      "\u001b[0;31mKeyboardInterrupt\u001b[0m                         Traceback (most recent call last)",
      "Cell \u001b[0;32mIn[5], line 24\u001b[0m\n\u001b[1;32m     20\u001b[0m ai2 \u001b[38;5;241m=\u001b[39m NonRecursiveNegamax(d2)\n\u001b[1;32m     21\u001b[0m game \u001b[38;5;241m=\u001b[39m Nim(players\u001b[38;5;241m=\u001b[39m[AI_Player(ai), AI_Player(ai2)],\n\u001b[1;32m     22\u001b[0m         deterministic\u001b[38;5;241m=\u001b[39mdet,\n\u001b[1;32m     23\u001b[0m         piles\u001b[38;5;241m=\u001b[39m[\u001b[38;5;241m5\u001b[39m,\u001b[38;5;241m5\u001b[39m,\u001b[38;5;241m5\u001b[39m,\u001b[38;5;241m5\u001b[39m])\n\u001b[0;32m---> 24\u001b[0m p1_time, p2_time \u001b[38;5;241m=\u001b[39m \u001b[43mgame\u001b[49m\u001b[38;5;241;43m.\u001b[39;49m\u001b[43mplay\u001b[49m\u001b[43m(\u001b[49m\u001b[43mverbose\u001b[49m\u001b[38;5;241;43m=\u001b[39;49m\u001b[38;5;28;43;01mFalse\u001b[39;49;00m\u001b[43m)\u001b[49m\n\u001b[1;32m     25\u001b[0m p1_avg_time \u001b[38;5;241m+\u001b[39m\u001b[38;5;241m=\u001b[39m p1_time\n\u001b[1;32m     26\u001b[0m p2_avg_time \u001b[38;5;241m+\u001b[39m\u001b[38;5;241m=\u001b[39m p2_time\n",
      "File \u001b[0;32m~/Desktop/SEM6/inteligencja obliczeniowa/inteligencja-obliczeniowa/lab1/easyAI/TwoPlayerGame.py:116\u001b[0m, in \u001b[0;36mTwoPlayerGame.play\u001b[0;34m(self, nmoves, verbose)\u001b[0m\n\u001b[1;32m    113\u001b[0m     \u001b[38;5;28;01mbreak\u001b[39;00m\n\u001b[1;32m    115\u001b[0m start_time \u001b[38;5;241m=\u001b[39m timer()\n\u001b[0;32m--> 116\u001b[0m move \u001b[38;5;241m=\u001b[39m \u001b[38;5;28;43mself\u001b[39;49m\u001b[38;5;241;43m.\u001b[39;49m\u001b[43mplayer\u001b[49m\u001b[38;5;241;43m.\u001b[39;49m\u001b[43mask_move\u001b[49m\u001b[43m(\u001b[49m\u001b[38;5;28;43mself\u001b[39;49m\u001b[43m)\u001b[49m\n\u001b[1;32m    117\u001b[0m end_time \u001b[38;5;241m=\u001b[39m timer()\n\u001b[1;32m    119\u001b[0m thinking_time \u001b[38;5;241m=\u001b[39m end_time \u001b[38;5;241m-\u001b[39m start_time\n",
      "File \u001b[0;32m~/Desktop/SEM6/inteligencja obliczeniowa/inteligencja-obliczeniowa/lab1/easyAI/Player.py:63\u001b[0m, in \u001b[0;36mAI_Player.ask_move\u001b[0;34m(self, game)\u001b[0m\n\u001b[1;32m     62\u001b[0m \u001b[38;5;28;01mdef\u001b[39;00m \u001b[38;5;21mask_move\u001b[39m(\u001b[38;5;28mself\u001b[39m, game):\n\u001b[0;32m---> 63\u001b[0m     \u001b[38;5;28;01mreturn\u001b[39;00m \u001b[38;5;28;43mself\u001b[39;49m\u001b[38;5;241;43m.\u001b[39;49m\u001b[43mAI_algo\u001b[49m\u001b[43m(\u001b[49m\u001b[43mgame\u001b[49m\u001b[43m)\u001b[49m\n",
      "File \u001b[0;32m~/Desktop/SEM6/inteligencja obliczeniowa/inteligencja-obliczeniowa/lab1/easyAI/AI/NonRecursiveNegamax.py:222\u001b[0m, in \u001b[0;36mNonRecursiveNegamax.__call__\u001b[0;34m(self, game)\u001b[0m\n\u001b[1;32m    220\u001b[0m scoring \u001b[38;5;241m=\u001b[39m \u001b[38;5;28mself\u001b[39m\u001b[38;5;241m.\u001b[39mscoring \u001b[38;5;28;01mif\u001b[39;00m \u001b[38;5;28mself\u001b[39m\u001b[38;5;241m.\u001b[39mscoring \u001b[38;5;28;01melse\u001b[39;00m (\u001b[38;5;28;01mlambda\u001b[39;00m g: g\u001b[38;5;241m.\u001b[39mscoring())\n\u001b[1;32m    221\u001b[0m temp \u001b[38;5;241m=\u001b[39m game\u001b[38;5;241m.\u001b[39mcopy()\n\u001b[0;32m--> 222\u001b[0m \u001b[38;5;28mself\u001b[39m\u001b[38;5;241m.\u001b[39malpha \u001b[38;5;241m=\u001b[39m \u001b[43mnegamax_nr\u001b[49m\u001b[43m(\u001b[49m\n\u001b[1;32m    223\u001b[0m \u001b[43m    \u001b[49m\u001b[43mtemp\u001b[49m\u001b[43m,\u001b[49m\u001b[43m \u001b[49m\u001b[38;5;28;43mself\u001b[39;49m\u001b[38;5;241;43m.\u001b[39;49m\u001b[43mdepth\u001b[49m\u001b[43m,\u001b[49m\u001b[43m \u001b[49m\u001b[43mscoring\u001b[49m\u001b[43m,\u001b[49m\u001b[43m \u001b[49m\u001b[38;5;241;43m-\u001b[39;49m\u001b[38;5;28;43mself\u001b[39;49m\u001b[38;5;241;43m.\u001b[39;49m\u001b[43mwin_score\u001b[49m\u001b[43m,\u001b[49m\u001b[43m \u001b[49m\u001b[38;5;241;43m+\u001b[39;49m\u001b[38;5;28;43mself\u001b[39;49m\u001b[38;5;241;43m.\u001b[39;49m\u001b[43mwin_score\u001b[49m\n\u001b[1;32m    224\u001b[0m \u001b[43m\u001b[49m\u001b[43m)\u001b[49m\n\u001b[1;32m    225\u001b[0m \u001b[38;5;28;01mreturn\u001b[39;00m temp\u001b[38;5;241m.\u001b[39mai_move\n",
      "File \u001b[0;32m~/Desktop/SEM6/inteligencja obliczeniowa/inteligencja-obliczeniowa/lab1/easyAI/AI/NonRecursiveNegamax.py:128\u001b[0m, in \u001b[0;36mnegamax_nr\u001b[0;34m(game, target_depth, scoring, alpha, beta)\u001b[0m\n\u001b[1;32m    126\u001b[0m index \u001b[38;5;241m=\u001b[39m states[depth]\u001b[38;5;241m.\u001b[39mcurrent_move\n\u001b[1;32m    127\u001b[0m game\u001b[38;5;241m.\u001b[39mmake_move(states[depth]\u001b[38;5;241m.\u001b[39mmove_list[index])\n\u001b[0;32m--> 128\u001b[0m \u001b[43mgame\u001b[49m\u001b[38;5;241;43m.\u001b[39;49m\u001b[43mswitch_player\u001b[49m\u001b[43m(\u001b[49m\u001b[43m)\u001b[49m\n\u001b[1;32m    129\u001b[0m direction \u001b[38;5;241m=\u001b[39m DOWN\n\u001b[1;32m    130\u001b[0m depth \u001b[38;5;241m+\u001b[39m\u001b[38;5;241m=\u001b[39m \u001b[38;5;241m1\u001b[39m\n",
      "File \u001b[0;32m~/Desktop/SEM6/inteligencja obliczeniowa/inteligencja-obliczeniowa/lab1/easyAI/TwoPlayerGame.py:159\u001b[0m, in \u001b[0;36mTwoPlayerGame.switch_player\u001b[0;34m(self)\u001b[0m\n\u001b[1;32m    158\u001b[0m \u001b[38;5;28;01mdef\u001b[39;00m \u001b[38;5;21mswitch_player\u001b[39m(\u001b[38;5;28mself\u001b[39m):\n\u001b[0;32m--> 159\u001b[0m     \u001b[38;5;28mself\u001b[39m\u001b[38;5;241m.\u001b[39mcurrent_player \u001b[38;5;241m=\u001b[39m \u001b[38;5;28;43mself\u001b[39;49m\u001b[38;5;241;43m.\u001b[39;49m\u001b[43mopponent_index\u001b[49m\n",
      "File \u001b[0;32m~/Desktop/SEM6/inteligencja obliczeniowa/inteligencja-obliczeniowa/lab1/easyAI/TwoPlayerGame.py:146\u001b[0m, in \u001b[0;36mTwoPlayerGame.opponent_index\u001b[0;34m(self)\u001b[0m\n\u001b[1;32m    143\u001b[0m     \u001b[38;5;66;03m# return history\u001b[39;00m\n\u001b[1;32m    144\u001b[0m     \u001b[38;5;28;01mreturn\u001b[39;00m p1_think_time, p2_think_time\n\u001b[0;32m--> 146\u001b[0m \u001b[38;5;129m@property\u001b[39m\n\u001b[1;32m    147\u001b[0m \u001b[38;5;28;01mdef\u001b[39;00m \u001b[38;5;21mopponent_index\u001b[39m(\u001b[38;5;28mself\u001b[39m):\n\u001b[1;32m    148\u001b[0m     \u001b[38;5;28;01mreturn\u001b[39;00m \u001b[38;5;241m2\u001b[39m \u001b[38;5;28;01mif\u001b[39;00m (\u001b[38;5;28mself\u001b[39m\u001b[38;5;241m.\u001b[39mcurrent_player \u001b[38;5;241m==\u001b[39m \u001b[38;5;241m1\u001b[39m) \u001b[38;5;28;01melse\u001b[39;00m \u001b[38;5;241m1\u001b[39m\n\u001b[1;32m    150\u001b[0m \u001b[38;5;129m@property\u001b[39m\n\u001b[1;32m    151\u001b[0m \u001b[38;5;28;01mdef\u001b[39;00m \u001b[38;5;21mplayer\u001b[39m(\u001b[38;5;28mself\u001b[39m):\n",
      "\u001b[0;31mKeyboardInterrupt\u001b[0m: "
     ]
    }
   ],
   "source": [
    "# Win tracking dict\n",
    "results = {}\n",
    "\n",
    "depths = [3, 7]\n",
    "deterministic = [True, False]\n",
    "game_amount = 10\n",
    "\n",
    "for d1, d2 in tqdm([(d1, d2) for d1 in depths for d2 in depths], desc=\"Processing depths\"):\n",
    "    for det in tqdm(deterministic, desc=\"Processing deterministic\"):\n",
    "        # print(f\"depth1: {d1}, depth2: {d2} deterministic: {det}\")\n",
    "        \n",
    "        # Play 10 games and track the results\n",
    "        p1_wins = 0\n",
    "        p2_wins = 0\n",
    "        p1_avg_time = 0\n",
    "        p2_avg_time = 0\n",
    "\n",
    "        for x in tqdm(range(game_amount), desc=\"Playing games\"):\n",
    "            ai = NegamaxNoPruning(d1)\n",
    "            ai2 = NegamaxNoPruning(d2)\n",
    "            game = Nim(players=[AI_Player(ai), AI_Player(ai2)],\n",
    "                    deterministic=det,\n",
    "                    piles=[5,5,5,5])\n",
    "            p1_time, p2_time = game.play(verbose=False)\n",
    "            p1_avg_time += p1_time\n",
    "            p2_avg_time += p2_time\n",
    "            # print(\"\\nplayer %d wins\\n\" % game.current_player)\n",
    "            if game.current_player == 1:\n",
    "                p1_wins += 1\n",
    "            else:\n",
    "                p2_wins += 1 \n",
    "\n",
    "        p1_avg_time /= game_amount\n",
    "        p2_avg_time /= game_amount\n",
    "        results[(d1, d2, det)] = {\"p1_wins\": p1_wins,\n",
    "                                    \"p2_wins\": p2_wins,\n",
    "                                    \"p1_average_game_time\": p1_avg_time,\n",
    "                                    \"p2_average_game_time\": p2_avg_time} # Update the results\n",
    "\n",
    "print(results)"
   ]
  },
  {
   "cell_type": "markdown",
   "metadata": {},
   "source": [
    "# Non Recursive Negamax"
   ]
  },
  {
   "cell_type": "code",
   "execution_count": 6,
   "metadata": {},
   "outputs": [
    {
     "data": {
      "application/vnd.jupyter.widget-view+json": {
       "model_id": "062dce6c25d44b30b38f9f7fa99d9314",
       "version_major": 2,
       "version_minor": 0
      },
      "text/plain": [
       "Processing depths:   0%|          | 0/4 [00:00<?, ?it/s]"
      ]
     },
     "metadata": {},
     "output_type": "display_data"
    },
    {
     "data": {
      "application/vnd.jupyter.widget-view+json": {
       "model_id": "cf262d76e01c44c697c98b9e51b862be",
       "version_major": 2,
       "version_minor": 0
      },
      "text/plain": [
       "Processing deterministic:   0%|          | 0/2 [00:00<?, ?it/s]"
      ]
     },
     "metadata": {},
     "output_type": "display_data"
    },
    {
     "data": {
      "application/vnd.jupyter.widget-view+json": {
       "model_id": "2e4ab35983954347999d39ad36f1fdbe",
       "version_major": 2,
       "version_minor": 0
      },
      "text/plain": [
       "Playing games:   0%|          | 0/10 [00:00<?, ?it/s]"
      ]
     },
     "metadata": {},
     "output_type": "display_data"
    },
    {
     "data": {
      "application/vnd.jupyter.widget-view+json": {
       "model_id": "0805ed789f664bd8aa645af007c1a66d",
       "version_major": 2,
       "version_minor": 0
      },
      "text/plain": [
       "Playing games:   0%|          | 0/10 [00:00<?, ?it/s]"
      ]
     },
     "metadata": {},
     "output_type": "display_data"
    },
    {
     "data": {
      "application/vnd.jupyter.widget-view+json": {
       "model_id": "3c069775ebfd4e04b12b79284aa915f6",
       "version_major": 2,
       "version_minor": 0
      },
      "text/plain": [
       "Processing deterministic:   0%|          | 0/2 [00:00<?, ?it/s]"
      ]
     },
     "metadata": {},
     "output_type": "display_data"
    },
    {
     "data": {
      "application/vnd.jupyter.widget-view+json": {
       "model_id": "849b87aa875c4fc6933c9e5880821617",
       "version_major": 2,
       "version_minor": 0
      },
      "text/plain": [
       "Playing games:   0%|          | 0/10 [00:00<?, ?it/s]"
      ]
     },
     "metadata": {},
     "output_type": "display_data"
    },
    {
     "data": {
      "application/vnd.jupyter.widget-view+json": {
       "model_id": "376e5b9a495b4dbdaf239b96a4e48646",
       "version_major": 2,
       "version_minor": 0
      },
      "text/plain": [
       "Playing games:   0%|          | 0/10 [00:00<?, ?it/s]"
      ]
     },
     "metadata": {},
     "output_type": "display_data"
    },
    {
     "data": {
      "application/vnd.jupyter.widget-view+json": {
       "model_id": "284d1613b3ce405abf79392daa9abbd3",
       "version_major": 2,
       "version_minor": 0
      },
      "text/plain": [
       "Processing deterministic:   0%|          | 0/2 [00:00<?, ?it/s]"
      ]
     },
     "metadata": {},
     "output_type": "display_data"
    },
    {
     "data": {
      "application/vnd.jupyter.widget-view+json": {
       "model_id": "63e078af0e194a208945f8d9a63523e7",
       "version_major": 2,
       "version_minor": 0
      },
      "text/plain": [
       "Playing games:   0%|          | 0/10 [00:00<?, ?it/s]"
      ]
     },
     "metadata": {},
     "output_type": "display_data"
    },
    {
     "data": {
      "application/vnd.jupyter.widget-view+json": {
       "model_id": "00465b7f25da4c6d879eeffe0584fc89",
       "version_major": 2,
       "version_minor": 0
      },
      "text/plain": [
       "Playing games:   0%|          | 0/10 [00:00<?, ?it/s]"
      ]
     },
     "metadata": {},
     "output_type": "display_data"
    },
    {
     "data": {
      "application/vnd.jupyter.widget-view+json": {
       "model_id": "bd9c7a574ace4cd78b0315e2f60e8790",
       "version_major": 2,
       "version_minor": 0
      },
      "text/plain": [
       "Processing deterministic:   0%|          | 0/2 [00:00<?, ?it/s]"
      ]
     },
     "metadata": {},
     "output_type": "display_data"
    },
    {
     "data": {
      "application/vnd.jupyter.widget-view+json": {
       "model_id": "519fe739800c4e0396deba5dc34bf141",
       "version_major": 2,
       "version_minor": 0
      },
      "text/plain": [
       "Playing games:   0%|          | 0/10 [00:00<?, ?it/s]"
      ]
     },
     "metadata": {},
     "output_type": "display_data"
    },
    {
     "data": {
      "application/vnd.jupyter.widget-view+json": {
       "model_id": "f524357b7b2e4c7bbc8491056a2b0069",
       "version_major": 2,
       "version_minor": 0
      },
      "text/plain": [
       "Playing games:   0%|          | 0/10 [00:00<?, ?it/s]"
      ]
     },
     "metadata": {},
     "output_type": "display_data"
    },
    {
     "name": "stdout",
     "output_type": "stream",
     "text": [
      "{(3, 3, True): {'p1_wins': 0, 'p2_wins': 10, 'p1_average_game_time': 0.0005866637700012233, 'p2_average_game_time': 0.0005696205333341216}, (3, 3, False): {'p1_wins': 5, 'p2_wins': 5, 'p1_average_game_time': 0.000642666206672712, 'p2_average_game_time': 0.0005507926494922713}, (3, 7, True): {'p1_wins': 0, 'p2_wins': 10, 'p1_average_game_time': 0.0005234869399998842, 'p2_average_game_time': 0.033736884922223}, (3, 7, False): {'p1_wins': 2, 'p2_wins': 8, 'p1_average_game_time': 0.0005205774236326408, 'p2_average_game_time': 0.03318309763343451}, (7, 3, True): {'p1_wins': 10, 'p2_wins': 0, 'p1_average_game_time': 0.030836591211105872, 'p2_average_game_time': 0.00034715641110728433}, (7, 3, False): {'p1_wins': 8, 'p2_wins': 2, 'p1_average_game_time': 0.030318803274541607, 'p2_average_game_time': 0.0003519581877825809}, (7, 7, True): {'p1_wins': 0, 'p2_wins': 10, 'p1_average_game_time': 0.028017885389996312, 'p2_average_game_time': 0.023945174255559067}, (7, 7, False): {'p1_wins': 4, 'p2_wins': 6, 'p1_average_game_time': 0.028050057148482965, 'p2_average_game_time': 0.023709181558179644}}\n"
     ]
    }
   ],
   "source": [
    "# Win tracking dict\n",
    "results = {}\n",
    "\n",
    "depths = [3, 7]\n",
    "deterministic = [True, False]\n",
    "game_amount = 10\n",
    "\n",
    "for d1, d2 in tqdm([(d1, d2) for d1 in depths for d2 in depths], desc=\"Processing depths\"):\n",
    "    for det in tqdm(deterministic, desc=\"Processing deterministic\"):\n",
    "        # print(f\"depth1: {d1}, depth2: {d2} deterministic: {det}\")\n",
    "        \n",
    "        # Play 10 games and track the results\n",
    "        p1_wins = 0\n",
    "        p2_wins = 0\n",
    "        p1_avg_time = 0\n",
    "        p2_avg_time = 0\n",
    "\n",
    "        for x in tqdm(range(game_amount), desc=\"Playing games\"):\n",
    "            ai = NonRecursiveNegamax(d1)\n",
    "            ai2 = NonRecursiveNegamax(d2)\n",
    "            game = Nim(players=[AI_Player(ai), AI_Player(ai2)],\n",
    "                    deterministic=det,\n",
    "                    piles=[5,5,5,5])\n",
    "            p1_time, p2_time = game.play(verbose=False)\n",
    "            p1_avg_time += p1_time\n",
    "            p2_avg_time += p2_time\n",
    "            # print(\"\\nplayer %d wins\\n\" % game.current_player)\n",
    "            if game.current_player == 1:\n",
    "                p1_wins += 1\n",
    "            else:\n",
    "                p2_wins += 1 \n",
    "\n",
    "        p1_avg_time /= game_amount\n",
    "        p2_avg_time /= game_amount\n",
    "        results[(d1, d2, det)] = {\"p1_wins\": p1_wins,\n",
    "                                    \"p2_wins\": p2_wins,\n",
    "                                    \"p1_average_game_time\": p1_avg_time,\n",
    "                                    \"p2_average_game_time\": p2_avg_time} # Update the results\n",
    "\n",
    "print(results)"
   ]
  },
  {
   "cell_type": "markdown",
   "metadata": {},
   "source": [
    "# SSS"
   ]
  },
  {
   "cell_type": "code",
   "execution_count": 8,
   "metadata": {},
   "outputs": [
    {
     "data": {
      "application/vnd.jupyter.widget-view+json": {
       "model_id": "40896c2a74d448caa1a126c1d823e2ba",
       "version_major": 2,
       "version_minor": 0
      },
      "text/plain": [
       "Processing depths:   0%|          | 0/4 [00:00<?, ?it/s]"
      ]
     },
     "metadata": {},
     "output_type": "display_data"
    },
    {
     "data": {
      "application/vnd.jupyter.widget-view+json": {
       "model_id": "bca5f1b642974023bac3b7a32ce48839",
       "version_major": 2,
       "version_minor": 0
      },
      "text/plain": [
       "Processing deterministic:   0%|          | 0/2 [00:00<?, ?it/s]"
      ]
     },
     "metadata": {},
     "output_type": "display_data"
    },
    {
     "data": {
      "application/vnd.jupyter.widget-view+json": {
       "model_id": "0ab744e20ad541d693b0b67235dc9605",
       "version_major": 2,
       "version_minor": 0
      },
      "text/plain": [
       "Playing games:   0%|          | 0/10 [00:00<?, ?it/s]"
      ]
     },
     "metadata": {},
     "output_type": "display_data"
    },
    {
     "data": {
      "application/vnd.jupyter.widget-view+json": {
       "model_id": "a0655a6b44794b29a7b727554a340791",
       "version_major": 2,
       "version_minor": 0
      },
      "text/plain": [
       "Playing games:   0%|          | 0/10 [00:00<?, ?it/s]"
      ]
     },
     "metadata": {},
     "output_type": "display_data"
    },
    {
     "data": {
      "application/vnd.jupyter.widget-view+json": {
       "model_id": "90ea14186aed4b27a59b85a2612719dd",
       "version_major": 2,
       "version_minor": 0
      },
      "text/plain": [
       "Processing deterministic:   0%|          | 0/2 [00:00<?, ?it/s]"
      ]
     },
     "metadata": {},
     "output_type": "display_data"
    },
    {
     "data": {
      "application/vnd.jupyter.widget-view+json": {
       "model_id": "39d2f71108b6473c818d84632ecb7fb3",
       "version_major": 2,
       "version_minor": 0
      },
      "text/plain": [
       "Playing games:   0%|          | 0/10 [00:00<?, ?it/s]"
      ]
     },
     "metadata": {},
     "output_type": "display_data"
    },
    {
     "data": {
      "application/vnd.jupyter.widget-view+json": {
       "model_id": "38c8e0fcce1c46bcab95f0bf885d78ac",
       "version_major": 2,
       "version_minor": 0
      },
      "text/plain": [
       "Playing games:   0%|          | 0/10 [00:00<?, ?it/s]"
      ]
     },
     "metadata": {},
     "output_type": "display_data"
    },
    {
     "data": {
      "application/vnd.jupyter.widget-view+json": {
       "model_id": "0a84d13fac854f31b18469d6153051ca",
       "version_major": 2,
       "version_minor": 0
      },
      "text/plain": [
       "Processing deterministic:   0%|          | 0/2 [00:00<?, ?it/s]"
      ]
     },
     "metadata": {},
     "output_type": "display_data"
    },
    {
     "data": {
      "application/vnd.jupyter.widget-view+json": {
       "model_id": "edce176c36f543608cab14d4892d9cb7",
       "version_major": 2,
       "version_minor": 0
      },
      "text/plain": [
       "Playing games:   0%|          | 0/10 [00:00<?, ?it/s]"
      ]
     },
     "metadata": {},
     "output_type": "display_data"
    },
    {
     "data": {
      "application/vnd.jupyter.widget-view+json": {
       "model_id": "8dba16f5f38641969c9e7737da5ce966",
       "version_major": 2,
       "version_minor": 0
      },
      "text/plain": [
       "Playing games:   0%|          | 0/10 [00:00<?, ?it/s]"
      ]
     },
     "metadata": {},
     "output_type": "display_data"
    },
    {
     "data": {
      "application/vnd.jupyter.widget-view+json": {
       "model_id": "51efc1fd7e7c41ec9af9e033ed6f8a60",
       "version_major": 2,
       "version_minor": 0
      },
      "text/plain": [
       "Processing deterministic:   0%|          | 0/2 [00:00<?, ?it/s]"
      ]
     },
     "metadata": {},
     "output_type": "display_data"
    },
    {
     "data": {
      "application/vnd.jupyter.widget-view+json": {
       "model_id": "3144fb715e1c45388f78801f8c41f7a7",
       "version_major": 2,
       "version_minor": 0
      },
      "text/plain": [
       "Playing games:   0%|          | 0/10 [00:00<?, ?it/s]"
      ]
     },
     "metadata": {},
     "output_type": "display_data"
    },
    {
     "data": {
      "application/vnd.jupyter.widget-view+json": {
       "model_id": "0314a773f0ff43d78f587d3075ea0105",
       "version_major": 2,
       "version_minor": 0
      },
      "text/plain": [
       "Playing games:   0%|          | 0/10 [00:00<?, ?it/s]"
      ]
     },
     "metadata": {},
     "output_type": "display_data"
    },
    {
     "name": "stdout",
     "output_type": "stream",
     "text": [
      "{(3, 3, True): {'p1_wins': 0, 'p2_wins': 10, 'p1_average_game_time': 0.00048039088000336957, 'p2_average_game_time': 0.00046510045554997413}, (3, 3, False): {'p1_wins': 4, 'p2_wins': 6, 'p1_average_game_time': 0.0005971208192443445, 'p2_average_game_time': 0.0005542256237402402}, (3, 7, True): {'p1_wins': 0, 'p2_wins': 10, 'p1_average_game_time': 0.0004740234799885456, 'p2_average_game_time': 0.04528161925555625}, (3, 7, False): {'p1_wins': 2, 'p2_wins': 8, 'p1_average_game_time': 0.000454358709845475, 'p2_average_game_time': 0.04621399053909251}, (7, 3, True): {'p1_wins': 10, 'p2_wins': 0, 'p1_average_game_time': 0.038623570177771356, 'p2_average_game_time': 0.0003055983555491871}, (7, 3, False): {'p1_wins': 8, 'p2_wins': 2, 'p1_average_game_time': 0.03717148480313436, 'p2_average_game_time': 0.00031215994243158926}, (7, 7, True): {'p1_wins': 0, 'p2_wins': 10, 'p1_average_game_time': 0.04382637860000358, 'p2_average_game_time': 0.039978993828573756}, (7, 7, False): {'p1_wins': 2, 'p2_wins': 8, 'p1_average_game_time': 0.04042666604582969, 'p2_average_game_time': 0.03790280439464238}}\n"
     ]
    }
   ],
   "source": [
    "# Win tracking dict\n",
    "results = {}\n",
    "\n",
    "depths = [3, 7]\n",
    "deterministic = [True, False]\n",
    "game_amount = 10\n",
    "\n",
    "for d1, d2 in tqdm([(d1, d2) for d1 in depths for d2 in depths], desc=\"Processing depths\"):\n",
    "    for det in tqdm(deterministic, desc=\"Processing deterministic\"):\n",
    "        # print(f\"depth1: {d1}, depth2: {d2} deterministic: {det}\")\n",
    "        \n",
    "        # Play 10 games and track the results\n",
    "        p1_wins = 0\n",
    "        p2_wins = 0\n",
    "        p1_avg_time = 0\n",
    "        p2_avg_time = 0\n",
    "\n",
    "        for x in tqdm(range(game_amount), desc=\"Playing games\"):\n",
    "            ai = SSS(d1)\n",
    "            ai2 = SSS(d2)\n",
    "            game = Nim(players=[AI_Player(ai), AI_Player(ai2)],\n",
    "                    deterministic=det,\n",
    "                    piles=[5,5,5,5])\n",
    "            p1_time, p2_time = game.play(verbose=False)\n",
    "            p1_avg_time += p1_time\n",
    "            p2_avg_time += p2_time\n",
    "            # print(\"\\nplayer %d wins\\n\" % game.current_player)\n",
    "            if game.current_player == 1:\n",
    "                p1_wins += 1\n",
    "            else:\n",
    "                p2_wins += 1 \n",
    "\n",
    "        p1_avg_time /= game_amount\n",
    "        p2_avg_time /= game_amount\n",
    "        results[(d1, d2, det)] = {\"p1_wins\": p1_wins,\n",
    "                                    \"p2_wins\": p2_wins,\n",
    "                                    \"p1_average_game_time\": p1_avg_time,\n",
    "                                    \"p2_average_game_time\": p2_avg_time} # Update the results\n",
    "\n",
    "print(results)"
   ]
  },
  {
   "cell_type": "markdown",
   "metadata": {},
   "source": [
    "# Expectiminimax"
   ]
  },
  {
   "cell_type": "code",
   "execution_count": 3,
   "metadata": {},
   "outputs": [
    {
     "data": {
      "application/vnd.jupyter.widget-view+json": {
       "model_id": "fe2d5034024c46459898761c24bd71a9",
       "version_major": 2,
       "version_minor": 0
      },
      "text/plain": [
       "Processing depths:   0%|          | 0/4 [00:00<?, ?it/s]"
      ]
     },
     "metadata": {},
     "output_type": "display_data"
    },
    {
     "data": {
      "application/vnd.jupyter.widget-view+json": {
       "model_id": "96ff133d630d4c11bbffd0ba48a109bc",
       "version_major": 2,
       "version_minor": 0
      },
      "text/plain": [
       "Processing deterministic:   0%|          | 0/2 [00:00<?, ?it/s]"
      ]
     },
     "metadata": {},
     "output_type": "display_data"
    },
    {
     "data": {
      "application/vnd.jupyter.widget-view+json": {
       "model_id": "f8df74fa05784deabe8f9fa5dfb66b5f",
       "version_major": 2,
       "version_minor": 0
      },
      "text/plain": [
       "Playing games:   0%|          | 0/10 [00:00<?, ?it/s]"
      ]
     },
     "metadata": {},
     "output_type": "display_data"
    },
    {
     "data": {
      "application/vnd.jupyter.widget-view+json": {
       "model_id": "33b14ff06fda47e38ebae6e0957eb72c",
       "version_major": 2,
       "version_minor": 0
      },
      "text/plain": [
       "Playing games:   0%|          | 0/10 [00:00<?, ?it/s]"
      ]
     },
     "metadata": {},
     "output_type": "display_data"
    },
    {
     "data": {
      "application/vnd.jupyter.widget-view+json": {
       "model_id": "da4145e300374d4c9e94bedf65597e0c",
       "version_major": 2,
       "version_minor": 0
      },
      "text/plain": [
       "Processing deterministic:   0%|          | 0/2 [00:00<?, ?it/s]"
      ]
     },
     "metadata": {},
     "output_type": "display_data"
    },
    {
     "data": {
      "application/vnd.jupyter.widget-view+json": {
       "model_id": "620b5c462ece4838b15b2dec3fdc35a2",
       "version_major": 2,
       "version_minor": 0
      },
      "text/plain": [
       "Playing games:   0%|          | 0/10 [00:00<?, ?it/s]"
      ]
     },
     "metadata": {},
     "output_type": "display_data"
    },
    {
     "data": {
      "application/vnd.jupyter.widget-view+json": {
       "model_id": "18e9a9740c0848138889c6e4979c45f6",
       "version_major": 2,
       "version_minor": 0
      },
      "text/plain": [
       "Playing games:   0%|          | 0/10 [00:00<?, ?it/s]"
      ]
     },
     "metadata": {},
     "output_type": "display_data"
    },
    {
     "data": {
      "application/vnd.jupyter.widget-view+json": {
       "model_id": "816a2e006e3447ababe3046fe768e3c7",
       "version_major": 2,
       "version_minor": 0
      },
      "text/plain": [
       "Processing deterministic:   0%|          | 0/2 [00:00<?, ?it/s]"
      ]
     },
     "metadata": {},
     "output_type": "display_data"
    },
    {
     "data": {
      "application/vnd.jupyter.widget-view+json": {
       "model_id": "f3e24ee64e21447bb095b0403d5695b4",
       "version_major": 2,
       "version_minor": 0
      },
      "text/plain": [
       "Playing games:   0%|          | 0/10 [00:00<?, ?it/s]"
      ]
     },
     "metadata": {},
     "output_type": "display_data"
    },
    {
     "data": {
      "application/vnd.jupyter.widget-view+json": {
       "model_id": "3e0835a036c948aaab076b69261ccb95",
       "version_major": 2,
       "version_minor": 0
      },
      "text/plain": [
       "Playing games:   0%|          | 0/10 [00:00<?, ?it/s]"
      ]
     },
     "metadata": {},
     "output_type": "display_data"
    },
    {
     "data": {
      "application/vnd.jupyter.widget-view+json": {
       "model_id": "9094947d78774910a38440acc1f6ed2c",
       "version_major": 2,
       "version_minor": 0
      },
      "text/plain": [
       "Processing deterministic:   0%|          | 0/2 [00:00<?, ?it/s]"
      ]
     },
     "metadata": {},
     "output_type": "display_data"
    },
    {
     "data": {
      "application/vnd.jupyter.widget-view+json": {
       "model_id": "94492dfa464f42d6a345b30a3d53ad70",
       "version_major": 2,
       "version_minor": 0
      },
      "text/plain": [
       "Playing games:   0%|          | 0/10 [00:00<?, ?it/s]"
      ]
     },
     "metadata": {},
     "output_type": "display_data"
    },
    {
     "data": {
      "application/vnd.jupyter.widget-view+json": {
       "model_id": "2bd83a903ea0431097fc85c303f4690d",
       "version_major": 2,
       "version_minor": 0
      },
      "text/plain": [
       "Playing games:   0%|          | 0/10 [00:00<?, ?it/s]"
      ]
     },
     "metadata": {},
     "output_type": "display_data"
    },
    {
     "name": "stdout",
     "output_type": "stream",
     "text": [
      "{(3, 3, True): {'p1_wins': 0, 'p2_wins': 10, 'p1_average_game_time': 0.00044623370016779514, 'p2_average_game_time': 0.0004422345778948511}, (3, 3, False): {'p1_wins': 5, 'p2_wins': 5, 'p1_average_game_time': 0.002675226461293884, 'p2_average_game_time': 0.0025235621283643166}, (3, 7, True): {'p1_wins': 0, 'p2_wins': 10, 'p1_average_game_time': 0.000316273500029638, 'p2_average_game_time': 0.022827188000054677}, (3, 7, False): {'p1_wins': 3, 'p2_wins': 7, 'p1_average_game_time': 0.0022077372960043386, 'p2_average_game_time': 3.809995472198768}, (7, 3, True): {'p1_wins': 10, 'p2_wins': 0, 'p1_average_game_time': 0.029628635400048446, 'p2_average_game_time': 0.00032066074434422055}, (7, 3, False): {'p1_wins': 5, 'p2_wins': 5, 'p1_average_game_time': 4.283704106790841, 'p2_average_game_time': 0.002106719716818653}, (7, 7, True): {'p1_wins': 0, 'p2_wins': 10, 'p1_average_game_time': 0.026408791950052544, 'p2_average_game_time': 0.02294283265548276}, (7, 7, False): {'p1_wins': 5, 'p2_wins': 5, 'p1_average_game_time': 4.143147822535032, 'p2_average_game_time': 3.562363899281943}}\n"
     ]
    }
   ],
   "source": [
    "# Win tracking dict\n",
    "results = {}\n",
    "\n",
    "depths = [3, 7]\n",
    "deterministic = [True, False]\n",
    "game_amount = 10\n",
    "\n",
    "for d1, d2 in tqdm([(d1, d2) for d1 in depths for d2 in depths], desc=\"Processing depths\"):\n",
    "    for det in tqdm(deterministic, desc=\"Processing deterministic\"):\n",
    "        # print(f\"depth1: {d1}, depth2: {d2} deterministic: {det}\")\n",
    "        \n",
    "        # Play 10 games and track the results\n",
    "        p1_wins = 0\n",
    "        p2_wins = 0\n",
    "        p1_avg_time = 0\n",
    "        p2_avg_time = 0\n",
    "\n",
    "        for x in tqdm(range(game_amount), desc=\"Playing games\"):\n",
    "            ai = Expectiminimax(d1)\n",
    "            ai2 = Expectiminimax(d2)\n",
    "            game = Nim(players=[AI_Player(ai), AI_Player(ai2)],\n",
    "                    deterministic=det,\n",
    "                    piles=[5,5,5,5])\n",
    "            p1_time, p2_time = game.play(verbose=False)\n",
    "            p1_avg_time += p1_time\n",
    "            p2_avg_time += p2_time\n",
    "            # print(\"\\nplayer %d wins\\n\" % game.current_player)\n",
    "            if game.current_player == 1:\n",
    "                p1_wins += 1\n",
    "            else:\n",
    "                p2_wins += 1 \n",
    "\n",
    "        p1_avg_time /= game_amount\n",
    "        p2_avg_time /= game_amount\n",
    "        results[(d1, d2, det)] = {\"p1_wins\": p1_wins,\n",
    "                                    \"p2_wins\": p2_wins,\n",
    "                                    \"p1_average_game_time\": p1_avg_time,\n",
    "                                    \"p2_average_game_time\": p2_avg_time} # Update the results\n",
    "\n",
    "print(results)"
   ]
  },
  {
   "cell_type": "code",
   "execution_count": 3,
   "metadata": {},
   "outputs": [],
   "source": [
    "# read txt, it contains a dict, assign it to a variable\n",
    "with open(\"results/Negamax.txt\", \"r\") as file:\n",
    "    negamax_results = eval(file.read())\n",
    "with open(\"results/NegamaxNoPruning.txt\", \"r\") as file:\n",
    "    negamax_no_pruning_results = eval(file.read())\n",
    "with open(\"results/NonRecursiveNegamax.txt\", \"r\") as file:\n",
    "    non_recursive_negamax_results = eval(file.read())\n",
    "with open(\"results/SSS.txt\", \"r\") as file:\n",
    "    sss_results = eval(file.read())\n",
    "with open(\"results/Expectiminimax.txt\", \"r\") as file:\n",
    "    expectiminimax_results = eval(file.read())"
   ]
  },
  {
   "cell_type": "code",
   "execution_count": 4,
   "metadata": {},
   "outputs": [
    {
     "data": {
      "text/plain": [
       "dict_keys([(3, 3, True), (3, 3, False), (3, 7, True), (3, 7, False), (7, 3, True), (7, 3, False), (7, 7, True), (7, 7, False)])"
      ]
     },
     "execution_count": 4,
     "metadata": {},
     "output_type": "execute_result"
    }
   ],
   "source": [
    "negamax_results.keys()"
   ]
  },
  {
   "cell_type": "code",
   "execution_count": 5,
   "metadata": {},
   "outputs": [],
   "source": [
    "def prepare_dataframe(results, det, algorithm_name):\n",
    "    # Only take keys with deterministic = det, also remove the deterministic key\n",
    "    results = {k: v for k, v in results.items() if k[2] == det}\n",
    "    results = {k[:2]: v for k, v in results.items()}\n",
    "\n",
    "    # Convert to dataframes\n",
    "    df = pd.DataFrame(results)\n",
    "    # Swap rows with columns\n",
    "    df = df.transpose()\n",
    "    # Change column names\n",
    "    df.columns = [\"P1 wins\", \"P2 wins\", \"P1 average turn time\", \"P2 average turn time\"]\n",
    "    # Add column for the depth\n",
    "    df[\"Depth\"] = df.index\n",
    "    # Convert float to int\n",
    "    df[\"P1 wins\"] = df[\"P1 wins\"].astype(int)\n",
    "    df[\"P2 wins\"] = df[\"P2 wins\"].astype(int)\n",
    "    # Add column for the algorithm name\n",
    "    df[\"Algorithm\"] = algorithm_name\n",
    "    return df"
   ]
  },
  {
   "cell_type": "code",
   "execution_count": 8,
   "metadata": {},
   "outputs": [
    {
     "data": {
      "text/html": [
       "<div>\n",
       "<style scoped>\n",
       "    .dataframe tbody tr th:only-of-type {\n",
       "        vertical-align: middle;\n",
       "    }\n",
       "\n",
       "    .dataframe tbody tr th {\n",
       "        vertical-align: top;\n",
       "    }\n",
       "\n",
       "    .dataframe thead th {\n",
       "        text-align: right;\n",
       "    }\n",
       "</style>\n",
       "<table border=\"1\" class=\"dataframe\">\n",
       "  <thead>\n",
       "    <tr style=\"text-align: right;\">\n",
       "      <th></th>\n",
       "      <th>P1 wins</th>\n",
       "      <th>P2 wins</th>\n",
       "      <th>P1 average turn time</th>\n",
       "      <th>P2 average turn time</th>\n",
       "      <th>Depth</th>\n",
       "      <th>Algorithm</th>\n",
       "    </tr>\n",
       "  </thead>\n",
       "  <tbody>\n",
       "    <tr>\n",
       "      <th>0</th>\n",
       "      <td>0</td>\n",
       "      <td>10</td>\n",
       "      <td>0.000323</td>\n",
       "      <td>0.000326</td>\n",
       "      <td>(3, 3)</td>\n",
       "      <td>Negamax</td>\n",
       "    </tr>\n",
       "    <tr>\n",
       "      <th>1</th>\n",
       "      <td>0</td>\n",
       "      <td>10</td>\n",
       "      <td>0.000300</td>\n",
       "      <td>0.022325</td>\n",
       "      <td>(3, 7)</td>\n",
       "      <td>Negamax</td>\n",
       "    </tr>\n",
       "    <tr>\n",
       "      <th>2</th>\n",
       "      <td>10</td>\n",
       "      <td>0</td>\n",
       "      <td>0.028406</td>\n",
       "      <td>0.000323</td>\n",
       "      <td>(7, 3)</td>\n",
       "      <td>Negamax</td>\n",
       "    </tr>\n",
       "    <tr>\n",
       "      <th>3</th>\n",
       "      <td>0</td>\n",
       "      <td>10</td>\n",
       "      <td>0.023934</td>\n",
       "      <td>0.021653</td>\n",
       "      <td>(7, 7)</td>\n",
       "      <td>Negamax</td>\n",
       "    </tr>\n",
       "    <tr>\n",
       "      <th>4</th>\n",
       "      <td>0</td>\n",
       "      <td>10</td>\n",
       "      <td>0.002352</td>\n",
       "      <td>0.002235</td>\n",
       "      <td>(3, 3)</td>\n",
       "      <td>NegamaxNoPruning</td>\n",
       "    </tr>\n",
       "    <tr>\n",
       "      <th>5</th>\n",
       "      <td>0</td>\n",
       "      <td>10</td>\n",
       "      <td>0.002285</td>\n",
       "      <td>6.192901</td>\n",
       "      <td>(3, 7)</td>\n",
       "      <td>NegamaxNoPruning</td>\n",
       "    </tr>\n",
       "    <tr>\n",
       "      <th>6</th>\n",
       "      <td>10</td>\n",
       "      <td>0</td>\n",
       "      <td>9.457784</td>\n",
       "      <td>0.002167</td>\n",
       "      <td>(7, 3)</td>\n",
       "      <td>NegamaxNoPruning</td>\n",
       "    </tr>\n",
       "    <tr>\n",
       "      <th>7</th>\n",
       "      <td>0</td>\n",
       "      <td>10</td>\n",
       "      <td>8.437451</td>\n",
       "      <td>6.304129</td>\n",
       "      <td>(7, 7)</td>\n",
       "      <td>NegamaxNoPruning</td>\n",
       "    </tr>\n",
       "    <tr>\n",
       "      <th>8</th>\n",
       "      <td>0</td>\n",
       "      <td>10</td>\n",
       "      <td>0.000587</td>\n",
       "      <td>0.000570</td>\n",
       "      <td>(3, 3)</td>\n",
       "      <td>NonRecursiveNegamax</td>\n",
       "    </tr>\n",
       "    <tr>\n",
       "      <th>9</th>\n",
       "      <td>0</td>\n",
       "      <td>10</td>\n",
       "      <td>0.000523</td>\n",
       "      <td>0.033737</td>\n",
       "      <td>(3, 7)</td>\n",
       "      <td>NonRecursiveNegamax</td>\n",
       "    </tr>\n",
       "    <tr>\n",
       "      <th>10</th>\n",
       "      <td>10</td>\n",
       "      <td>0</td>\n",
       "      <td>0.030837</td>\n",
       "      <td>0.000347</td>\n",
       "      <td>(7, 3)</td>\n",
       "      <td>NonRecursiveNegamax</td>\n",
       "    </tr>\n",
       "    <tr>\n",
       "      <th>11</th>\n",
       "      <td>0</td>\n",
       "      <td>10</td>\n",
       "      <td>0.028018</td>\n",
       "      <td>0.023945</td>\n",
       "      <td>(7, 7)</td>\n",
       "      <td>NonRecursiveNegamax</td>\n",
       "    </tr>\n",
       "    <tr>\n",
       "      <th>12</th>\n",
       "      <td>0</td>\n",
       "      <td>10</td>\n",
       "      <td>0.000480</td>\n",
       "      <td>0.000465</td>\n",
       "      <td>(3, 3)</td>\n",
       "      <td>SSS</td>\n",
       "    </tr>\n",
       "    <tr>\n",
       "      <th>13</th>\n",
       "      <td>0</td>\n",
       "      <td>10</td>\n",
       "      <td>0.000474</td>\n",
       "      <td>0.045282</td>\n",
       "      <td>(3, 7)</td>\n",
       "      <td>SSS</td>\n",
       "    </tr>\n",
       "    <tr>\n",
       "      <th>14</th>\n",
       "      <td>10</td>\n",
       "      <td>0</td>\n",
       "      <td>0.038624</td>\n",
       "      <td>0.000306</td>\n",
       "      <td>(7, 3)</td>\n",
       "      <td>SSS</td>\n",
       "    </tr>\n",
       "    <tr>\n",
       "      <th>15</th>\n",
       "      <td>0</td>\n",
       "      <td>10</td>\n",
       "      <td>0.043826</td>\n",
       "      <td>0.039979</td>\n",
       "      <td>(7, 7)</td>\n",
       "      <td>SSS</td>\n",
       "    </tr>\n",
       "    <tr>\n",
       "      <th>16</th>\n",
       "      <td>0</td>\n",
       "      <td>10</td>\n",
       "      <td>0.000446</td>\n",
       "      <td>0.000442</td>\n",
       "      <td>(3, 3)</td>\n",
       "      <td>Expectiminimax</td>\n",
       "    </tr>\n",
       "    <tr>\n",
       "      <th>17</th>\n",
       "      <td>0</td>\n",
       "      <td>10</td>\n",
       "      <td>0.000316</td>\n",
       "      <td>0.022827</td>\n",
       "      <td>(3, 7)</td>\n",
       "      <td>Expectiminimax</td>\n",
       "    </tr>\n",
       "    <tr>\n",
       "      <th>18</th>\n",
       "      <td>10</td>\n",
       "      <td>0</td>\n",
       "      <td>0.029629</td>\n",
       "      <td>0.000321</td>\n",
       "      <td>(7, 3)</td>\n",
       "      <td>Expectiminimax</td>\n",
       "    </tr>\n",
       "    <tr>\n",
       "      <th>19</th>\n",
       "      <td>0</td>\n",
       "      <td>10</td>\n",
       "      <td>0.026409</td>\n",
       "      <td>0.022943</td>\n",
       "      <td>(7, 7)</td>\n",
       "      <td>Expectiminimax</td>\n",
       "    </tr>\n",
       "  </tbody>\n",
       "</table>\n",
       "</div>"
      ],
      "text/plain": [
       "    P1 wins  P2 wins  P1 average turn time  P2 average turn time   Depth  \\\n",
       "0         0       10              0.000323              0.000326  (3, 3)   \n",
       "1         0       10              0.000300              0.022325  (3, 7)   \n",
       "2        10        0              0.028406              0.000323  (7, 3)   \n",
       "3         0       10              0.023934              0.021653  (7, 7)   \n",
       "4         0       10              0.002352              0.002235  (3, 3)   \n",
       "5         0       10              0.002285              6.192901  (3, 7)   \n",
       "6        10        0              9.457784              0.002167  (7, 3)   \n",
       "7         0       10              8.437451              6.304129  (7, 7)   \n",
       "8         0       10              0.000587              0.000570  (3, 3)   \n",
       "9         0       10              0.000523              0.033737  (3, 7)   \n",
       "10       10        0              0.030837              0.000347  (7, 3)   \n",
       "11        0       10              0.028018              0.023945  (7, 7)   \n",
       "12        0       10              0.000480              0.000465  (3, 3)   \n",
       "13        0       10              0.000474              0.045282  (3, 7)   \n",
       "14       10        0              0.038624              0.000306  (7, 3)   \n",
       "15        0       10              0.043826              0.039979  (7, 7)   \n",
       "16        0       10              0.000446              0.000442  (3, 3)   \n",
       "17        0       10              0.000316              0.022827  (3, 7)   \n",
       "18       10        0              0.029629              0.000321  (7, 3)   \n",
       "19        0       10              0.026409              0.022943  (7, 7)   \n",
       "\n",
       "              Algorithm  \n",
       "0               Negamax  \n",
       "1               Negamax  \n",
       "2               Negamax  \n",
       "3               Negamax  \n",
       "4      NegamaxNoPruning  \n",
       "5      NegamaxNoPruning  \n",
       "6      NegamaxNoPruning  \n",
       "7      NegamaxNoPruning  \n",
       "8   NonRecursiveNegamax  \n",
       "9   NonRecursiveNegamax  \n",
       "10  NonRecursiveNegamax  \n",
       "11  NonRecursiveNegamax  \n",
       "12                  SSS  \n",
       "13                  SSS  \n",
       "14                  SSS  \n",
       "15                  SSS  \n",
       "16       Expectiminimax  \n",
       "17       Expectiminimax  \n",
       "18       Expectiminimax  \n",
       "19       Expectiminimax  "
      ]
     },
     "execution_count": 8,
     "metadata": {},
     "output_type": "execute_result"
    }
   ],
   "source": [
    "# Append all deterministic dataframes together\n",
    "df_deterministic = pd.concat([prepare_dataframe(negamax_results, True, \"Negamax\"),\n",
    "                prepare_dataframe(negamax_no_pruning_results, True, \"NegamaxNoPruning\"),\n",
    "                prepare_dataframe(non_recursive_negamax_results, True, \"NonRecursiveNegamax\"),\n",
    "                prepare_dataframe(sss_results, True, \"SSS\"),\n",
    "                prepare_dataframe(expectiminimax_results, True, \"Expectiminimax\")])\n",
    "\n",
    "df_deterministic.reset_index(drop=True, inplace=True)\n",
    "df_deterministic"
   ]
  },
  {
   "cell_type": "code",
   "execution_count": 10,
   "metadata": {},
   "outputs": [
    {
     "data": {
      "text/html": [
       "<div>\n",
       "<style scoped>\n",
       "    .dataframe tbody tr th:only-of-type {\n",
       "        vertical-align: middle;\n",
       "    }\n",
       "\n",
       "    .dataframe tbody tr th {\n",
       "        vertical-align: top;\n",
       "    }\n",
       "\n",
       "    .dataframe thead th {\n",
       "        text-align: right;\n",
       "    }\n",
       "</style>\n",
       "<table border=\"1\" class=\"dataframe\">\n",
       "  <thead>\n",
       "    <tr style=\"text-align: right;\">\n",
       "      <th></th>\n",
       "      <th>P1 wins</th>\n",
       "      <th>P2 wins</th>\n",
       "      <th>P1 average turn time</th>\n",
       "      <th>P2 average turn time</th>\n",
       "      <th>Depth</th>\n",
       "      <th>Algorithm</th>\n",
       "    </tr>\n",
       "  </thead>\n",
       "  <tbody>\n",
       "    <tr>\n",
       "      <th>0</th>\n",
       "      <td>1</td>\n",
       "      <td>9</td>\n",
       "      <td>0.000377</td>\n",
       "      <td>0.000378</td>\n",
       "      <td>(3, 3)</td>\n",
       "      <td>Negamax</td>\n",
       "    </tr>\n",
       "    <tr>\n",
       "      <th>1</th>\n",
       "      <td>3</td>\n",
       "      <td>7</td>\n",
       "      <td>0.000317</td>\n",
       "      <td>0.022761</td>\n",
       "      <td>(3, 7)</td>\n",
       "      <td>Negamax</td>\n",
       "    </tr>\n",
       "    <tr>\n",
       "      <th>2</th>\n",
       "      <td>7</td>\n",
       "      <td>3</td>\n",
       "      <td>0.025529</td>\n",
       "      <td>0.000292</td>\n",
       "      <td>(7, 3)</td>\n",
       "      <td>Negamax</td>\n",
       "    </tr>\n",
       "    <tr>\n",
       "      <th>3</th>\n",
       "      <td>5</td>\n",
       "      <td>5</td>\n",
       "      <td>0.024704</td>\n",
       "      <td>0.021459</td>\n",
       "      <td>(7, 7)</td>\n",
       "      <td>Negamax</td>\n",
       "    </tr>\n",
       "    <tr>\n",
       "      <th>4</th>\n",
       "      <td>6</td>\n",
       "      <td>4</td>\n",
       "      <td>0.002165</td>\n",
       "      <td>0.001970</td>\n",
       "      <td>(3, 3)</td>\n",
       "      <td>NegamaxNoPruning</td>\n",
       "    </tr>\n",
       "    <tr>\n",
       "      <th>5</th>\n",
       "      <td>4</td>\n",
       "      <td>6</td>\n",
       "      <td>0.002478</td>\n",
       "      <td>6.702793</td>\n",
       "      <td>(3, 7)</td>\n",
       "      <td>NegamaxNoPruning</td>\n",
       "    </tr>\n",
       "    <tr>\n",
       "      <th>6</th>\n",
       "      <td>8</td>\n",
       "      <td>2</td>\n",
       "      <td>9.432900</td>\n",
       "      <td>0.002168</td>\n",
       "      <td>(7, 3)</td>\n",
       "      <td>NegamaxNoPruning</td>\n",
       "    </tr>\n",
       "    <tr>\n",
       "      <th>7</th>\n",
       "      <td>5</td>\n",
       "      <td>5</td>\n",
       "      <td>9.085430</td>\n",
       "      <td>7.044955</td>\n",
       "      <td>(7, 7)</td>\n",
       "      <td>NegamaxNoPruning</td>\n",
       "    </tr>\n",
       "    <tr>\n",
       "      <th>8</th>\n",
       "      <td>5</td>\n",
       "      <td>5</td>\n",
       "      <td>0.000643</td>\n",
       "      <td>0.000551</td>\n",
       "      <td>(3, 3)</td>\n",
       "      <td>NonRecursiveNegamax</td>\n",
       "    </tr>\n",
       "    <tr>\n",
       "      <th>9</th>\n",
       "      <td>2</td>\n",
       "      <td>8</td>\n",
       "      <td>0.000521</td>\n",
       "      <td>0.033183</td>\n",
       "      <td>(3, 7)</td>\n",
       "      <td>NonRecursiveNegamax</td>\n",
       "    </tr>\n",
       "    <tr>\n",
       "      <th>10</th>\n",
       "      <td>8</td>\n",
       "      <td>2</td>\n",
       "      <td>0.030319</td>\n",
       "      <td>0.000352</td>\n",
       "      <td>(7, 3)</td>\n",
       "      <td>NonRecursiveNegamax</td>\n",
       "    </tr>\n",
       "    <tr>\n",
       "      <th>11</th>\n",
       "      <td>4</td>\n",
       "      <td>6</td>\n",
       "      <td>0.028050</td>\n",
       "      <td>0.023709</td>\n",
       "      <td>(7, 7)</td>\n",
       "      <td>NonRecursiveNegamax</td>\n",
       "    </tr>\n",
       "    <tr>\n",
       "      <th>12</th>\n",
       "      <td>4</td>\n",
       "      <td>6</td>\n",
       "      <td>0.000597</td>\n",
       "      <td>0.000554</td>\n",
       "      <td>(3, 3)</td>\n",
       "      <td>SSS</td>\n",
       "    </tr>\n",
       "    <tr>\n",
       "      <th>13</th>\n",
       "      <td>2</td>\n",
       "      <td>8</td>\n",
       "      <td>0.000454</td>\n",
       "      <td>0.046214</td>\n",
       "      <td>(3, 7)</td>\n",
       "      <td>SSS</td>\n",
       "    </tr>\n",
       "    <tr>\n",
       "      <th>14</th>\n",
       "      <td>8</td>\n",
       "      <td>2</td>\n",
       "      <td>0.037171</td>\n",
       "      <td>0.000312</td>\n",
       "      <td>(7, 3)</td>\n",
       "      <td>SSS</td>\n",
       "    </tr>\n",
       "    <tr>\n",
       "      <th>15</th>\n",
       "      <td>2</td>\n",
       "      <td>8</td>\n",
       "      <td>0.040427</td>\n",
       "      <td>0.037903</td>\n",
       "      <td>(7, 7)</td>\n",
       "      <td>SSS</td>\n",
       "    </tr>\n",
       "    <tr>\n",
       "      <th>16</th>\n",
       "      <td>5</td>\n",
       "      <td>5</td>\n",
       "      <td>0.002675</td>\n",
       "      <td>0.002524</td>\n",
       "      <td>(3, 3)</td>\n",
       "      <td>Expectiminimax</td>\n",
       "    </tr>\n",
       "    <tr>\n",
       "      <th>17</th>\n",
       "      <td>3</td>\n",
       "      <td>7</td>\n",
       "      <td>0.002208</td>\n",
       "      <td>3.809995</td>\n",
       "      <td>(3, 7)</td>\n",
       "      <td>Expectiminimax</td>\n",
       "    </tr>\n",
       "    <tr>\n",
       "      <th>18</th>\n",
       "      <td>5</td>\n",
       "      <td>5</td>\n",
       "      <td>4.283704</td>\n",
       "      <td>0.002107</td>\n",
       "      <td>(7, 3)</td>\n",
       "      <td>Expectiminimax</td>\n",
       "    </tr>\n",
       "    <tr>\n",
       "      <th>19</th>\n",
       "      <td>5</td>\n",
       "      <td>5</td>\n",
       "      <td>4.143148</td>\n",
       "      <td>3.562364</td>\n",
       "      <td>(7, 7)</td>\n",
       "      <td>Expectiminimax</td>\n",
       "    </tr>\n",
       "  </tbody>\n",
       "</table>\n",
       "</div>"
      ],
      "text/plain": [
       "    P1 wins  P2 wins  P1 average turn time  P2 average turn time   Depth  \\\n",
       "0         1        9              0.000377              0.000378  (3, 3)   \n",
       "1         3        7              0.000317              0.022761  (3, 7)   \n",
       "2         7        3              0.025529              0.000292  (7, 3)   \n",
       "3         5        5              0.024704              0.021459  (7, 7)   \n",
       "4         6        4              0.002165              0.001970  (3, 3)   \n",
       "5         4        6              0.002478              6.702793  (3, 7)   \n",
       "6         8        2              9.432900              0.002168  (7, 3)   \n",
       "7         5        5              9.085430              7.044955  (7, 7)   \n",
       "8         5        5              0.000643              0.000551  (3, 3)   \n",
       "9         2        8              0.000521              0.033183  (3, 7)   \n",
       "10        8        2              0.030319              0.000352  (7, 3)   \n",
       "11        4        6              0.028050              0.023709  (7, 7)   \n",
       "12        4        6              0.000597              0.000554  (3, 3)   \n",
       "13        2        8              0.000454              0.046214  (3, 7)   \n",
       "14        8        2              0.037171              0.000312  (7, 3)   \n",
       "15        2        8              0.040427              0.037903  (7, 7)   \n",
       "16        5        5              0.002675              0.002524  (3, 3)   \n",
       "17        3        7              0.002208              3.809995  (3, 7)   \n",
       "18        5        5              4.283704              0.002107  (7, 3)   \n",
       "19        5        5              4.143148              3.562364  (7, 7)   \n",
       "\n",
       "              Algorithm  \n",
       "0               Negamax  \n",
       "1               Negamax  \n",
       "2               Negamax  \n",
       "3               Negamax  \n",
       "4      NegamaxNoPruning  \n",
       "5      NegamaxNoPruning  \n",
       "6      NegamaxNoPruning  \n",
       "7      NegamaxNoPruning  \n",
       "8   NonRecursiveNegamax  \n",
       "9   NonRecursiveNegamax  \n",
       "10  NonRecursiveNegamax  \n",
       "11  NonRecursiveNegamax  \n",
       "12                  SSS  \n",
       "13                  SSS  \n",
       "14                  SSS  \n",
       "15                  SSS  \n",
       "16       Expectiminimax  \n",
       "17       Expectiminimax  \n",
       "18       Expectiminimax  \n",
       "19       Expectiminimax  "
      ]
     },
     "execution_count": 10,
     "metadata": {},
     "output_type": "execute_result"
    }
   ],
   "source": [
    "# Append all non-deterministic dataframes together\n",
    "df_non_deterministic = pd.concat([prepare_dataframe(negamax_results, False, \"Negamax\"),\n",
    "                prepare_dataframe(negamax_no_pruning_results, False, \"NegamaxNoPruning\"),\n",
    "                prepare_dataframe(non_recursive_negamax_results, False, \"NonRecursiveNegamax\"),\n",
    "                prepare_dataframe(sss_results, False, \"SSS\"),\n",
    "                prepare_dataframe(expectiminimax_results, False, \"Expectiminimax\")])\n",
    "\n",
    "df_non_deterministic.reset_index(drop=True, inplace=True)\n",
    "df_non_deterministic"
   ]
  },
  {
   "cell_type": "code",
   "execution_count": 18,
   "metadata": {},
   "outputs": [],
   "source": [
    "# Convert to csv\n",
    "df_deterministic.to_csv(\"results/deterministic.csv\", index=False, sep=\";\")\n",
    "df_non_deterministic.to_csv(\"results/non_deterministic.csv\", index=False, sep=\";\")"
   ]
  },
  {
   "cell_type": "code",
   "execution_count": null,
   "metadata": {},
   "outputs": [],
   "source": []
  }
 ],
 "metadata": {
  "kernelspec": {
   "display_name": "intobl",
   "language": "python",
   "name": "python3"
  },
  "language_info": {
   "codemirror_mode": {
    "name": "ipython",
    "version": 3
   },
   "file_extension": ".py",
   "mimetype": "text/x-python",
   "name": "python",
   "nbconvert_exporter": "python",
   "pygments_lexer": "ipython3",
   "version": "3.11.7"
  }
 },
 "nbformat": 4,
 "nbformat_minor": 2
}
