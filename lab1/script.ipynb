{
 "cells": [
  {
   "cell_type": "markdown",
   "metadata": {},
   "source": [
    "# EasyAI\n",
    "### Autorzy: Jakub Kot, Dawid Małecki"
   ]
  },
  {
   "cell_type": "markdown",
   "metadata": {},
   "source": [
    "## Cel ćwiczenia\n",
    "Nauka podstawowych algorytmów decyzyjnych i ich porównanie na przykładzie gry w nim."
   ]
  },
  {
   "cell_type": "markdown",
   "metadata": {},
   "source": [
    "## Opis problemu\n",
    "Implementacja i porównanie algorytmów decyzyjnych na przykładzie gry w probabilistyczną wersję nim (każdy ruch ma 10% szans na zabranie o jeden mniej przedmiot ze stosu)"
   ]
  },
  {
   "cell_type": "markdown",
   "metadata": {},
   "source": [
    "## Realizacja rozwiązania\n",
    "Zaimplementowano algorytmy decyzyjne w języku Python z pomocą biblioteki EasyAI, a następnie porównano wyniki."
   ]
  },
  {
   "cell_type": "markdown",
   "metadata": {},
   "source": [
    "## Podjęte próby rozwiązania\n",
    "- Wzięcie gotowej gry Nim oraz algorytmu Negamax z biblioteki easyAI\n",
    "- Dodanie niedeterministyczności do gry\n",
    "- Usunięcie alfa beta pruning z algorytmu Negamax\n",
    "- Przetestowanie algorytmu Negamax na różnych głębokościach (ostatecznie zdecydowaliśmy się na maksymalną głębokość równą 7, bo dla większych czas obliczeń stawał się zdecydowanie zbyt długi)\n",
    "- Przetestowanie algorytmu State Space Search\n",
    "- Modyfikacja algorytmu Negamax na algorytm Expectiminimax\n",
    "- Porównanie wyników z innymi algorytmami\n",
    "- Prezentacja z wykorzystaniem wykresów"
   ]
  },
  {
   "cell_type": "code",
   "execution_count": 18,
   "metadata": {},
   "outputs": [],
   "source": [
    "from easyAI.AI import NegamaxNoPruning\n",
    "from easyAI import TwoPlayerGame, Human_Player, AI_Player, Negamax, NegamaxNoPruning, NonRecursiveNegamax, SSS, Expectiminimax, TranspositionTable\n",
    "import random\n",
    "from tqdm.auto import tqdm\n",
    "import pandas as pd"
   ]
  },
  {
   "cell_type": "markdown",
   "metadata": {},
   "source": [
    "### Implementacja nim z niedeterministycznością\n",
    "Kod bazowany na przykładowym kodzie z dokumentacji EasyAI"
   ]
  },
  {
   "cell_type": "code",
   "execution_count": 19,
   "metadata": {},
   "outputs": [],
   "source": [
    "class Nim(TwoPlayerGame):\n",
    "    def __init__(self, players, piles = [5, 5, 5, 5], deterministic = False):\n",
    "        self.piles = piles\n",
    "        self.players = players\n",
    "        self.nplayer = 1\n",
    "        self.current_player = 1\n",
    "        self.deterministic = deterministic\n",
    "    \n",
    "    def possible_moves(self):\n",
    "        moves = [\"%d,%d\" % (i + 1, j) for i in range(len(self.piles)) for j in range(1, self.piles[i] + 1)]\n",
    "        return moves\n",
    "    \n",
    "    def make_final_move(self, move):\n",
    "        pile, count = move.split(\",\")\n",
    "        extra = 1 if random.randint(1, 10) == 1 and not self.deterministic else 0\n",
    "        self.piles[int(pile) - 1] -= int(count) - extra\n",
    "        return extra\n",
    "    \n",
    "    def make_move(self, move):\n",
    "        pile, count = move.split(\",\")\n",
    "        self.piles[int(pile) - 1] -= int(count)\n",
    "\n",
    "    def unmake_move(self, move): # optional method (speeds up the AI)\n",
    "        pile, count = move.split(\",\")\n",
    "        self.piles[int(pile) - 1] += int(count)\n",
    "\n",
    "    def show(self): print(\" \".join(map(str, self.piles)))\n",
    "\n",
    "    def win(self): return max(self.piles) == 0\n",
    "\n",
    "    def is_over(self): return self.win()\n",
    "\n",
    "    def scoring(self): return 100 if self.win() else 0\n",
    "\n",
    "    def ttentry(self): return tuple(self.piles) #optional, speeds up AI\n",
    "\n",
    "    def ttrestore(self, entry): self.piles = list(entry)"
   ]
  },
  {
   "cell_type": "markdown",
   "metadata": {},
   "source": [
    "Wszystkie algorytmy są zrobione osobno, bo przy próbie ufuunkcjonowania ich w jednym pliku biblioteka EasyAI nie chciała współpracować."
   ]
  },
  {
   "cell_type": "markdown",
   "metadata": {},
   "source": [
    "# Negamax\n",
    "Gotowy algorytm z biblioteki EasyAI"
   ]
  },
  {
   "cell_type": "code",
   "execution_count": 20,
   "metadata": {},
   "outputs": [
    {
     "data": {
      "application/vnd.jupyter.widget-view+json": {
       "model_id": "92d23c35a15f46489bfcbdf1ca955f23",
       "version_major": 2,
       "version_minor": 0
      },
      "text/plain": [
       "Processing depths:   0%|          | 0/4 [00:00<?, ?it/s]"
      ]
     },
     "metadata": {},
     "output_type": "display_data"
    },
    {
     "data": {
      "application/vnd.jupyter.widget-view+json": {
       "model_id": "4098041f88b74c47b15254a4ec96b7d0",
       "version_major": 2,
       "version_minor": 0
      },
      "text/plain": [
       "Processing deterministic:   0%|          | 0/2 [00:00<?, ?it/s]"
      ]
     },
     "metadata": {},
     "output_type": "display_data"
    },
    {
     "data": {
      "application/vnd.jupyter.widget-view+json": {
       "model_id": "ff6a6f5d742648718ab1aa300a31e92f",
       "version_major": 2,
       "version_minor": 0
      },
      "text/plain": [
       "Playing games:   0%|          | 0/50 [00:00<?, ?it/s]"
      ]
     },
     "metadata": {},
     "output_type": "display_data"
    },
    {
     "data": {
      "application/vnd.jupyter.widget-view+json": {
       "model_id": "dcdfbed9e9e843a1a871fbb22f7d496e",
       "version_major": 2,
       "version_minor": 0
      },
      "text/plain": [
       "Playing games:   0%|          | 0/50 [00:00<?, ?it/s]"
      ]
     },
     "metadata": {},
     "output_type": "display_data"
    },
    {
     "data": {
      "application/vnd.jupyter.widget-view+json": {
       "model_id": "fe460ca618354fb2acdd760e90141f9e",
       "version_major": 2,
       "version_minor": 0
      },
      "text/plain": [
       "Processing deterministic:   0%|          | 0/2 [00:00<?, ?it/s]"
      ]
     },
     "metadata": {},
     "output_type": "display_data"
    },
    {
     "data": {
      "application/vnd.jupyter.widget-view+json": {
       "model_id": "f082102140d34fdfbfe346da5828391f",
       "version_major": 2,
       "version_minor": 0
      },
      "text/plain": [
       "Playing games:   0%|          | 0/50 [00:00<?, ?it/s]"
      ]
     },
     "metadata": {},
     "output_type": "display_data"
    },
    {
     "data": {
      "application/vnd.jupyter.widget-view+json": {
       "model_id": "ba20549aa9b14f75950cbd5d02de9ec8",
       "version_major": 2,
       "version_minor": 0
      },
      "text/plain": [
       "Playing games:   0%|          | 0/50 [00:00<?, ?it/s]"
      ]
     },
     "metadata": {},
     "output_type": "display_data"
    },
    {
     "data": {
      "application/vnd.jupyter.widget-view+json": {
       "model_id": "2f381749aac9437ebe4a927e31a8357b",
       "version_major": 2,
       "version_minor": 0
      },
      "text/plain": [
       "Processing deterministic:   0%|          | 0/2 [00:00<?, ?it/s]"
      ]
     },
     "metadata": {},
     "output_type": "display_data"
    },
    {
     "data": {
      "application/vnd.jupyter.widget-view+json": {
       "model_id": "7e2f2be38f724919bb4b8870867b7711",
       "version_major": 2,
       "version_minor": 0
      },
      "text/plain": [
       "Playing games:   0%|          | 0/50 [00:00<?, ?it/s]"
      ]
     },
     "metadata": {},
     "output_type": "display_data"
    },
    {
     "data": {
      "application/vnd.jupyter.widget-view+json": {
       "model_id": "b8661d95e6924bd886f897cf8161a35b",
       "version_major": 2,
       "version_minor": 0
      },
      "text/plain": [
       "Playing games:   0%|          | 0/50 [00:00<?, ?it/s]"
      ]
     },
     "metadata": {},
     "output_type": "display_data"
    },
    {
     "data": {
      "application/vnd.jupyter.widget-view+json": {
       "model_id": "96413d7399bd45309016c11734ce6127",
       "version_major": 2,
       "version_minor": 0
      },
      "text/plain": [
       "Processing deterministic:   0%|          | 0/2 [00:00<?, ?it/s]"
      ]
     },
     "metadata": {},
     "output_type": "display_data"
    },
    {
     "data": {
      "application/vnd.jupyter.widget-view+json": {
       "model_id": "3cab963bd9cf4e5d9b453a754fb8e031",
       "version_major": 2,
       "version_minor": 0
      },
      "text/plain": [
       "Playing games:   0%|          | 0/50 [00:00<?, ?it/s]"
      ]
     },
     "metadata": {},
     "output_type": "display_data"
    },
    {
     "data": {
      "application/vnd.jupyter.widget-view+json": {
       "model_id": "01dfda55c977490da4fa3f50f9c30ab1",
       "version_major": 2,
       "version_minor": 0
      },
      "text/plain": [
       "Playing games:   0%|          | 0/50 [00:00<?, ?it/s]"
      ]
     },
     "metadata": {},
     "output_type": "display_data"
    },
    {
     "name": "stdout",
     "output_type": "stream",
     "text": [
      "{(3, 3, True): {'p1_wins': 0, 'p2_wins': 50, 'p1_average_game_time': 0.0003435043999967194, 'p2_average_game_time': 0.00035515913749918583}, (3, 3, False): {'p1_wins': 24, 'p2_wins': 26, 'p1_average_game_time': 0.00034076778438257036, 'p2_average_game_time': 0.00033125076539076504}, (3, 7, True): {'p1_wins': 0, 'p2_wins': 50, 'p1_average_game_time': 0.00034589249600003313, 'p2_average_game_time': 0.004125249486664365}, (3, 7, False): {'p1_wins': 16, 'p2_wins': 34, 'p1_average_game_time': 0.0003392964542695637, 'p2_average_game_time': 0.003883995833568999}, (7, 3, True): {'p1_wins': 50, 'p2_wins': 0, 'p1_average_game_time': 0.004647320288889003, 'p2_average_game_time': 0.00031834327333096253}, (7, 3, False): {'p1_wins': 30, 'p2_wins': 20, 'p1_average_game_time': 0.004448451906849375, 'p2_average_game_time': 0.0003208401728263354}, (7, 7, True): {'p1_wins': 0, 'p2_wins': 50, 'p1_average_game_time': 0.004255279027997858, 'p2_average_game_time': 0.003979031222228411}, (7, 7, False): {'p1_wins': 26, 'p2_wins': 24, 'p1_average_game_time': 0.004238880406889298, 'p2_average_game_time': 0.0037022450692412267}}\n"
     ]
    }
   ],
   "source": [
    "# Win tracking dict\n",
    "results = {}\n",
    "\n",
    "depths = [3, 7]\n",
    "deterministic = [True, False]\n",
    "game_amount = 50\n",
    "\n",
    "for d1, d2 in tqdm([(d1, d2) for d1 in depths for d2 in depths], desc=\"Processing depths\"):\n",
    "    for det in tqdm(deterministic, desc=\"Processing deterministic\"):\n",
    "        # print(f\"depth1: {d1}, depth2: {d2} deterministic: {det}\")\n",
    "        \n",
    "        # Play 50 games and track the results\n",
    "        p1_wins = 0\n",
    "        p2_wins = 0\n",
    "        p1_avg_time = 0\n",
    "        p2_avg_time = 0\n",
    "\n",
    "        for x in tqdm(range(game_amount), desc=\"Playing games\"):\n",
    "            ai = Negamax(d1, tt=TranspositionTable())\n",
    "            ai2 = Negamax(d2, tt=TranspositionTable())\n",
    "            game = Nim(players=[AI_Player(ai), AI_Player(ai2)],\n",
    "                    deterministic=det,\n",
    "                    piles=[5,5,5,5])\n",
    "            p1_time, p2_time = game.play(verbose=False)\n",
    "            p1_avg_time += p1_time\n",
    "            p2_avg_time += p2_time\n",
    "            # print(\"\\nplayer %d wins\\n\" % game.current_player)\n",
    "            if game.current_player == 1:\n",
    "                p1_wins += 1\n",
    "            else:\n",
    "                p2_wins += 1 \n",
    "\n",
    "        p1_avg_time /= game_amount\n",
    "        p2_avg_time /= game_amount\n",
    "        results[(d1, d2, det)] = {\"p1_wins\": p1_wins,\n",
    "                                    \"p2_wins\": p2_wins,\n",
    "                                    \"p1_average_game_time\": p1_avg_time,\n",
    "                                    \"p2_average_game_time\": p2_avg_time} # Update the results\n",
    "\n",
    "print(results)"
   ]
  },
  {
   "cell_type": "markdown",
   "metadata": {},
   "source": [
    "# Negamax bez alpha-beta pruning\n",
    "\n",
    "Przerobiony algorytm z biblioteki EasyAI, usunęliśmy cały kod odpowiedzialny za prunowanie gałęzi."
   ]
  },
  {
   "cell_type": "code",
   "execution_count": 21,
   "metadata": {},
   "outputs": [
    {
     "data": {
      "application/vnd.jupyter.widget-view+json": {
       "model_id": "1bb84cdd2ec74b0c98212361add5e7a9",
       "version_major": 2,
       "version_minor": 0
      },
      "text/plain": [
       "Processing depths:   0%|          | 0/4 [00:00<?, ?it/s]"
      ]
     },
     "metadata": {},
     "output_type": "display_data"
    },
    {
     "data": {
      "application/vnd.jupyter.widget-view+json": {
       "model_id": "4dbbe3d6c29b44f1a723039a02adee0a",
       "version_major": 2,
       "version_minor": 0
      },
      "text/plain": [
       "Processing deterministic:   0%|          | 0/2 [00:00<?, ?it/s]"
      ]
     },
     "metadata": {},
     "output_type": "display_data"
    },
    {
     "data": {
      "application/vnd.jupyter.widget-view+json": {
       "model_id": "e72cac14492f4d84991da78718bc1c6c",
       "version_major": 2,
       "version_minor": 0
      },
      "text/plain": [
       "Playing games:   0%|          | 0/50 [00:00<?, ?it/s]"
      ]
     },
     "metadata": {},
     "output_type": "display_data"
    },
    {
     "data": {
      "application/vnd.jupyter.widget-view+json": {
       "model_id": "13a65af2ca8f4b978b02b7aad149c947",
       "version_major": 2,
       "version_minor": 0
      },
      "text/plain": [
       "Playing games:   0%|          | 0/50 [00:00<?, ?it/s]"
      ]
     },
     "metadata": {},
     "output_type": "display_data"
    },
    {
     "data": {
      "application/vnd.jupyter.widget-view+json": {
       "model_id": "efb6a74d4a9249739c1b266991f976f2",
       "version_major": 2,
       "version_minor": 0
      },
      "text/plain": [
       "Processing deterministic:   0%|          | 0/2 [00:00<?, ?it/s]"
      ]
     },
     "metadata": {},
     "output_type": "display_data"
    },
    {
     "data": {
      "application/vnd.jupyter.widget-view+json": {
       "model_id": "903722efe68348d2ae72cf777f926731",
       "version_major": 2,
       "version_minor": 0
      },
      "text/plain": [
       "Playing games:   0%|          | 0/50 [00:00<?, ?it/s]"
      ]
     },
     "metadata": {},
     "output_type": "display_data"
    },
    {
     "data": {
      "application/vnd.jupyter.widget-view+json": {
       "model_id": "6f113352dba34e2bb5416ba5d6b4898c",
       "version_major": 2,
       "version_minor": 0
      },
      "text/plain": [
       "Playing games:   0%|          | 0/50 [00:00<?, ?it/s]"
      ]
     },
     "metadata": {},
     "output_type": "display_data"
    },
    {
     "data": {
      "application/vnd.jupyter.widget-view+json": {
       "model_id": "584684f650304acebaf301c47c20f4f9",
       "version_major": 2,
       "version_minor": 0
      },
      "text/plain": [
       "Processing deterministic:   0%|          | 0/2 [00:00<?, ?it/s]"
      ]
     },
     "metadata": {},
     "output_type": "display_data"
    },
    {
     "data": {
      "application/vnd.jupyter.widget-view+json": {
       "model_id": "a8e8fd3dae9f43cf9a566021767747ec",
       "version_major": 2,
       "version_minor": 0
      },
      "text/plain": [
       "Playing games:   0%|          | 0/50 [00:00<?, ?it/s]"
      ]
     },
     "metadata": {},
     "output_type": "display_data"
    },
    {
     "data": {
      "application/vnd.jupyter.widget-view+json": {
       "model_id": "c496a11142da42618436b79d68fc6b16",
       "version_major": 2,
       "version_minor": 0
      },
      "text/plain": [
       "Playing games:   0%|          | 0/50 [00:00<?, ?it/s]"
      ]
     },
     "metadata": {},
     "output_type": "display_data"
    },
    {
     "data": {
      "application/vnd.jupyter.widget-view+json": {
       "model_id": "1120e8fb6edf4708aa8feff87d180243",
       "version_major": 2,
       "version_minor": 0
      },
      "text/plain": [
       "Processing deterministic:   0%|          | 0/2 [00:00<?, ?it/s]"
      ]
     },
     "metadata": {},
     "output_type": "display_data"
    },
    {
     "data": {
      "application/vnd.jupyter.widget-view+json": {
       "model_id": "a6843b0ca89047f889248411ce530a39",
       "version_major": 2,
       "version_minor": 0
      },
      "text/plain": [
       "Playing games:   0%|          | 0/50 [00:00<?, ?it/s]"
      ]
     },
     "metadata": {},
     "output_type": "display_data"
    },
    {
     "data": {
      "application/vnd.jupyter.widget-view+json": {
       "model_id": "3c6dc370ba594a39b98517c2f0a911fc",
       "version_major": 2,
       "version_minor": 0
      },
      "text/plain": [
       "Playing games:   0%|          | 0/50 [00:00<?, ?it/s]"
      ]
     },
     "metadata": {},
     "output_type": "display_data"
    },
    {
     "name": "stdout",
     "output_type": "stream",
     "text": [
      "{(3, 3, True): {'p1_wins': 0, 'p2_wins': 50, 'p1_average_game_time': 0.00098594702800483, 'p2_average_game_time': 0.0009514208888893133}, (3, 3, False): {'p1_wins': 21, 'p2_wins': 29, 'p1_average_game_time': 0.0009641680170459333, 'p2_average_game_time': 0.0009030629450934053}, (3, 7, True): {'p1_wins': 0, 'p2_wins': 50, 'p1_average_game_time': 0.0010098993440028606, 'p2_average_game_time': 0.007464693982217088}, (3, 7, False): {'p1_wins': 17, 'p2_wins': 33, 'p1_average_game_time': 0.001018018848093912, 'p2_average_game_time': 0.0069957497783124534}, (7, 3, True): {'p1_wins': 50, 'p2_wins': 0, 'p1_average_game_time': 0.008257683217781654, 'p2_average_game_time': 0.0009708566400068877}, (7, 3, False): {'p1_wins': 35, 'p2_wins': 15, 'p1_average_game_time': 0.007132145571466532, 'p2_average_game_time': 0.0009403223012861456}, (7, 7, True): {'p1_wins': 0, 'p2_wins': 50, 'p1_average_game_time': 0.0076912263960030045, 'p2_average_game_time': 0.0074500801155535454}, (7, 7, False): {'p1_wins': 28, 'p2_wins': 22, 'p1_average_game_time': 0.00698050083608921, 'p2_average_game_time': 0.006518763946782524}}\n"
     ]
    }
   ],
   "source": [
    "# Win tracking dict\n",
    "results = {}\n",
    "\n",
    "depths = [3, 7]\n",
    "deterministic = [True, False]\n",
    "game_amount = 50\n",
    "\n",
    "for d1, d2 in tqdm([(d1, d2) for d1 in depths for d2 in depths], desc=\"Processing depths\"):\n",
    "    for det in tqdm(deterministic, desc=\"Processing deterministic\"):\n",
    "        # print(f\"depth1: {d1}, depth2: {d2} deterministic: {det}\")\n",
    "        \n",
    "        # Play 50 games and track the results\n",
    "        p1_wins = 0\n",
    "        p2_wins = 0\n",
    "        p1_avg_time = 0\n",
    "        p2_avg_time = 0\n",
    "\n",
    "        for x in tqdm(range(game_amount), desc=\"Playing games\"):\n",
    "            ai = NegamaxNoPruning(d1, tt=TranspositionTable())\n",
    "            ai2 = NegamaxNoPruning(d2, tt=TranspositionTable())\n",
    "            game = Nim(players=[AI_Player(ai), AI_Player(ai2)],\n",
    "                    deterministic=det,\n",
    "                    piles=[5,5,5,5])\n",
    "            p1_time, p2_time = game.play(verbose=False)\n",
    "            p1_avg_time += p1_time\n",
    "            p2_avg_time += p2_time\n",
    "            # print(\"\\nplayer %d wins\\n\" % game.current_player)\n",
    "            if game.current_player == 1:\n",
    "                p1_wins += 1\n",
    "            else:\n",
    "                p2_wins += 1 \n",
    "\n",
    "        p1_avg_time /= game_amount\n",
    "        p2_avg_time /= game_amount\n",
    "        results[(d1, d2, det)] = {\"p1_wins\": p1_wins,\n",
    "                                    \"p2_wins\": p2_wins,\n",
    "                                    \"p1_average_game_time\": p1_avg_time,\n",
    "                                    \"p2_average_game_time\": p2_avg_time} # Update the results\n",
    "\n",
    "print(results)"
   ]
  },
  {
   "cell_type": "markdown",
   "metadata": {},
   "source": [
    "# Non Recursive Negamax\n",
    "Gotowy algorytm z biblioteki EasyAI"
   ]
  },
  {
   "cell_type": "code",
   "execution_count": 22,
   "metadata": {},
   "outputs": [
    {
     "data": {
      "application/vnd.jupyter.widget-view+json": {
       "model_id": "3000f2feb81d4daebd1908706a03134f",
       "version_major": 2,
       "version_minor": 0
      },
      "text/plain": [
       "Processing depths:   0%|          | 0/4 [00:00<?, ?it/s]"
      ]
     },
     "metadata": {},
     "output_type": "display_data"
    },
    {
     "data": {
      "application/vnd.jupyter.widget-view+json": {
       "model_id": "959a02e9a340430d849208500cfc3ee1",
       "version_major": 2,
       "version_minor": 0
      },
      "text/plain": [
       "Processing deterministic:   0%|          | 0/2 [00:00<?, ?it/s]"
      ]
     },
     "metadata": {},
     "output_type": "display_data"
    },
    {
     "data": {
      "application/vnd.jupyter.widget-view+json": {
       "model_id": "7de1e4e9a3ef49339c9a9371df8f072b",
       "version_major": 2,
       "version_minor": 0
      },
      "text/plain": [
       "Playing games:   0%|          | 0/50 [00:00<?, ?it/s]"
      ]
     },
     "metadata": {},
     "output_type": "display_data"
    },
    {
     "data": {
      "application/vnd.jupyter.widget-view+json": {
       "model_id": "e5bd958d2bd84eacb4c4652131a815d8",
       "version_major": 2,
       "version_minor": 0
      },
      "text/plain": [
       "Playing games:   0%|          | 0/50 [00:00<?, ?it/s]"
      ]
     },
     "metadata": {},
     "output_type": "display_data"
    },
    {
     "data": {
      "application/vnd.jupyter.widget-view+json": {
       "model_id": "0cc51ef4a2fb48bf9e7bf7f9e4c2a44e",
       "version_major": 2,
       "version_minor": 0
      },
      "text/plain": [
       "Processing deterministic:   0%|          | 0/2 [00:00<?, ?it/s]"
      ]
     },
     "metadata": {},
     "output_type": "display_data"
    },
    {
     "data": {
      "application/vnd.jupyter.widget-view+json": {
       "model_id": "ed851980afa24959880a9062aad131d3",
       "version_major": 2,
       "version_minor": 0
      },
      "text/plain": [
       "Playing games:   0%|          | 0/50 [00:00<?, ?it/s]"
      ]
     },
     "metadata": {},
     "output_type": "display_data"
    },
    {
     "data": {
      "application/vnd.jupyter.widget-view+json": {
       "model_id": "b9c473bb29ef485d8eaf15414a9cc3df",
       "version_major": 2,
       "version_minor": 0
      },
      "text/plain": [
       "Playing games:   0%|          | 0/50 [00:00<?, ?it/s]"
      ]
     },
     "metadata": {},
     "output_type": "display_data"
    },
    {
     "data": {
      "application/vnd.jupyter.widget-view+json": {
       "model_id": "251221c69cd5452ab4f1d406efacd898",
       "version_major": 2,
       "version_minor": 0
      },
      "text/plain": [
       "Processing deterministic:   0%|          | 0/2 [00:00<?, ?it/s]"
      ]
     },
     "metadata": {},
     "output_type": "display_data"
    },
    {
     "data": {
      "application/vnd.jupyter.widget-view+json": {
       "model_id": "5aaed59f3ea14952a77c5dcb34de212f",
       "version_major": 2,
       "version_minor": 0
      },
      "text/plain": [
       "Playing games:   0%|          | 0/50 [00:00<?, ?it/s]"
      ]
     },
     "metadata": {},
     "output_type": "display_data"
    },
    {
     "data": {
      "application/vnd.jupyter.widget-view+json": {
       "model_id": "23da55ed74c44c88b920e31a599bccd2",
       "version_major": 2,
       "version_minor": 0
      },
      "text/plain": [
       "Playing games:   0%|          | 0/50 [00:00<?, ?it/s]"
      ]
     },
     "metadata": {},
     "output_type": "display_data"
    },
    {
     "data": {
      "application/vnd.jupyter.widget-view+json": {
       "model_id": "b9ac5d32285f4aedb178592774079784",
       "version_major": 2,
       "version_minor": 0
      },
      "text/plain": [
       "Processing deterministic:   0%|          | 0/2 [00:00<?, ?it/s]"
      ]
     },
     "metadata": {},
     "output_type": "display_data"
    },
    {
     "data": {
      "application/vnd.jupyter.widget-view+json": {
       "model_id": "fce0b9e659a842fcac200be9f02f2f9b",
       "version_major": 2,
       "version_minor": 0
      },
      "text/plain": [
       "Playing games:   0%|          | 0/50 [00:00<?, ?it/s]"
      ]
     },
     "metadata": {},
     "output_type": "display_data"
    },
    {
     "data": {
      "application/vnd.jupyter.widget-view+json": {
       "model_id": "344e634d5dff450194e46b277203df59",
       "version_major": 2,
       "version_minor": 0
      },
      "text/plain": [
       "Playing games:   0%|          | 0/50 [00:00<?, ?it/s]"
      ]
     },
     "metadata": {},
     "output_type": "display_data"
    },
    {
     "name": "stdout",
     "output_type": "stream",
     "text": [
      "{(3, 3, True): {'p1_wins': 0, 'p2_wins': 50, 'p1_average_game_time': 0.0003826178639988029, 'p2_average_game_time': 0.00037915795555869004}, (3, 3, False): {'p1_wins': 18, 'p2_wins': 32, 'p1_average_game_time': 0.0003785531519850352, 'p2_average_game_time': 0.00035428980584179003}, (3, 7, True): {'p1_wins': 0, 'p2_wins': 50, 'p1_average_game_time': 0.00036729792599862776, 'p2_average_game_time': 0.023400660635553922}, (3, 7, False): {'p1_wins': 18, 'p2_wins': 32, 'p1_average_game_time': 0.0003841112660118682, 'p2_average_game_time': 0.023783796619983394}, (7, 3, True): {'p1_wins': 50, 'p2_wins': 0, 'p1_average_game_time': 0.030606198122223857, 'p2_average_game_time': 0.00035881644444493244}, (7, 3, False): {'p1_wins': 41, 'p2_wins': 9, 'p1_average_game_time': 0.02942870899161647, 'p2_average_game_time': 0.00035334467928999064}, (7, 7, True): {'p1_wins': 0, 'p2_wins': 50, 'p1_average_game_time': 0.026791495230003876, 'p2_average_game_time': 0.023031981728887933}, (7, 7, False): {'p1_wins': 31, 'p2_wins': 19, 'p1_average_game_time': 0.027362840058211785, 'p2_average_game_time': 0.02234604984274842}}\n"
     ]
    }
   ],
   "source": [
    "# Win tracking dict\n",
    "results = {}\n",
    "\n",
    "depths = [3, 7]\n",
    "deterministic = [True, False]\n",
    "game_amount = 50\n",
    "\n",
    "for d1, d2 in tqdm([(d1, d2) for d1 in depths for d2 in depths], desc=\"Processing depths\"):\n",
    "    for det in tqdm(deterministic, desc=\"Processing deterministic\"):\n",
    "        # print(f\"depth1: {d1}, depth2: {d2} deterministic: {det}\")\n",
    "        \n",
    "        # Play 50 games and track the results\n",
    "        p1_wins = 0\n",
    "        p2_wins = 0\n",
    "        p1_avg_time = 0\n",
    "        p2_avg_time = 0\n",
    "\n",
    "        for x in tqdm(range(game_amount), desc=\"Playing games\"):\n",
    "            ai = NonRecursiveNegamax(d1, tt=TranspositionTable())\n",
    "            ai2 = NonRecursiveNegamax(d2, tt=TranspositionTable())\n",
    "            game = Nim(players=[AI_Player(ai), AI_Player(ai2)],\n",
    "                    deterministic=det,\n",
    "                    piles=[5,5,5,5])\n",
    "            p1_time, p2_time = game.play(verbose=False)\n",
    "            p1_avg_time += p1_time\n",
    "            p2_avg_time += p2_time\n",
    "            # print(\"\\nplayer %d wins\\n\" % game.current_player)\n",
    "            if game.current_player == 1:\n",
    "                p1_wins += 1\n",
    "            else:\n",
    "                p2_wins += 1 \n",
    "\n",
    "        p1_avg_time /= game_amount\n",
    "        p2_avg_time /= game_amount\n",
    "        results[(d1, d2, det)] = {\"p1_wins\": p1_wins,\n",
    "                                    \"p2_wins\": p2_wins,\n",
    "                                    \"p1_average_game_time\": p1_avg_time,\n",
    "                                    \"p2_average_game_time\": p2_avg_time} # Update the results\n",
    "\n",
    "print(results)"
   ]
  },
  {
   "cell_type": "markdown",
   "metadata": {},
   "source": [
    "# Expectiminimax\n",
    "\n",
    "Algorytm zaimplementowany na podstawie algorytmu Negamax, ale z uwzględnieniem niedeterministyczności.\n",
    "Generalny sposób działania:\n",
    "~~~\n",
    "wartość przewidywana = 0\n",
    "jeżeli gra jest niedeterministyczna:\n",
    "    wartość przewidywana += zrób zwykły ruch * szansa na zwykły ruch\n",
    "    wartość przewidywana += zrób ruch z niedeterministycznością * szansa na ruch z niedeterministycznością\n",
    "jeżeli gra jest deterministyczna:\n",
    "    wartość przewidywana += zrób zwykły ruch\n",
    "zwróć wartość przewidywana\n",
    "~~~"
   ]
  },
  {
   "cell_type": "code",
   "execution_count": 37,
   "metadata": {},
   "outputs": [
    {
     "data": {
      "application/vnd.jupyter.widget-view+json": {
       "model_id": "1120377a9a91426a980727681bb7a27d",
       "version_major": 2,
       "version_minor": 0
      },
      "text/plain": [
       "Processing depths:   0%|          | 0/4 [00:00<?, ?it/s]"
      ]
     },
     "metadata": {},
     "output_type": "display_data"
    },
    {
     "data": {
      "application/vnd.jupyter.widget-view+json": {
       "model_id": "bc1927834416416595a6f25d8a4d2a28",
       "version_major": 2,
       "version_minor": 0
      },
      "text/plain": [
       "Processing deterministic:   0%|          | 0/2 [00:00<?, ?it/s]"
      ]
     },
     "metadata": {},
     "output_type": "display_data"
    },
    {
     "data": {
      "application/vnd.jupyter.widget-view+json": {
       "model_id": "2ea1c2b042d04bffa502159cb04740a9",
       "version_major": 2,
       "version_minor": 0
      },
      "text/plain": [
       "Playing games:   0%|          | 0/50 [00:00<?, ?it/s]"
      ]
     },
     "metadata": {},
     "output_type": "display_data"
    },
    {
     "data": {
      "application/vnd.jupyter.widget-view+json": {
       "model_id": "c533ab24acca4e6195f6950d9d701e77",
       "version_major": 2,
       "version_minor": 0
      },
      "text/plain": [
       "Playing games:   0%|          | 0/50 [00:00<?, ?it/s]"
      ]
     },
     "metadata": {},
     "output_type": "display_data"
    },
    {
     "data": {
      "application/vnd.jupyter.widget-view+json": {
       "model_id": "2b132b641be44edca02ff8fe8de90ab7",
       "version_major": 2,
       "version_minor": 0
      },
      "text/plain": [
       "Processing deterministic:   0%|          | 0/2 [00:00<?, ?it/s]"
      ]
     },
     "metadata": {},
     "output_type": "display_data"
    },
    {
     "data": {
      "application/vnd.jupyter.widget-view+json": {
       "model_id": "6e944efd3f2e4ceda6df84a327d9cb35",
       "version_major": 2,
       "version_minor": 0
      },
      "text/plain": [
       "Playing games:   0%|          | 0/50 [00:00<?, ?it/s]"
      ]
     },
     "metadata": {},
     "output_type": "display_data"
    },
    {
     "data": {
      "application/vnd.jupyter.widget-view+json": {
       "model_id": "4a79eb2e72044befaa0ec191dbda51f0",
       "version_major": 2,
       "version_minor": 0
      },
      "text/plain": [
       "Playing games:   0%|          | 0/50 [00:00<?, ?it/s]"
      ]
     },
     "metadata": {},
     "output_type": "display_data"
    },
    {
     "data": {
      "application/vnd.jupyter.widget-view+json": {
       "model_id": "544f310ad1b54e3b9b29a2d793776602",
       "version_major": 2,
       "version_minor": 0
      },
      "text/plain": [
       "Processing deterministic:   0%|          | 0/2 [00:00<?, ?it/s]"
      ]
     },
     "metadata": {},
     "output_type": "display_data"
    },
    {
     "data": {
      "application/vnd.jupyter.widget-view+json": {
       "model_id": "e039834bc2df4e4e8f82ef1f69e5eb4a",
       "version_major": 2,
       "version_minor": 0
      },
      "text/plain": [
       "Playing games:   0%|          | 0/50 [00:00<?, ?it/s]"
      ]
     },
     "metadata": {},
     "output_type": "display_data"
    },
    {
     "data": {
      "application/vnd.jupyter.widget-view+json": {
       "model_id": "4cc502a588e44b8aaf668a0128240efc",
       "version_major": 2,
       "version_minor": 0
      },
      "text/plain": [
       "Playing games:   0%|          | 0/50 [00:00<?, ?it/s]"
      ]
     },
     "metadata": {},
     "output_type": "display_data"
    },
    {
     "data": {
      "application/vnd.jupyter.widget-view+json": {
       "model_id": "7431ac21867340e0ab217e6de4eaf7c6",
       "version_major": 2,
       "version_minor": 0
      },
      "text/plain": [
       "Processing deterministic:   0%|          | 0/2 [00:00<?, ?it/s]"
      ]
     },
     "metadata": {},
     "output_type": "display_data"
    },
    {
     "data": {
      "application/vnd.jupyter.widget-view+json": {
       "model_id": "82fa176ca8274d2ba1a5d8936d227d57",
       "version_major": 2,
       "version_minor": 0
      },
      "text/plain": [
       "Playing games:   0%|          | 0/50 [00:00<?, ?it/s]"
      ]
     },
     "metadata": {},
     "output_type": "display_data"
    },
    {
     "data": {
      "application/vnd.jupyter.widget-view+json": {
       "model_id": "b627932811a54daba28e2f175de5ae2e",
       "version_major": 2,
       "version_minor": 0
      },
      "text/plain": [
       "Playing games:   0%|          | 0/50 [00:00<?, ?it/s]"
      ]
     },
     "metadata": {},
     "output_type": "display_data"
    },
    {
     "name": "stdout",
     "output_type": "stream",
     "text": [
      "{(3, 3, True): {'p1_wins': 0, 'p2_wins': 50, 'p1_average_game_time': 0.00036439799333089044, 'p2_average_game_time': 0.0003805387749957845}, (3, 3, False): {'p1_wins': 21, 'p2_wins': 29, 'p1_average_game_time': 0.0010691948503054626, 'p2_average_game_time': 0.0010422101060920958}, (3, 7, True): {'p1_wins': 0, 'p2_wins': 50, 'p1_average_game_time': 0.00034467060200040584, 'p2_average_game_time': 0.004096878922228422}, (3, 7, False): {'p1_wins': 15, 'p2_wins': 35, 'p1_average_game_time': 0.0009501757376003568, 'p2_average_game_time': 0.051498999071537425}, (7, 3, True): {'p1_wins': 50, 'p2_wins': 0, 'p1_average_game_time': 0.004840853028884137, 'p2_average_game_time': 0.0003310315244450774}, (7, 3, False): {'p1_wins': 31, 'p2_wins': 19, 'p1_average_game_time': 0.056236582658245965, 'p2_average_game_time': 0.0009380575899047917}, (7, 7, True): {'p1_wins': 0, 'p2_wins': 50, 'p1_average_game_time': 0.00422619103000352, 'p2_average_game_time': 0.003957532308885574}, (7, 7, False): {'p1_wins': 26, 'p2_wins': 24, 'p1_average_game_time': 0.05504189104874282, 'p2_average_game_time': 0.04930528859661543}}\n"
     ]
    }
   ],
   "source": [
    "# Win tracking dict\n",
    "results = {}\n",
    "\n",
    "depths = [3, 7]\n",
    "deterministic = [True, False]\n",
    "game_amount = 50\n",
    "\n",
    "for d1, d2 in tqdm([(d1, d2) for d1 in depths for d2 in depths], desc=\"Processing depths\"):\n",
    "    for det in tqdm(deterministic, desc=\"Processing deterministic\"):\n",
    "        # print(f\"depth1: {d1}, depth2: {d2} deterministic: {det}\")\n",
    "        \n",
    "        # Play 50 games and track the results\n",
    "        p1_wins = 0\n",
    "        p2_wins = 0\n",
    "        p1_avg_time = 0\n",
    "        p2_avg_time = 0\n",
    "\n",
    "        for x in tqdm(range(game_amount), desc=\"Playing games\"):\n",
    "            ai = Expectiminimax(d1, tt=TranspositionTable())\n",
    "            ai2 = Expectiminimax(d2, tt=TranspositionTable())\n",
    "            game = Nim(players=[AI_Player(ai), AI_Player(ai2)],\n",
    "                    deterministic=det,\n",
    "                    piles=[5,5,5,5])\n",
    "            p1_time, p2_time = game.play(verbose=False)\n",
    "            p1_avg_time += p1_time\n",
    "            p2_avg_time += p2_time\n",
    "            # print(\"\\nplayer %d wins\\n\" % game.current_player)\n",
    "            if game.current_player == 1:\n",
    "                p1_wins += 1\n",
    "            else:\n",
    "                p2_wins += 1 \n",
    "\n",
    "        p1_avg_time /= game_amount\n",
    "        p2_avg_time /= game_amount\n",
    "        results[(d1, d2, det)] = {\"p1_wins\": p1_wins,\n",
    "                                    \"p2_wins\": p2_wins,\n",
    "                                    \"p1_average_game_time\": p1_avg_time,\n",
    "                                    \"p2_average_game_time\": p2_avg_time} # Update the results\n",
    "\n",
    "print(results)"
   ]
  },
  {
   "cell_type": "markdown",
   "metadata": {},
   "source": [
    "## Rezultaty"
   ]
  },
  {
   "cell_type": "code",
   "execution_count": 38,
   "metadata": {},
   "outputs": [],
   "source": [
    "# read txt, it contains a dict, assign it to a variable\n",
    "with open(\"results/Negamax.txt\", \"r\") as file:\n",
    "    negamax_results = eval(file.read())\n",
    "with open(\"results/NegamaxNoPruning.txt\", \"r\") as file:\n",
    "    negamax_no_pruning_results = eval(file.read())\n",
    "with open(\"results/NonRecursiveNegamax.txt\", \"r\") as file:\n",
    "    non_recursive_negamax_results = eval(file.read())\n",
    "with open(\"results/Expectiminimax.txt\", \"r\") as file:\n",
    "    expectiminimax_results = eval(file.read())"
   ]
  },
  {
   "cell_type": "code",
   "execution_count": 39,
   "metadata": {},
   "outputs": [
    {
     "data": {
      "text/plain": [
       "dict_keys([(3, 3, True), (3, 3, False), (3, 7, True), (3, 7, False), (7, 3, True), (7, 3, False), (7, 7, True), (7, 7, False)])"
      ]
     },
     "execution_count": 39,
     "metadata": {},
     "output_type": "execute_result"
    }
   ],
   "source": [
    "negamax_results.keys()"
   ]
  },
  {
   "cell_type": "code",
   "execution_count": 40,
   "metadata": {},
   "outputs": [],
   "source": [
    "def prepare_dataframe(results, det, algorithm_name):\n",
    "    # Only take keys with deterministic = det, also remove the deterministic key\n",
    "    results = {k: v for k, v in results.items() if k[2] == det}\n",
    "    results = {k[:2]: v for k, v in results.items()}\n",
    "\n",
    "    # Convert to dataframes\n",
    "    df = pd.DataFrame(results)\n",
    "    # Swap rows with columns\n",
    "    df = df.transpose()\n",
    "    # Change column names\n",
    "    df.columns = [\"P1 wins\", \"P2 wins\", \"P1 average turn time\", \"P2 average turn time\"]\n",
    "    # Add column for the depth\n",
    "    df[\"Depth\"] = df.index\n",
    "    # Convert float to int\n",
    "    df[\"P1 wins\"] = df[\"P1 wins\"].astype(int)\n",
    "    df[\"P2 wins\"] = df[\"P2 wins\"].astype(int)\n",
    "    # Add column for the algorithm name\n",
    "    df[\"Algorithm\"] = algorithm_name\n",
    "    return df"
   ]
  },
  {
   "cell_type": "code",
   "execution_count": 41,
   "metadata": {},
   "outputs": [
    {
     "data": {
      "text/html": [
       "<div>\n",
       "<style scoped>\n",
       "    .dataframe tbody tr th:only-of-type {\n",
       "        vertical-align: middle;\n",
       "    }\n",
       "\n",
       "    .dataframe tbody tr th {\n",
       "        vertical-align: top;\n",
       "    }\n",
       "\n",
       "    .dataframe thead th {\n",
       "        text-align: right;\n",
       "    }\n",
       "</style>\n",
       "<table border=\"1\" class=\"dataframe\">\n",
       "  <thead>\n",
       "    <tr style=\"text-align: right;\">\n",
       "      <th></th>\n",
       "      <th>P1 wins</th>\n",
       "      <th>P2 wins</th>\n",
       "      <th>P1 average turn time</th>\n",
       "      <th>P2 average turn time</th>\n",
       "      <th>Depth</th>\n",
       "      <th>Algorithm</th>\n",
       "    </tr>\n",
       "  </thead>\n",
       "  <tbody>\n",
       "    <tr>\n",
       "      <th>0</th>\n",
       "      <td>0</td>\n",
       "      <td>50</td>\n",
       "      <td>0.000344</td>\n",
       "      <td>0.000355</td>\n",
       "      <td>(3, 3)</td>\n",
       "      <td>Negamax</td>\n",
       "    </tr>\n",
       "    <tr>\n",
       "      <th>1</th>\n",
       "      <td>0</td>\n",
       "      <td>50</td>\n",
       "      <td>0.000346</td>\n",
       "      <td>0.004125</td>\n",
       "      <td>(3, 7)</td>\n",
       "      <td>Negamax</td>\n",
       "    </tr>\n",
       "    <tr>\n",
       "      <th>2</th>\n",
       "      <td>50</td>\n",
       "      <td>0</td>\n",
       "      <td>0.004647</td>\n",
       "      <td>0.000318</td>\n",
       "      <td>(7, 3)</td>\n",
       "      <td>Negamax</td>\n",
       "    </tr>\n",
       "    <tr>\n",
       "      <th>3</th>\n",
       "      <td>0</td>\n",
       "      <td>50</td>\n",
       "      <td>0.004255</td>\n",
       "      <td>0.003979</td>\n",
       "      <td>(7, 7)</td>\n",
       "      <td>Negamax</td>\n",
       "    </tr>\n",
       "    <tr>\n",
       "      <th>4</th>\n",
       "      <td>0</td>\n",
       "      <td>50</td>\n",
       "      <td>0.000986</td>\n",
       "      <td>0.000951</td>\n",
       "      <td>(3, 3)</td>\n",
       "      <td>NegamaxNoPruning</td>\n",
       "    </tr>\n",
       "    <tr>\n",
       "      <th>5</th>\n",
       "      <td>0</td>\n",
       "      <td>50</td>\n",
       "      <td>0.001010</td>\n",
       "      <td>0.007465</td>\n",
       "      <td>(3, 7)</td>\n",
       "      <td>NegamaxNoPruning</td>\n",
       "    </tr>\n",
       "    <tr>\n",
       "      <th>6</th>\n",
       "      <td>50</td>\n",
       "      <td>0</td>\n",
       "      <td>0.008258</td>\n",
       "      <td>0.000971</td>\n",
       "      <td>(7, 3)</td>\n",
       "      <td>NegamaxNoPruning</td>\n",
       "    </tr>\n",
       "    <tr>\n",
       "      <th>7</th>\n",
       "      <td>0</td>\n",
       "      <td>50</td>\n",
       "      <td>0.007691</td>\n",
       "      <td>0.007450</td>\n",
       "      <td>(7, 7)</td>\n",
       "      <td>NegamaxNoPruning</td>\n",
       "    </tr>\n",
       "    <tr>\n",
       "      <th>8</th>\n",
       "      <td>0</td>\n",
       "      <td>50</td>\n",
       "      <td>0.000383</td>\n",
       "      <td>0.000379</td>\n",
       "      <td>(3, 3)</td>\n",
       "      <td>NonRecursiveNegamax</td>\n",
       "    </tr>\n",
       "    <tr>\n",
       "      <th>9</th>\n",
       "      <td>0</td>\n",
       "      <td>50</td>\n",
       "      <td>0.000367</td>\n",
       "      <td>0.023401</td>\n",
       "      <td>(3, 7)</td>\n",
       "      <td>NonRecursiveNegamax</td>\n",
       "    </tr>\n",
       "    <tr>\n",
       "      <th>10</th>\n",
       "      <td>50</td>\n",
       "      <td>0</td>\n",
       "      <td>0.030606</td>\n",
       "      <td>0.000359</td>\n",
       "      <td>(7, 3)</td>\n",
       "      <td>NonRecursiveNegamax</td>\n",
       "    </tr>\n",
       "    <tr>\n",
       "      <th>11</th>\n",
       "      <td>0</td>\n",
       "      <td>50</td>\n",
       "      <td>0.026791</td>\n",
       "      <td>0.023032</td>\n",
       "      <td>(7, 7)</td>\n",
       "      <td>NonRecursiveNegamax</td>\n",
       "    </tr>\n",
       "    <tr>\n",
       "      <th>12</th>\n",
       "      <td>0</td>\n",
       "      <td>50</td>\n",
       "      <td>0.000364</td>\n",
       "      <td>0.000381</td>\n",
       "      <td>(3, 3)</td>\n",
       "      <td>Expectiminimax</td>\n",
       "    </tr>\n",
       "    <tr>\n",
       "      <th>13</th>\n",
       "      <td>0</td>\n",
       "      <td>50</td>\n",
       "      <td>0.000345</td>\n",
       "      <td>0.004097</td>\n",
       "      <td>(3, 7)</td>\n",
       "      <td>Expectiminimax</td>\n",
       "    </tr>\n",
       "    <tr>\n",
       "      <th>14</th>\n",
       "      <td>50</td>\n",
       "      <td>0</td>\n",
       "      <td>0.004841</td>\n",
       "      <td>0.000331</td>\n",
       "      <td>(7, 3)</td>\n",
       "      <td>Expectiminimax</td>\n",
       "    </tr>\n",
       "    <tr>\n",
       "      <th>15</th>\n",
       "      <td>0</td>\n",
       "      <td>50</td>\n",
       "      <td>0.004226</td>\n",
       "      <td>0.003958</td>\n",
       "      <td>(7, 7)</td>\n",
       "      <td>Expectiminimax</td>\n",
       "    </tr>\n",
       "  </tbody>\n",
       "</table>\n",
       "</div>"
      ],
      "text/plain": [
       "    P1 wins  P2 wins  P1 average turn time  P2 average turn time   Depth  \\\n",
       "0         0       50              0.000344              0.000355  (3, 3)   \n",
       "1         0       50              0.000346              0.004125  (3, 7)   \n",
       "2        50        0              0.004647              0.000318  (7, 3)   \n",
       "3         0       50              0.004255              0.003979  (7, 7)   \n",
       "4         0       50              0.000986              0.000951  (3, 3)   \n",
       "5         0       50              0.001010              0.007465  (3, 7)   \n",
       "6        50        0              0.008258              0.000971  (7, 3)   \n",
       "7         0       50              0.007691              0.007450  (7, 7)   \n",
       "8         0       50              0.000383              0.000379  (3, 3)   \n",
       "9         0       50              0.000367              0.023401  (3, 7)   \n",
       "10       50        0              0.030606              0.000359  (7, 3)   \n",
       "11        0       50              0.026791              0.023032  (7, 7)   \n",
       "12        0       50              0.000364              0.000381  (3, 3)   \n",
       "13        0       50              0.000345              0.004097  (3, 7)   \n",
       "14       50        0              0.004841              0.000331  (7, 3)   \n",
       "15        0       50              0.004226              0.003958  (7, 7)   \n",
       "\n",
       "              Algorithm  \n",
       "0               Negamax  \n",
       "1               Negamax  \n",
       "2               Negamax  \n",
       "3               Negamax  \n",
       "4      NegamaxNoPruning  \n",
       "5      NegamaxNoPruning  \n",
       "6      NegamaxNoPruning  \n",
       "7      NegamaxNoPruning  \n",
       "8   NonRecursiveNegamax  \n",
       "9   NonRecursiveNegamax  \n",
       "10  NonRecursiveNegamax  \n",
       "11  NonRecursiveNegamax  \n",
       "12       Expectiminimax  \n",
       "13       Expectiminimax  \n",
       "14       Expectiminimax  \n",
       "15       Expectiminimax  "
      ]
     },
     "execution_count": 41,
     "metadata": {},
     "output_type": "execute_result"
    }
   ],
   "source": [
    "# Append all deterministic dataframes together\n",
    "df_deterministic = pd.concat([prepare_dataframe(negamax_results, True, \"Negamax\"),\n",
    "                prepare_dataframe(negamax_no_pruning_results, True, \"NegamaxNoPruning\"),\n",
    "                prepare_dataframe(non_recursive_negamax_results, True, \"NonRecursiveNegamax\"),\n",
    "                prepare_dataframe(expectiminimax_results, True, \"Expectiminimax\")])\n",
    "\n",
    "df_deterministic.reset_index(drop=True, inplace=True)\n",
    "df_deterministic"
   ]
  },
  {
   "cell_type": "code",
   "execution_count": 42,
   "metadata": {},
   "outputs": [
    {
     "data": {
      "text/html": [
       "<div>\n",
       "<style scoped>\n",
       "    .dataframe tbody tr th:only-of-type {\n",
       "        vertical-align: middle;\n",
       "    }\n",
       "\n",
       "    .dataframe tbody tr th {\n",
       "        vertical-align: top;\n",
       "    }\n",
       "\n",
       "    .dataframe thead th {\n",
       "        text-align: right;\n",
       "    }\n",
       "</style>\n",
       "<table border=\"1\" class=\"dataframe\">\n",
       "  <thead>\n",
       "    <tr style=\"text-align: right;\">\n",
       "      <th></th>\n",
       "      <th>P1 wins</th>\n",
       "      <th>P2 wins</th>\n",
       "      <th>P1 average turn time</th>\n",
       "      <th>P2 average turn time</th>\n",
       "      <th>Depth</th>\n",
       "      <th>Algorithm</th>\n",
       "    </tr>\n",
       "  </thead>\n",
       "  <tbody>\n",
       "    <tr>\n",
       "      <th>0</th>\n",
       "      <td>24</td>\n",
       "      <td>26</td>\n",
       "      <td>0.000341</td>\n",
       "      <td>0.000331</td>\n",
       "      <td>(3, 3)</td>\n",
       "      <td>Negamax</td>\n",
       "    </tr>\n",
       "    <tr>\n",
       "      <th>1</th>\n",
       "      <td>16</td>\n",
       "      <td>34</td>\n",
       "      <td>0.000339</td>\n",
       "      <td>0.003884</td>\n",
       "      <td>(3, 7)</td>\n",
       "      <td>Negamax</td>\n",
       "    </tr>\n",
       "    <tr>\n",
       "      <th>2</th>\n",
       "      <td>30</td>\n",
       "      <td>20</td>\n",
       "      <td>0.004448</td>\n",
       "      <td>0.000321</td>\n",
       "      <td>(7, 3)</td>\n",
       "      <td>Negamax</td>\n",
       "    </tr>\n",
       "    <tr>\n",
       "      <th>3</th>\n",
       "      <td>26</td>\n",
       "      <td>24</td>\n",
       "      <td>0.004239</td>\n",
       "      <td>0.003702</td>\n",
       "      <td>(7, 7)</td>\n",
       "      <td>Negamax</td>\n",
       "    </tr>\n",
       "    <tr>\n",
       "      <th>4</th>\n",
       "      <td>21</td>\n",
       "      <td>29</td>\n",
       "      <td>0.000964</td>\n",
       "      <td>0.000903</td>\n",
       "      <td>(3, 3)</td>\n",
       "      <td>NegamaxNoPruning</td>\n",
       "    </tr>\n",
       "    <tr>\n",
       "      <th>5</th>\n",
       "      <td>17</td>\n",
       "      <td>33</td>\n",
       "      <td>0.001018</td>\n",
       "      <td>0.006996</td>\n",
       "      <td>(3, 7)</td>\n",
       "      <td>NegamaxNoPruning</td>\n",
       "    </tr>\n",
       "    <tr>\n",
       "      <th>6</th>\n",
       "      <td>35</td>\n",
       "      <td>15</td>\n",
       "      <td>0.007132</td>\n",
       "      <td>0.000940</td>\n",
       "      <td>(7, 3)</td>\n",
       "      <td>NegamaxNoPruning</td>\n",
       "    </tr>\n",
       "    <tr>\n",
       "      <th>7</th>\n",
       "      <td>28</td>\n",
       "      <td>22</td>\n",
       "      <td>0.006981</td>\n",
       "      <td>0.006519</td>\n",
       "      <td>(7, 7)</td>\n",
       "      <td>NegamaxNoPruning</td>\n",
       "    </tr>\n",
       "    <tr>\n",
       "      <th>8</th>\n",
       "      <td>18</td>\n",
       "      <td>32</td>\n",
       "      <td>0.000379</td>\n",
       "      <td>0.000354</td>\n",
       "      <td>(3, 3)</td>\n",
       "      <td>NonRecursiveNegamax</td>\n",
       "    </tr>\n",
       "    <tr>\n",
       "      <th>9</th>\n",
       "      <td>18</td>\n",
       "      <td>32</td>\n",
       "      <td>0.000384</td>\n",
       "      <td>0.023784</td>\n",
       "      <td>(3, 7)</td>\n",
       "      <td>NonRecursiveNegamax</td>\n",
       "    </tr>\n",
       "    <tr>\n",
       "      <th>10</th>\n",
       "      <td>41</td>\n",
       "      <td>9</td>\n",
       "      <td>0.029429</td>\n",
       "      <td>0.000353</td>\n",
       "      <td>(7, 3)</td>\n",
       "      <td>NonRecursiveNegamax</td>\n",
       "    </tr>\n",
       "    <tr>\n",
       "      <th>11</th>\n",
       "      <td>31</td>\n",
       "      <td>19</td>\n",
       "      <td>0.027363</td>\n",
       "      <td>0.022346</td>\n",
       "      <td>(7, 7)</td>\n",
       "      <td>NonRecursiveNegamax</td>\n",
       "    </tr>\n",
       "    <tr>\n",
       "      <th>12</th>\n",
       "      <td>21</td>\n",
       "      <td>29</td>\n",
       "      <td>0.001069</td>\n",
       "      <td>0.001042</td>\n",
       "      <td>(3, 3)</td>\n",
       "      <td>Expectiminimax</td>\n",
       "    </tr>\n",
       "    <tr>\n",
       "      <th>13</th>\n",
       "      <td>15</td>\n",
       "      <td>35</td>\n",
       "      <td>0.000950</td>\n",
       "      <td>0.051499</td>\n",
       "      <td>(3, 7)</td>\n",
       "      <td>Expectiminimax</td>\n",
       "    </tr>\n",
       "    <tr>\n",
       "      <th>14</th>\n",
       "      <td>31</td>\n",
       "      <td>19</td>\n",
       "      <td>0.056237</td>\n",
       "      <td>0.000938</td>\n",
       "      <td>(7, 3)</td>\n",
       "      <td>Expectiminimax</td>\n",
       "    </tr>\n",
       "    <tr>\n",
       "      <th>15</th>\n",
       "      <td>26</td>\n",
       "      <td>24</td>\n",
       "      <td>0.055042</td>\n",
       "      <td>0.049305</td>\n",
       "      <td>(7, 7)</td>\n",
       "      <td>Expectiminimax</td>\n",
       "    </tr>\n",
       "  </tbody>\n",
       "</table>\n",
       "</div>"
      ],
      "text/plain": [
       "    P1 wins  P2 wins  P1 average turn time  P2 average turn time   Depth  \\\n",
       "0        24       26              0.000341              0.000331  (3, 3)   \n",
       "1        16       34              0.000339              0.003884  (3, 7)   \n",
       "2        30       20              0.004448              0.000321  (7, 3)   \n",
       "3        26       24              0.004239              0.003702  (7, 7)   \n",
       "4        21       29              0.000964              0.000903  (3, 3)   \n",
       "5        17       33              0.001018              0.006996  (3, 7)   \n",
       "6        35       15              0.007132              0.000940  (7, 3)   \n",
       "7        28       22              0.006981              0.006519  (7, 7)   \n",
       "8        18       32              0.000379              0.000354  (3, 3)   \n",
       "9        18       32              0.000384              0.023784  (3, 7)   \n",
       "10       41        9              0.029429              0.000353  (7, 3)   \n",
       "11       31       19              0.027363              0.022346  (7, 7)   \n",
       "12       21       29              0.001069              0.001042  (3, 3)   \n",
       "13       15       35              0.000950              0.051499  (3, 7)   \n",
       "14       31       19              0.056237              0.000938  (7, 3)   \n",
       "15       26       24              0.055042              0.049305  (7, 7)   \n",
       "\n",
       "              Algorithm  \n",
       "0               Negamax  \n",
       "1               Negamax  \n",
       "2               Negamax  \n",
       "3               Negamax  \n",
       "4      NegamaxNoPruning  \n",
       "5      NegamaxNoPruning  \n",
       "6      NegamaxNoPruning  \n",
       "7      NegamaxNoPruning  \n",
       "8   NonRecursiveNegamax  \n",
       "9   NonRecursiveNegamax  \n",
       "10  NonRecursiveNegamax  \n",
       "11  NonRecursiveNegamax  \n",
       "12       Expectiminimax  \n",
       "13       Expectiminimax  \n",
       "14       Expectiminimax  \n",
       "15       Expectiminimax  "
      ]
     },
     "execution_count": 42,
     "metadata": {},
     "output_type": "execute_result"
    }
   ],
   "source": [
    "# Append all non-deterministic dataframes together\n",
    "df_non_deterministic = pd.concat([prepare_dataframe(negamax_results, False, \"Negamax\"),\n",
    "                prepare_dataframe(negamax_no_pruning_results, False, \"NegamaxNoPruning\"),\n",
    "                prepare_dataframe(non_recursive_negamax_results, False, \"NonRecursiveNegamax\"),\n",
    "                prepare_dataframe(expectiminimax_results, False, \"Expectiminimax\")])\n",
    "\n",
    "df_non_deterministic.reset_index(drop=True, inplace=True)\n",
    "df_non_deterministic"
   ]
  },
  {
   "cell_type": "code",
   "execution_count": 43,
   "metadata": {},
   "outputs": [],
   "source": [
    "# Convert to csv\n",
    "df_deterministic.to_csv(\"results/deterministic.csv\", index=False, sep=\";\")\n",
    "df_non_deterministic.to_csv(\"results/non_deterministic.csv\", index=False, sep=\";\")"
   ]
  },
  {
   "cell_type": "markdown",
   "metadata": {},
   "source": [
    "## Podsumowanie wyników za pomocą wykresów"
   ]
  },
  {
   "cell_type": "code",
   "execution_count": 44,
   "metadata": {},
   "outputs": [],
   "source": [
    "# Import data from csv\n",
    "df_deterministic = pd.read_csv(\"results/deterministic.csv\", sep=\";\")\n",
    "df_non_deterministic = pd.read_csv(\"results/non_deterministic.csv\", sep=\";\")"
   ]
  },
  {
   "cell_type": "code",
   "execution_count": 45,
   "metadata": {},
   "outputs": [
    {
     "data": {
      "text/plain": [
       "Text(0.5, 0.98, 'Results')"
      ]
     },
     "execution_count": 45,
     "metadata": {},
     "output_type": "execute_result"
    },
    {
     "data": {
      "image/png": "[encoded data removed]",
      "text/plain": [
       "<Figure size 2000x1000 with 4 Axes>"
      ]
     },
     "metadata": {},
     "output_type": "display_data"
    }
   ],
   "source": [
    "# Create bar graph\n",
    "import matplotlib.pyplot as plt\n",
    "import seaborn as sns\n",
    "\n",
    "sns.set_theme(style=\"dark\", palette=\"flare\")\n",
    "\n",
    "# Create a figure and a set of subplots\n",
    "fig, ax = plt.subplots(2, 2, figsize=(20, 10))\n",
    "\n",
    "\n",
    "# Create a bar plot\n",
    "sns.barplot(data=df_non_deterministic, x=\"Depth\", y=\"P1 wins\", hue=\"Algorithm\", ax=ax[0][0])\n",
    "ax[0][0].set_title(\"Nondeterministic wins\")\n",
    "sns.barplot(data=df_deterministic, x=\"Depth\", y=\"P1 wins\", hue=\"Algorithm\", ax=ax[0][1])\n",
    "ax[0][1].set_title(\"Deterministic wins\")\n",
    "\n",
    "# Create a bar plot logarithmic scale for the y-axis\n",
    "sns.barplot(data=df_non_deterministic, x=\"Depth\", y=\"P1 average turn time\", hue=\"Algorithm\", ax=ax[1][0])\n",
    "ax[1][0].set_yscale(\"log\")\n",
    "ax[1][0].set_title(\"Nondeterministic average turn time\")\n",
    "sns.barplot(data=df_deterministic, x=\"Depth\", y=\"P1 average turn time\", hue=\"Algorithm\", ax=ax[1][1])\n",
    "ax[1][1].set_yscale(\"log\")\n",
    "ax[1][1].set_title(\"Deterministic average turn time\")\n",
    "\n",
    "# Set the title of the figure\n",
    "fig.suptitle(\"Results\", fontsize=24)\n"
   ]
  },
  {
   "cell_type": "markdown",
   "metadata": {},
   "source": [
    "## Porównanie Negamax i Expectiminimax"
   ]
  },
  {
   "cell_type": "code",
   "execution_count": 46,
   "metadata": {},
   "outputs": [
    {
     "data": {
      "application/vnd.jupyter.widget-view+json": {
       "model_id": "962814a5b3d34df7bf803cd4750d4b55",
       "version_major": 2,
       "version_minor": 0
      },
      "text/plain": [
       "Processing depths:   0%|          | 0/1 [00:00<?, ?it/s]"
      ]
     },
     "metadata": {},
     "output_type": "display_data"
    },
    {
     "data": {
      "application/vnd.jupyter.widget-view+json": {
       "model_id": "5045ba6cf60043439292892690a2a429",
       "version_major": 2,
       "version_minor": 0
      },
      "text/plain": [
       "Processing starting player:   0%|          | 0/2 [00:00<?, ?it/s]"
      ]
     },
     "metadata": {},
     "output_type": "display_data"
    },
    {
     "data": {
      "application/vnd.jupyter.widget-view+json": {
       "model_id": "57a7aa2e263a4bb096b3f7fb9bc35f90",
       "version_major": 2,
       "version_minor": 0
      },
      "text/plain": [
       "Playing games:   0%|          | 0/100 [00:00<?, ?it/s]"
      ]
     },
     "metadata": {},
     "output_type": "display_data"
    },
    {
     "data": {
      "application/vnd.jupyter.widget-view+json": {
       "model_id": "30394c4855e045248443b4a3a1d70a8a",
       "version_major": 2,
       "version_minor": 0
      },
      "text/plain": [
       "Playing games:   0%|          | 0/100 [00:00<?, ?it/s]"
      ]
     },
     "metadata": {},
     "output_type": "display_data"
    },
    {
     "name": "stdout",
     "output_type": "stream",
     "text": [
      "{(7, 7, 'nega'): {'p1_wins': 57, 'p2_wins': 43, 'p1_average_game_time': 0.05569113874045801, 'p2_average_game_time': 0.004052186308878724}, (7, 7, 'expect'): {'p1_wins': 57, 'p2_wins': 43, 'p1_average_game_time': 0.056625969280115554, 'p2_average_game_time': 0.004101434787331394}}\n"
     ]
    }
   ],
   "source": [
    "# Win tracking dict\n",
    "results = {}\n",
    "\n",
    "depths = [7]\n",
    "first = [\"nega\", \"expect\"]\n",
    "game_amount = 100\n",
    "\n",
    "for d1, d2 in tqdm([(d1, d2) for d1 in depths for d2 in depths], desc=\"Processing depths\"):\n",
    "    for det in tqdm(first, desc=\"Processing starting player\"):\n",
    "        # print(f\"depth1: {d1}, depth2: {d2} deterministic: {det}\")\n",
    "        \n",
    "        # Play 100 games and track the results\n",
    "        p1_wins = 0\n",
    "        p2_wins = 0\n",
    "        p1_avg_time = 0\n",
    "        p2_avg_time = 0\n",
    "\n",
    "        for x in tqdm(range(game_amount), desc=\"Playing games\"):\n",
    "            if first == \"nega\":\n",
    "                ai = Negamax(d1, tt=TranspositionTable())\n",
    "                ai2 = Expectiminimax(d2, tt=TranspositionTable())\n",
    "            else:\n",
    "                ai = Expectiminimax(d1, tt=TranspositionTable())\n",
    "                ai2 = Negamax(d2, tt=TranspositionTable())\n",
    "            game = Nim(players=[AI_Player(ai), AI_Player(ai2)],\n",
    "                    deterministic=False,\n",
    "                    piles=[5,5,5,5])\n",
    "            p1_time, p2_time = game.play(verbose=False)\n",
    "            p1_avg_time += p1_time\n",
    "            p2_avg_time += p2_time\n",
    "            # print(\"\\nplayer %d wins\\n\" % game.current_player)\n",
    "            if game.current_player == 1:\n",
    "                p1_wins += 1\n",
    "            else:\n",
    "                p2_wins += 1 \n",
    "\n",
    "        p1_avg_time /= game_amount\n",
    "        p2_avg_time /= game_amount\n",
    "        results[(d1, d2, det)] = {\"p1_wins\": p1_wins,\n",
    "                                    \"p2_wins\": p2_wins,\n",
    "                                    \"p1_average_game_time\": p1_avg_time,\n",
    "                                    \"p2_average_game_time\": p2_avg_time} # Update the results\n",
    "\n",
    "print(results)"
   ]
  },
  {
   "cell_type": "code",
   "execution_count": 47,
   "metadata": {},
   "outputs": [
    {
     "data": {
      "text/html": [
       "<div>\n",
       "<style scoped>\n",
       "    .dataframe tbody tr th:only-of-type {\n",
       "        vertical-align: middle;\n",
       "    }\n",
       "\n",
       "    .dataframe tbody tr th {\n",
       "        vertical-align: top;\n",
       "    }\n",
       "\n",
       "    .dataframe thead th {\n",
       "        text-align: right;\n",
       "    }\n",
       "</style>\n",
       "<table border=\"1\" class=\"dataframe\">\n",
       "  <thead>\n",
       "    <tr style=\"text-align: right;\">\n",
       "      <th></th>\n",
       "      <th>p1_wins</th>\n",
       "      <th>p2_wins</th>\n",
       "      <th>p1_average_game_time</th>\n",
       "      <th>p2_average_game_time</th>\n",
       "    </tr>\n",
       "  </thead>\n",
       "  <tbody>\n",
       "    <tr>\n",
       "      <th>nega</th>\n",
       "      <td>57.0</td>\n",
       "      <td>43.0</td>\n",
       "      <td>0.055691</td>\n",
       "      <td>0.004052</td>\n",
       "    </tr>\n",
       "    <tr>\n",
       "      <th>expect</th>\n",
       "      <td>57.0</td>\n",
       "      <td>43.0</td>\n",
       "      <td>0.056626</td>\n",
       "      <td>0.004101</td>\n",
       "    </tr>\n",
       "  </tbody>\n",
       "</table>\n",
       "</div>"
      ],
      "text/plain": [
       "        p1_wins  p2_wins  p1_average_game_time  p2_average_game_time\n",
       "nega       57.0     43.0              0.055691              0.004052\n",
       "expect     57.0     43.0              0.056626              0.004101"
      ]
     },
     "execution_count": 47,
     "metadata": {},
     "output_type": "execute_result"
    }
   ],
   "source": [
    "# Drop first two values from the key\n",
    "results = {k[2]: v for k, v in results.items()}\n",
    "\n",
    "# Turn the results into dataframe\n",
    "df = pd.DataFrame(results)\n",
    "df = df.transpose()\n",
    "\n",
    "# Drop first column\n",
    "df"
   ]
  },
  {
   "cell_type": "markdown",
   "metadata": {},
   "source": [
    "## Przemyślenia i wnioski\n",
    "- Głębokość 10 i większa oznacza jakieś sto godzin czekania na wykonanie algorytmu.\n",
    "- Algorytm Expectiminimax w ogólności podejmuje lepsze decyzje niż Negamax, ale w tym przypadku nie wpływa na decyzje AI, za to znacząco zwiększa czas wykonania.\n",
    "- Zaimplementowany w bibliotece EasyAI Transposition Table znacząco przyspiesza działanie algorytmów, przez co tylko pierwsze ruchy zajmują dużo czasu.\n",
    "- Dokumentacja biblioteki EasyAI zawiera przykładowy kod, który nie działa :D"
   ]
  }
 ],
 "metadata": {
  "kernelspec": {
   "display_name": "intobl",
   "language": "python",
   "name": "python3"
  },
  "language_info": {
   "codemirror_mode": {
    "name": "ipython",
    "version": 3
   },
   "file_extension": ".py",
   "mimetype": "text/x-python",
   "name": "python",
   "nbconvert_exporter": "python",
   "pygments_lexer": "ipython3",
   "version": "3.11.7"
  }
 },
 "nbformat": 4,
 "nbformat_minor": 2
}
