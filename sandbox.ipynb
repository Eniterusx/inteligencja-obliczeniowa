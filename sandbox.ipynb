{
 "cells": [
  {
   "cell_type": "code",
   "execution_count": 2,
   "metadata": {},
   "outputs": [],
   "source": [
    "# take image from lab4/assets/tank.jpg and resize it to 20x20\n",
    "# save it as tank_small.jpg\n",
    "from PIL import Image\n"
   ]
  },
  {
   "cell_type": "code",
   "execution_count": null,
   "metadata": {},
   "outputs": [],
   "source": [
    "# create 4 rotations of the image, 0, 90, 180, 270 degrees\n",
    "img = Image.open(\"lab4/assets/tank_small.jpg\")\n",
    "img.save(\"lab4/assets/tank_small_0.jpg\")\n",
    "img = img.rotate(90)\n",
    "img.save(\"lab4/assets/tank_small_90.jpg\")\n",
    "img = img.rotate(90)\n",
    "img.save(\"lab4/assets/tank_small_180.jpg\")\n",
    "img = img.rotate(90)\n",
    "img.save(\"lab4/assets/tank_small_270.jpg\")"
   ]
  },
  {
   "cell_type": "code",
   "execution_count": 6,
   "metadata": {},
   "outputs": [],
   "source": [
    "imgs = [\"lab4/assets/tank1.png\", \"lab4/assets/tank2.png\", \"lab4/assets/tank3.png\"]\n",
    "for i, img in enumerate(imgs):\n",
    "    img = Image.open(img)\n",
    "    img.save(f\"lab4/assets/tank{i+1}_0.png\")\n",
    "    img = img.rotate(90)\n",
    "    img.save(f\"lab4/assets/tank{i+1}_90.png\")\n",
    "    img = img.rotate(90)\n",
    "    img.save(f\"lab4/assets/tank{i+1}_180.png\")\n",
    "    img = img.rotate(90)\n",
    "    img.save(f\"lab4/assets/tank{i+1}_270.png\")"
   ]
  }
 ],
 "metadata": {
  "kernelspec": {
   "display_name": "intobl",
   "language": "python",
   "name": "python3"
  },
  "language_info": {
   "codemirror_mode": {
    "name": "ipython",
    "version": 3
   },
   "file_extension": ".py",
   "mimetype": "text/x-python",
   "name": "python",
   "nbconvert_exporter": "python",
   "pygments_lexer": "ipython3",
   "version": "3.11.8"
  }
 },
 "nbformat": 4,
 "nbformat_minor": 2
}
