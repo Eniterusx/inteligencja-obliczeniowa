{
 "cells": [
  {
   "cell_type": "code",
   "execution_count": 4,
   "metadata": {},
   "outputs": [],
   "source": [
    "from easyAI.AI import NegamaxNoPruning\n",
    "from easyAI import TwoPlayerGame, Human_Player, AI_Player, Negamax, NegamaxNoPruning, NonRecursiveNegamax, SSS, Expectiminimax\n",
    "import random\n",
    "from tqdm.auto import tqdm\n",
    "import pandas as pd"
   ]
  },
  {
   "cell_type": "code",
   "execution_count": 2,
   "metadata": {},
   "outputs": [],
   "source": [
    "class Nim(TwoPlayerGame):\n",
    "    def __init__(self, players, piles = [5, 5, 5, 5], deterministic = False):\n",
    "        self.piles = piles\n",
    "        self.players = players\n",
    "        self.nplayer = 1\n",
    "        self.current_player = 1\n",
    "        self.deterministic = deterministic\n",
    "    \n",
    "    def possible_moves(self):\n",
    "        moves = [\"%d,%d\" % (i + 1, j) for i in range(len(self.piles)) for j in range(1, self.piles[i] + 1)]\n",
    "        return moves\n",
    "    \n",
    "    def make_final_move(self, move):\n",
    "        pile, count = move.split(\",\")\n",
    "        extra = 1 if random.randint(1, 10) == 1 and not self.deterministic else 0\n",
    "        self.piles[int(pile) - 1] -= int(count) - extra\n",
    "        return extra\n",
    "    \n",
    "    def make_move(self, move):\n",
    "        pile, count = move.split(\",\")\n",
    "        self.piles[int(pile) - 1] -= int(count)\n",
    "\n",
    "    def unmake_move(self, move): # optional method (speeds up the AI)\n",
    "        pile, count = move.split(\",\")\n",
    "        self.piles[int(pile) - 1] += int(count)\n",
    "\n",
    "    def show(self): print(\" \".join(map(str, self.piles)))\n",
    "\n",
    "    def win(self): return max(self.piles) == 0\n",
    "\n",
    "    def is_over(self): return self.win()\n",
    "\n",
    "    def scoring(self): return 100 if self.win() else 0\n",
    "\n",
    "    def ttentry(self): return tuple(self.piles) #optional, speeds up AI\n",
    "\n",
    "    def ttrestore(self, entry): self.piles = list(entry)"
   ]
  },
  {
   "cell_type": "markdown",
   "metadata": {},
   "source": [
    "# Negamax"
   ]
  },
  {
   "cell_type": "code",
   "execution_count": 5,
   "metadata": {},
   "outputs": [
    {
     "data": {
      "application/vnd.jupyter.widget-view+json": {
       "model_id": "46de8fc0950846f9bcead7276aa3b1e5",
       "version_major": 2,
       "version_minor": 0
      },
      "text/plain": [
       "Processing depths:   0%|          | 0/4 [00:00<?, ?it/s]"
      ]
     },
     "metadata": {},
     "output_type": "display_data"
    },
    {
     "data": {
      "application/vnd.jupyter.widget-view+json": {
       "model_id": "ca53bea53ae34955a3458eaecbae8942",
       "version_major": 2,
       "version_minor": 0
      },
      "text/plain": [
       "Processing deterministic:   0%|          | 0/2 [00:00<?, ?it/s]"
      ]
     },
     "metadata": {},
     "output_type": "display_data"
    },
    {
     "data": {
      "application/vnd.jupyter.widget-view+json": {
       "model_id": "0b4ed2681b08493b94e46203871904ad",
       "version_major": 2,
       "version_minor": 0
      },
      "text/plain": [
       "Playing games:   0%|          | 0/10 [00:00<?, ?it/s]"
      ]
     },
     "metadata": {},
     "output_type": "display_data"
    },
    {
     "data": {
      "application/vnd.jupyter.widget-view+json": {
       "model_id": "229e656a1af645199da2ca0dfada9bbc",
       "version_major": 2,
       "version_minor": 0
      },
      "text/plain": [
       "Playing games:   0%|          | 0/10 [00:00<?, ?it/s]"
      ]
     },
     "metadata": {},
     "output_type": "display_data"
    },
    {
     "data": {
      "application/vnd.jupyter.widget-view+json": {
       "model_id": "1538e28bd59b434588a9653f94c288d3",
       "version_major": 2,
       "version_minor": 0
      },
      "text/plain": [
       "Processing deterministic:   0%|          | 0/2 [00:00<?, ?it/s]"
      ]
     },
     "metadata": {},
     "output_type": "display_data"
    },
    {
     "data": {
      "application/vnd.jupyter.widget-view+json": {
       "model_id": "7da921bd5ca14a279aa8f6e6c93c718d",
       "version_major": 2,
       "version_minor": 0
      },
      "text/plain": [
       "Playing games:   0%|          | 0/10 [00:00<?, ?it/s]"
      ]
     },
     "metadata": {},
     "output_type": "display_data"
    },
    {
     "data": {
      "application/vnd.jupyter.widget-view+json": {
       "model_id": "1f27ad03a3664c158bf4ee59ffa70014",
       "version_major": 2,
       "version_minor": 0
      },
      "text/plain": [
       "Playing games:   0%|          | 0/10 [00:00<?, ?it/s]"
      ]
     },
     "metadata": {},
     "output_type": "display_data"
    },
    {
     "data": {
      "application/vnd.jupyter.widget-view+json": {
       "model_id": "3671d0bd7b484941a22391dca754c7ed",
       "version_major": 2,
       "version_minor": 0
      },
      "text/plain": [
       "Processing deterministic:   0%|          | 0/2 [00:00<?, ?it/s]"
      ]
     },
     "metadata": {},
     "output_type": "display_data"
    },
    {
     "data": {
      "application/vnd.jupyter.widget-view+json": {
       "model_id": "44b524eb6a1a4c119ee3017250ebea97",
       "version_major": 2,
       "version_minor": 0
      },
      "text/plain": [
       "Playing games:   0%|          | 0/10 [00:00<?, ?it/s]"
      ]
     },
     "metadata": {},
     "output_type": "display_data"
    },
    {
     "data": {
      "application/vnd.jupyter.widget-view+json": {
       "model_id": "25249907c5d84e35a4ecc8321e8483f3",
       "version_major": 2,
       "version_minor": 0
      },
      "text/plain": [
       "Playing games:   0%|          | 0/10 [00:00<?, ?it/s]"
      ]
     },
     "metadata": {},
     "output_type": "display_data"
    },
    {
     "data": {
      "application/vnd.jupyter.widget-view+json": {
       "model_id": "170af58136be414eacb59819046668e0",
       "version_major": 2,
       "version_minor": 0
      },
      "text/plain": [
       "Processing deterministic:   0%|          | 0/2 [00:00<?, ?it/s]"
      ]
     },
     "metadata": {},
     "output_type": "display_data"
    },
    {
     "data": {
      "application/vnd.jupyter.widget-view+json": {
       "model_id": "912e7f9c6b6b40209d7e2e4cd44ec38f",
       "version_major": 2,
       "version_minor": 0
      },
      "text/plain": [
       "Playing games:   0%|          | 0/10 [00:00<?, ?it/s]"
      ]
     },
     "metadata": {},
     "output_type": "display_data"
    },
    {
     "data": {
      "application/vnd.jupyter.widget-view+json": {
       "model_id": "472b147f57b44e79b5a5bd28f5dd80ee",
       "version_major": 2,
       "version_minor": 0
      },
      "text/plain": [
       "Playing games:   0%|          | 0/10 [00:00<?, ?it/s]"
      ]
     },
     "metadata": {},
     "output_type": "display_data"
    },
    {
     "name": "stdout",
     "output_type": "stream",
     "text": [
      "{(3, 3, True): {'p1_wins': 0, 'p2_wins': 10, 'p1_average_game_time': 0.0002737992000766098, 'p2_average_game_time': 0.00023452734781636138}, (3, 3, False): {'p1_wins': 1, 'p2_wins': 9, 'p1_average_game_time': 0.0001885745217991094, 'p2_average_game_time': 0.00018100099405861752}, (3, 7, True): {'p1_wins': 0, 'p2_wins': 10, 'p1_average_game_time': 0.0001847599935717881, 'p2_average_game_time': 0.013529821342995596}, (3, 7, False): {'p1_wins': 4, 'p2_wins': 6, 'p1_average_game_time': 0.00018726147785359486, 'p2_average_game_time': 0.013271861019205642}, (7, 3, True): {'p1_wins': 10, 'p2_wins': 0, 'p1_average_game_time': 0.016220505560179142, 'p2_average_game_time': 0.00017044447983304657}, (7, 3, False): {'p1_wins': 7, 'p2_wins': 3, 'p1_average_game_time': 0.015420109385494003, 'p2_average_game_time': 0.00017394781411940588}, (7, 7, True): {'p1_wins': 0, 'p2_wins': 10, 'p1_average_game_time': 0.014884685470024125, 'p2_average_game_time': 0.013210066691196213}, (7, 7, False): {'p1_wins': 4, 'p2_wins': 6, 'p1_average_game_time': 0.015250677619760886, 'p2_average_game_time': 0.013234786756484856}}\n"
     ]
    }
   ],
   "source": [
    "# Win tracking dict\n",
    "results = {}\n",
    "\n",
    "depths = [3, 7]\n",
    "deterministic = [True, False]\n",
    "game_amount = 10\n",
    "\n",
    "for d1, d2 in tqdm([(d1, d2) for d1 in depths for d2 in depths], desc=\"Processing depths\"):\n",
    "    for det in tqdm(deterministic, desc=\"Processing deterministic\"):\n",
    "        # print(f\"depth1: {d1}, depth2: {d2} deterministic: {det}\")\n",
    "        \n",
    "        # Play 10 games and track the results\n",
    "        p1_wins = 0\n",
    "        p2_wins = 0\n",
    "        p1_avg_time = 0\n",
    "        p2_avg_time = 0\n",
    "\n",
    "        for x in tqdm(range(game_amount), desc=\"Playing games\"):\n",
    "            ai = Negamax(d1)\n",
    "            ai2 = Negamax(d2)\n",
    "            game = Nim(players=[AI_Player(ai), AI_Player(ai2)],\n",
    "                    deterministic=det,\n",
    "                    piles=[5,5,5,5])\n",
    "            p1_time, p2_time = game.play(verbose=False)\n",
    "            p1_avg_time += p1_time\n",
    "            p2_avg_time += p2_time\n",
    "            # print(\"\\nplayer %d wins\\n\" % game.current_player)\n",
    "            if game.current_player == 1:\n",
    "                p1_wins += 1\n",
    "            else:\n",
    "                p2_wins += 1 \n",
    "\n",
    "        p1_avg_time /= game_amount\n",
    "        p2_avg_time /= game_amount\n",
    "        results[(d1, d2, det)] = {\"p1_wins\": p1_wins,\n",
    "                                    \"p2_wins\": p2_wins,\n",
    "                                    \"p1_average_game_time\": p1_avg_time,\n",
    "                                    \"p2_average_game_time\": p2_avg_time} # Update the results\n",
    "\n",
    "print(results)"
   ]
  },
  {
   "cell_type": "markdown",
   "metadata": {},
   "source": [
    "# Negamax bez alpha-beta pruning\n",
    "(zakładając, że copilot dobrze zaimplementował (ale chyba jest git xd))"
   ]
  },
  {
   "cell_type": "code",
   "execution_count": 6,
   "metadata": {},
   "outputs": [
    {
     "data": {
      "application/vnd.jupyter.widget-view+json": {
       "model_id": "b9da12374cbc45b287fbc3ef086a4c4a",
       "version_major": 2,
       "version_minor": 0
      },
      "text/plain": [
       "Processing depths:   0%|          | 0/4 [00:00<?, ?it/s]"
      ]
     },
     "metadata": {},
     "output_type": "display_data"
    },
    {
     "data": {
      "application/vnd.jupyter.widget-view+json": {
       "model_id": "89e58ec173ea47778cb8f4d1585a40fd",
       "version_major": 2,
       "version_minor": 0
      },
      "text/plain": [
       "Processing deterministic:   0%|          | 0/2 [00:00<?, ?it/s]"
      ]
     },
     "metadata": {},
     "output_type": "display_data"
    },
    {
     "data": {
      "application/vnd.jupyter.widget-view+json": {
       "model_id": "f46f21f34c2e4be58237906db0994399",
       "version_major": 2,
       "version_minor": 0
      },
      "text/plain": [
       "Playing games:   0%|          | 0/10 [00:00<?, ?it/s]"
      ]
     },
     "metadata": {},
     "output_type": "display_data"
    },
    {
     "data": {
      "application/vnd.jupyter.widget-view+json": {
       "model_id": "43d3c0358ffd42be96a7c00837d616a2",
       "version_major": 2,
       "version_minor": 0
      },
      "text/plain": [
       "Playing games:   0%|          | 0/10 [00:00<?, ?it/s]"
      ]
     },
     "metadata": {},
     "output_type": "display_data"
    },
    {
     "data": {
      "application/vnd.jupyter.widget-view+json": {
       "model_id": "5257c1a5e06245e6b964cadcb192c1bb",
       "version_major": 2,
       "version_minor": 0
      },
      "text/plain": [
       "Processing deterministic:   0%|          | 0/2 [00:00<?, ?it/s]"
      ]
     },
     "metadata": {},
     "output_type": "display_data"
    },
    {
     "data": {
      "application/vnd.jupyter.widget-view+json": {
       "model_id": "41480f2d03054037a4a2a15cfde0680d",
       "version_major": 2,
       "version_minor": 0
      },
      "text/plain": [
       "Playing games:   0%|          | 0/10 [00:00<?, ?it/s]"
      ]
     },
     "metadata": {},
     "output_type": "display_data"
    },
    {
     "ename": "KeyboardInterrupt",
     "evalue": "",
     "output_type": "error",
     "traceback": [
      "\u001b[0;31m---------------------------------------------------------------------------\u001b[0m",
      "\u001b[0;31mKeyboardInterrupt\u001b[0m                         Traceback (most recent call last)",
      "\u001b[1;32m/Users/coado/learning/inteligencja-obliczeniowa/lab1/script.ipynb Cell 6\u001b[0m line \u001b[0;36m2\n\u001b[1;32m     <a href='vscode-notebook-cell:/Users/coado/learning/inteligencja-obliczeniowa/lab1/script.ipynb#W5sZmlsZQ%3D%3D?line=19'>20</a>\u001b[0m ai2 \u001b[39m=\u001b[39m NegamaxNoPruning(d2)\n\u001b[1;32m     <a href='vscode-notebook-cell:/Users/coado/learning/inteligencja-obliczeniowa/lab1/script.ipynb#W5sZmlsZQ%3D%3D?line=20'>21</a>\u001b[0m game \u001b[39m=\u001b[39m Nim(players\u001b[39m=\u001b[39m[AI_Player(ai), AI_Player(ai2)],\n\u001b[1;32m     <a href='vscode-notebook-cell:/Users/coado/learning/inteligencja-obliczeniowa/lab1/script.ipynb#W5sZmlsZQ%3D%3D?line=21'>22</a>\u001b[0m         deterministic\u001b[39m=\u001b[39mdet,\n\u001b[1;32m     <a href='vscode-notebook-cell:/Users/coado/learning/inteligencja-obliczeniowa/lab1/script.ipynb#W5sZmlsZQ%3D%3D?line=22'>23</a>\u001b[0m         piles\u001b[39m=\u001b[39m[\u001b[39m5\u001b[39m,\u001b[39m5\u001b[39m,\u001b[39m5\u001b[39m,\u001b[39m5\u001b[39m])\n\u001b[0;32m---> <a href='vscode-notebook-cell:/Users/coado/learning/inteligencja-obliczeniowa/lab1/script.ipynb#W5sZmlsZQ%3D%3D?line=23'>24</a>\u001b[0m p1_time, p2_time \u001b[39m=\u001b[39m game\u001b[39m.\u001b[39mplay(verbose\u001b[39m=\u001b[39m\u001b[39mFalse\u001b[39;00m)\n\u001b[1;32m     <a href='vscode-notebook-cell:/Users/coado/learning/inteligencja-obliczeniowa/lab1/script.ipynb#W5sZmlsZQ%3D%3D?line=24'>25</a>\u001b[0m p1_avg_time \u001b[39m+\u001b[39m\u001b[39m=\u001b[39m p1_time\n\u001b[1;32m     <a href='vscode-notebook-cell:/Users/coado/learning/inteligencja-obliczeniowa/lab1/script.ipynb#W5sZmlsZQ%3D%3D?line=25'>26</a>\u001b[0m p2_avg_time \u001b[39m+\u001b[39m\u001b[39m=\u001b[39m p2_time\n",
      "File \u001b[0;32m~/learning/inteligencja-obliczeniowa/lab1/easyAI/TwoPlayerGame.py:116\u001b[0m, in \u001b[0;36mTwoPlayerGame.play\u001b[0;34m(self, nmoves, verbose)\u001b[0m\n\u001b[1;32m    113\u001b[0m     \u001b[39mbreak\u001b[39;00m\n\u001b[1;32m    115\u001b[0m start_time \u001b[39m=\u001b[39m timer()\n\u001b[0;32m--> 116\u001b[0m move \u001b[39m=\u001b[39m \u001b[39mself\u001b[39m\u001b[39m.\u001b[39mplayer\u001b[39m.\u001b[39mask_move(\u001b[39mself\u001b[39m)\n\u001b[1;32m    117\u001b[0m end_time \u001b[39m=\u001b[39m timer()\n\u001b[1;32m    119\u001b[0m thinking_time \u001b[39m=\u001b[39m end_time \u001b[39m-\u001b[39m start_time\n",
      "File \u001b[0;32m~/learning/inteligencja-obliczeniowa/lab1/easyAI/Player.py:63\u001b[0m, in \u001b[0;36mAI_Player.ask_move\u001b[0;34m(self, game)\u001b[0m\n\u001b[1;32m     62\u001b[0m \u001b[39mdef\u001b[39;00m \u001b[39mask_move\u001b[39m(\u001b[39mself\u001b[39m, game):\n\u001b[0;32m---> 63\u001b[0m     \u001b[39mreturn\u001b[39;00m \u001b[39mself\u001b[39m\u001b[39m.\u001b[39mAI_algo(game)\n",
      "File \u001b[0;32m~/learning/inteligencja-obliczeniowa/lab1/easyAI/AI/NegamaxNoPruning.py:160\u001b[0m, in \u001b[0;36mNegamaxNoPruning.__call__\u001b[0;34m(self, game)\u001b[0m\n\u001b[1;32m    152\u001b[0m \u001b[39m\u001b[39m\u001b[39m\"\"\"\u001b[39;00m\n\u001b[1;32m    153\u001b[0m \u001b[39mReturns the AI's best move given the current state of the game.\u001b[39;00m\n\u001b[1;32m    154\u001b[0m \u001b[39m\"\"\"\u001b[39;00m\n\u001b[1;32m    156\u001b[0m scoring \u001b[39m=\u001b[39m (\n\u001b[1;32m    157\u001b[0m     \u001b[39mself\u001b[39m\u001b[39m.\u001b[39mscoring \u001b[39mif\u001b[39;00m \u001b[39mself\u001b[39m\u001b[39m.\u001b[39mscoring \u001b[39melse\u001b[39;00m (\u001b[39mlambda\u001b[39;00m g: g\u001b[39m.\u001b[39mscoring())\n\u001b[1;32m    158\u001b[0m )  \u001b[39m# horrible hack\u001b[39;00m\n\u001b[0;32m--> 160\u001b[0m \u001b[39mself\u001b[39m\u001b[39m.\u001b[39malpha \u001b[39m=\u001b[39m negamax_no_pruning(\n\u001b[1;32m    161\u001b[0m     game,\n\u001b[1;32m    162\u001b[0m     \u001b[39mself\u001b[39m\u001b[39m.\u001b[39mdepth,\n\u001b[1;32m    163\u001b[0m     \u001b[39mself\u001b[39m\u001b[39m.\u001b[39mdepth,\n\u001b[1;32m    164\u001b[0m     scoring,\n\u001b[1;32m    165\u001b[0m     \u001b[39mself\u001b[39m\u001b[39m.\u001b[39mtt,\n\u001b[1;32m    166\u001b[0m )\n\u001b[1;32m    167\u001b[0m \u001b[39mreturn\u001b[39;00m game\u001b[39m.\u001b[39mai_move\n",
      "File \u001b[0;32m~/learning/inteligencja-obliczeniowa/lab1/easyAI/AI/NegamaxNoPruning.py:68\u001b[0m, in \u001b[0;36mnegamax_no_pruning\u001b[0;34m(game, depth, origDepth, scoring, tt)\u001b[0m\n\u001b[1;32m     65\u001b[0m game\u001b[39m.\u001b[39mmake_move(move)\n\u001b[1;32m     66\u001b[0m game\u001b[39m.\u001b[39mswitch_player()\n\u001b[0;32m---> 68\u001b[0m move_alpha \u001b[39m=\u001b[39m \u001b[39m-\u001b[39mnegamax_no_pruning(game, depth \u001b[39m-\u001b[39m \u001b[39m1\u001b[39m, origDepth, scoring, tt)\n\u001b[1;32m     70\u001b[0m \u001b[39mif\u001b[39;00m unmake_move:\n\u001b[1;32m     71\u001b[0m     game\u001b[39m.\u001b[39mswitch_player()\n",
      "File \u001b[0;32m~/learning/inteligencja-obliczeniowa/lab1/easyAI/AI/NegamaxNoPruning.py:68\u001b[0m, in \u001b[0;36mnegamax_no_pruning\u001b[0;34m(game, depth, origDepth, scoring, tt)\u001b[0m\n\u001b[1;32m     65\u001b[0m game\u001b[39m.\u001b[39mmake_move(move)\n\u001b[1;32m     66\u001b[0m game\u001b[39m.\u001b[39mswitch_player()\n\u001b[0;32m---> 68\u001b[0m move_alpha \u001b[39m=\u001b[39m \u001b[39m-\u001b[39mnegamax_no_pruning(game, depth \u001b[39m-\u001b[39m \u001b[39m1\u001b[39m, origDepth, scoring, tt)\n\u001b[1;32m     70\u001b[0m \u001b[39mif\u001b[39;00m unmake_move:\n\u001b[1;32m     71\u001b[0m     game\u001b[39m.\u001b[39mswitch_player()\n",
      "    \u001b[0;31m[... skipping similar frames: negamax_no_pruning at line 68 (3 times)]\u001b[0m\n",
      "File \u001b[0;32m~/learning/inteligencja-obliczeniowa/lab1/easyAI/AI/NegamaxNoPruning.py:68\u001b[0m, in \u001b[0;36mnegamax_no_pruning\u001b[0;34m(game, depth, origDepth, scoring, tt)\u001b[0m\n\u001b[1;32m     65\u001b[0m game\u001b[39m.\u001b[39mmake_move(move)\n\u001b[1;32m     66\u001b[0m game\u001b[39m.\u001b[39mswitch_player()\n\u001b[0;32m---> 68\u001b[0m move_alpha \u001b[39m=\u001b[39m \u001b[39m-\u001b[39mnegamax_no_pruning(game, depth \u001b[39m-\u001b[39m \u001b[39m1\u001b[39m, origDepth, scoring, tt)\n\u001b[1;32m     70\u001b[0m \u001b[39mif\u001b[39;00m unmake_move:\n\u001b[1;32m     71\u001b[0m     game\u001b[39m.\u001b[39mswitch_player()\n",
      "File \u001b[0;32m~/learning/inteligencja-obliczeniowa/lab1/easyAI/AI/NegamaxNoPruning.py:50\u001b[0m, in \u001b[0;36mnegamax_no_pruning\u001b[0;34m(game, depth, origDepth, scoring, tt)\u001b[0m\n\u001b[1;32m     46\u001b[0m     possible_moves \u001b[39m=\u001b[39m [lookup[\u001b[39m\"\u001b[39m\u001b[39mmove\u001b[39m\u001b[39m\"\u001b[39m]] \u001b[39m+\u001b[39m possible_moves\n\u001b[1;32m     48\u001b[0m \u001b[39melse\u001b[39;00m:\n\u001b[0;32m---> 50\u001b[0m     possible_moves \u001b[39m=\u001b[39m game\u001b[39m.\u001b[39mpossible_moves()\n\u001b[1;32m     52\u001b[0m state \u001b[39m=\u001b[39m game\n\u001b[1;32m     53\u001b[0m best_move \u001b[39m=\u001b[39m possible_moves[\u001b[39m0\u001b[39m]\n",
      "\u001b[1;32m/Users/coado/learning/inteligencja-obliczeniowa/lab1/script.ipynb Cell 6\u001b[0m line \u001b[0;36m1\n\u001b[1;32m      <a href='vscode-notebook-cell:/Users/coado/learning/inteligencja-obliczeniowa/lab1/script.ipynb#W5sZmlsZQ%3D%3D?line=8'>9</a>\u001b[0m \u001b[39mdef\u001b[39;00m \u001b[39mpossible_moves\u001b[39m(\u001b[39mself\u001b[39m):\n\u001b[0;32m---> <a href='vscode-notebook-cell:/Users/coado/learning/inteligencja-obliczeniowa/lab1/script.ipynb#W5sZmlsZQ%3D%3D?line=9'>10</a>\u001b[0m     moves \u001b[39m=\u001b[39m [\u001b[39m\"\u001b[39m\u001b[39m%d\u001b[39;00m\u001b[39m,\u001b[39m\u001b[39m%d\u001b[39;00m\u001b[39m\"\u001b[39m \u001b[39m%\u001b[39m (i \u001b[39m+\u001b[39m \u001b[39m1\u001b[39m, j) \u001b[39mfor\u001b[39;00m i \u001b[39min\u001b[39;00m \u001b[39mrange\u001b[39m(\u001b[39mlen\u001b[39m(\u001b[39mself\u001b[39m\u001b[39m.\u001b[39mpiles)) \u001b[39mfor\u001b[39;00m j \u001b[39min\u001b[39;00m \u001b[39mrange\u001b[39m(\u001b[39m1\u001b[39m, \u001b[39mself\u001b[39m\u001b[39m.\u001b[39mpiles[i] \u001b[39m+\u001b[39m \u001b[39m1\u001b[39m)]\n\u001b[1;32m     <a href='vscode-notebook-cell:/Users/coado/learning/inteligencja-obliczeniowa/lab1/script.ipynb#W5sZmlsZQ%3D%3D?line=10'>11</a>\u001b[0m     \u001b[39mreturn\u001b[39;00m moves\n",
      "\u001b[1;32m/Users/coado/learning/inteligencja-obliczeniowa/lab1/script.ipynb Cell 6\u001b[0m line \u001b[0;36m1\n\u001b[1;32m      <a href='vscode-notebook-cell:/Users/coado/learning/inteligencja-obliczeniowa/lab1/script.ipynb#W5sZmlsZQ%3D%3D?line=8'>9</a>\u001b[0m \u001b[39mdef\u001b[39;00m \u001b[39mpossible_moves\u001b[39m(\u001b[39mself\u001b[39m):\n\u001b[0;32m---> <a href='vscode-notebook-cell:/Users/coado/learning/inteligencja-obliczeniowa/lab1/script.ipynb#W5sZmlsZQ%3D%3D?line=9'>10</a>\u001b[0m     moves \u001b[39m=\u001b[39m [\u001b[39m\"\u001b[39m\u001b[39m%d\u001b[39;00m\u001b[39m,\u001b[39m\u001b[39m%d\u001b[39;00m\u001b[39m\"\u001b[39m \u001b[39m%\u001b[39m (i \u001b[39m+\u001b[39m \u001b[39m1\u001b[39m, j) \u001b[39mfor\u001b[39;00m i \u001b[39min\u001b[39;00m \u001b[39mrange\u001b[39m(\u001b[39mlen\u001b[39m(\u001b[39mself\u001b[39m\u001b[39m.\u001b[39mpiles)) \u001b[39mfor\u001b[39;00m j \u001b[39min\u001b[39;00m \u001b[39mrange\u001b[39m(\u001b[39m1\u001b[39m, \u001b[39mself\u001b[39m\u001b[39m.\u001b[39mpiles[i] \u001b[39m+\u001b[39m \u001b[39m1\u001b[39m)]\n\u001b[1;32m     <a href='vscode-notebook-cell:/Users/coado/learning/inteligencja-obliczeniowa/lab1/script.ipynb#W5sZmlsZQ%3D%3D?line=10'>11</a>\u001b[0m     \u001b[39mreturn\u001b[39;00m moves\n",
      "\u001b[0;31mKeyboardInterrupt\u001b[0m: "
     ]
    }
   ],
   "source": [
    "# Win tracking dict\n",
    "results = {}\n",
    "\n",
    "depths = [3, 7]\n",
    "deterministic = [True, False]\n",
    "game_amount = 10\n",
    "\n",
    "for d1, d2 in tqdm([(d1, d2) for d1 in depths for d2 in depths], desc=\"Processing depths\"):\n",
    "    for det in tqdm(deterministic, desc=\"Processing deterministic\"):\n",
    "        # print(f\"depth1: {d1}, depth2: {d2} deterministic: {det}\")\n",
    "        \n",
    "        # Play 10 games and track the results\n",
    "        p1_wins = 0\n",
    "        p2_wins = 0\n",
    "        p1_avg_time = 0\n",
    "        p2_avg_time = 0\n",
    "\n",
    "        for x in tqdm(range(game_amount), desc=\"Playing games\"):\n",
    "            ai = NegamaxNoPruning(d1)\n",
    "            ai2 = NegamaxNoPruning(d2)\n",
    "            game = Nim(players=[AI_Player(ai), AI_Player(ai2)],\n",
    "                    deterministic=det,\n",
    "                    piles=[5,5,5,5])\n",
    "            p1_time, p2_time = game.play(verbose=False)\n",
    "            p1_avg_time += p1_time\n",
    "            p2_avg_time += p2_time\n",
    "            # print(\"\\nplayer %d wins\\n\" % game.current_player)\n",
    "            if game.current_player == 1:\n",
    "                p1_wins += 1\n",
    "            else:\n",
    "                p2_wins += 1 \n",
    "\n",
    "        p1_avg_time /= game_amount\n",
    "        p2_avg_time /= game_amount\n",
    "        results[(d1, d2, det)] = {\"p1_wins\": p1_wins,\n",
    "                                    \"p2_wins\": p2_wins,\n",
    "                                    \"p1_average_game_time\": p1_avg_time,\n",
    "                                    \"p2_average_game_time\": p2_avg_time} # Update the results\n",
    "\n",
    "print(results)"
   ]
  },
  {
   "cell_type": "markdown",
   "metadata": {},
   "source": [
    "# Non Recursive Negamax"
   ]
  },
  {
   "cell_type": "code",
   "execution_count": 7,
   "metadata": {},
   "outputs": [
    {
     "data": {
      "application/vnd.jupyter.widget-view+json": {
       "model_id": "b9b05d0589624d87bab6f75ec43cf494",
       "version_major": 2,
       "version_minor": 0
      },
      "text/plain": [
       "Processing depths:   0%|          | 0/4 [00:00<?, ?it/s]"
      ]
     },
     "metadata": {},
     "output_type": "display_data"
    },
    {
     "data": {
      "application/vnd.jupyter.widget-view+json": {
       "model_id": "ba0df7c8e33f4f58b70d349e52f507bf",
       "version_major": 2,
       "version_minor": 0
      },
      "text/plain": [
       "Processing deterministic:   0%|          | 0/2 [00:00<?, ?it/s]"
      ]
     },
     "metadata": {},
     "output_type": "display_data"
    },
    {
     "data": {
      "application/vnd.jupyter.widget-view+json": {
       "model_id": "2b6b4be9bbad489fa2506546ce12e546",
       "version_major": 2,
       "version_minor": 0
      },
      "text/plain": [
       "Playing games:   0%|          | 0/10 [00:00<?, ?it/s]"
      ]
     },
     "metadata": {},
     "output_type": "display_data"
    },
    {
     "data": {
      "application/vnd.jupyter.widget-view+json": {
       "model_id": "30698faa0fc246a4a0fc95fefc78a462",
       "version_major": 2,
       "version_minor": 0
      },
      "text/plain": [
       "Playing games:   0%|          | 0/10 [00:00<?, ?it/s]"
      ]
     },
     "metadata": {},
     "output_type": "display_data"
    },
    {
     "data": {
      "application/vnd.jupyter.widget-view+json": {
       "model_id": "32231de9613e4f52b8f8d7a5c38e8a27",
       "version_major": 2,
       "version_minor": 0
      },
      "text/plain": [
       "Processing deterministic:   0%|          | 0/2 [00:00<?, ?it/s]"
      ]
     },
     "metadata": {},
     "output_type": "display_data"
    },
    {
     "data": {
      "application/vnd.jupyter.widget-view+json": {
       "model_id": "92970d8545f64430b89a3f716ef33383",
       "version_major": 2,
       "version_minor": 0
      },
      "text/plain": [
       "Playing games:   0%|          | 0/10 [00:00<?, ?it/s]"
      ]
     },
     "metadata": {},
     "output_type": "display_data"
    },
    {
     "data": {
      "application/vnd.jupyter.widget-view+json": {
       "model_id": "c2e9ddeab535404ca2e3183f0c3c0c51",
       "version_major": 2,
       "version_minor": 0
      },
      "text/plain": [
       "Playing games:   0%|          | 0/10 [00:00<?, ?it/s]"
      ]
     },
     "metadata": {},
     "output_type": "display_data"
    },
    {
     "data": {
      "application/vnd.jupyter.widget-view+json": {
       "model_id": "d64010c2b33b499eb87c6dc6626e155d",
       "version_major": 2,
       "version_minor": 0
      },
      "text/plain": [
       "Processing deterministic:   0%|          | 0/2 [00:00<?, ?it/s]"
      ]
     },
     "metadata": {},
     "output_type": "display_data"
    },
    {
     "data": {
      "application/vnd.jupyter.widget-view+json": {
       "model_id": "fcc6870087104aef9fe93bdcf4b74bd7",
       "version_major": 2,
       "version_minor": 0
      },
      "text/plain": [
       "Playing games:   0%|          | 0/10 [00:00<?, ?it/s]"
      ]
     },
     "metadata": {},
     "output_type": "display_data"
    },
    {
     "data": {
      "application/vnd.jupyter.widget-view+json": {
       "model_id": "6b90900ef70e4e53bfc5051931e5d3ea",
       "version_major": 2,
       "version_minor": 0
      },
      "text/plain": [
       "Playing games:   0%|          | 0/10 [00:00<?, ?it/s]"
      ]
     },
     "metadata": {},
     "output_type": "display_data"
    },
    {
     "data": {
      "application/vnd.jupyter.widget-view+json": {
       "model_id": "486e2b716c584dfda83d36cdfed0d5ed",
       "version_major": 2,
       "version_minor": 0
      },
      "text/plain": [
       "Processing deterministic:   0%|          | 0/2 [00:00<?, ?it/s]"
      ]
     },
     "metadata": {},
     "output_type": "display_data"
    },
    {
     "data": {
      "application/vnd.jupyter.widget-view+json": {
       "model_id": "b55cc79f8e4249e9add0e3c958faccc6",
       "version_major": 2,
       "version_minor": 0
      },
      "text/plain": [
       "Playing games:   0%|          | 0/10 [00:00<?, ?it/s]"
      ]
     },
     "metadata": {},
     "output_type": "display_data"
    },
    {
     "data": {
      "application/vnd.jupyter.widget-view+json": {
       "model_id": "6142fc099ce64e51a60e91e27068ab95",
       "version_major": 2,
       "version_minor": 0
      },
      "text/plain": [
       "Playing games:   0%|          | 0/10 [00:00<?, ?it/s]"
      ]
     },
     "metadata": {},
     "output_type": "display_data"
    },
    {
     "name": "stdout",
     "output_type": "stream",
     "text": [
      "{(3, 3, True): {'p1_wins': 0, 'p2_wins': 10, 'p1_average_game_time': 0.00028412952204234895, 'p2_average_game_time': 0.0002549337869923975}, (3, 3, False): {'p1_wins': 4, 'p2_wins': 6, 'p1_average_game_time': 0.0003316547213101082, 'p2_average_game_time': 0.0002596155919882497}, (3, 7, True): {'p1_wins': 0, 'p2_wins': 10, 'p1_average_game_time': 0.00025299671455286443, 'p2_average_game_time': 0.01677502083281676}, (3, 7, False): {'p1_wins': 3, 'p2_wins': 7, 'p1_average_game_time': 0.0002562799139625647, 'p2_average_game_time': 0.016616205583241856}, (7, 3, True): {'p1_wins': 10, 'p2_wins': 0, 'p1_average_game_time': 0.021125693092795293, 'p2_average_game_time': 0.00023271855122099322}, (7, 3, False): {'p1_wins': 6, 'p2_wins': 4, 'p1_average_game_time': 0.020010347877731406, 'p2_average_game_time': 0.00023978267150761727}, (7, 7, True): {'p1_wins': 0, 'p2_wins': 10, 'p1_average_game_time': 0.018875012070639057, 'p2_average_game_time': 0.016312647273298352}, (7, 7, False): {'p1_wins': 4, 'p2_wins': 6, 'p1_average_game_time': 0.01876381757785566, 'p2_average_game_time': 0.01577208927578547}}\n"
     ]
    }
   ],
   "source": [
    "# Win tracking dict\n",
    "results = {}\n",
    "\n",
    "depths = [3, 7]\n",
    "deterministic = [True, False]\n",
    "game_amount = 10\n",
    "\n",
    "for d1, d2 in tqdm([(d1, d2) for d1 in depths for d2 in depths], desc=\"Processing depths\"):\n",
    "    for det in tqdm(deterministic, desc=\"Processing deterministic\"):\n",
    "        # print(f\"depth1: {d1}, depth2: {d2} deterministic: {det}\")\n",
    "        \n",
    "        # Play 10 games and track the results\n",
    "        p1_wins = 0\n",
    "        p2_wins = 0\n",
    "        p1_avg_time = 0\n",
    "        p2_avg_time = 0\n",
    "\n",
    "        for x in tqdm(range(game_amount), desc=\"Playing games\"):\n",
    "            ai = NonRecursiveNegamax(d1)\n",
    "            ai2 = NonRecursiveNegamax(d2)\n",
    "            game = Nim(players=[AI_Player(ai), AI_Player(ai2)],\n",
    "                    deterministic=det,\n",
    "                    piles=[5,5,5,5])\n",
    "            p1_time, p2_time = game.play(verbose=False)\n",
    "            p1_avg_time += p1_time\n",
    "            p2_avg_time += p2_time\n",
    "            # print(\"\\nplayer %d wins\\n\" % game.current_player)\n",
    "            if game.current_player == 1:\n",
    "                p1_wins += 1\n",
    "            else:\n",
    "                p2_wins += 1 \n",
    "\n",
    "        p1_avg_time /= game_amount\n",
    "        p2_avg_time /= game_amount\n",
    "        results[(d1, d2, det)] = {\"p1_wins\": p1_wins,\n",
    "                                    \"p2_wins\": p2_wins,\n",
    "                                    \"p1_average_game_time\": p1_avg_time,\n",
    "                                    \"p2_average_game_time\": p2_avg_time} # Update the results\n",
    "\n",
    "print(results)"
   ]
  },
  {
   "cell_type": "markdown",
   "metadata": {},
   "source": [
    "# SSS"
   ]
  },
  {
   "cell_type": "code",
   "execution_count": 8,
   "metadata": {},
   "outputs": [
    {
     "data": {
      "application/vnd.jupyter.widget-view+json": {
       "model_id": "6191256234984340b457cb2165245ba8",
       "version_major": 2,
       "version_minor": 0
      },
      "text/plain": [
       "Processing depths:   0%|          | 0/4 [00:00<?, ?it/s]"
      ]
     },
     "metadata": {},
     "output_type": "display_data"
    },
    {
     "data": {
      "application/vnd.jupyter.widget-view+json": {
       "model_id": "1b65276f8a1a4bee98c650c122c853ff",
       "version_major": 2,
       "version_minor": 0
      },
      "text/plain": [
       "Processing deterministic:   0%|          | 0/2 [00:00<?, ?it/s]"
      ]
     },
     "metadata": {},
     "output_type": "display_data"
    },
    {
     "data": {
      "application/vnd.jupyter.widget-view+json": {
       "model_id": "eeeaba925c4e48b198663adf4217ee28",
       "version_major": 2,
       "version_minor": 0
      },
      "text/plain": [
       "Playing games:   0%|          | 0/10 [00:00<?, ?it/s]"
      ]
     },
     "metadata": {},
     "output_type": "display_data"
    },
    {
     "data": {
      "application/vnd.jupyter.widget-view+json": {
       "model_id": "233650e9e6d849b8813c48a2f43f4086",
       "version_major": 2,
       "version_minor": 0
      },
      "text/plain": [
       "Playing games:   0%|          | 0/10 [00:00<?, ?it/s]"
      ]
     },
     "metadata": {},
     "output_type": "display_data"
    },
    {
     "data": {
      "application/vnd.jupyter.widget-view+json": {
       "model_id": "b29032c84523451896c86436a168c1b9",
       "version_major": 2,
       "version_minor": 0
      },
      "text/plain": [
       "Processing deterministic:   0%|          | 0/2 [00:00<?, ?it/s]"
      ]
     },
     "metadata": {},
     "output_type": "display_data"
    },
    {
     "data": {
      "application/vnd.jupyter.widget-view+json": {
       "model_id": "c98f789ef5ae439ead7f8db5ca5b9130",
       "version_major": 2,
       "version_minor": 0
      },
      "text/plain": [
       "Playing games:   0%|          | 0/10 [00:00<?, ?it/s]"
      ]
     },
     "metadata": {},
     "output_type": "display_data"
    },
    {
     "data": {
      "application/vnd.jupyter.widget-view+json": {
       "model_id": "353207ea0e9d49c8bffedb519b3d0f31",
       "version_major": 2,
       "version_minor": 0
      },
      "text/plain": [
       "Playing games:   0%|          | 0/10 [00:00<?, ?it/s]"
      ]
     },
     "metadata": {},
     "output_type": "display_data"
    },
    {
     "data": {
      "application/vnd.jupyter.widget-view+json": {
       "model_id": "6f417525afd1403e8242ca6921d89ad1",
       "version_major": 2,
       "version_minor": 0
      },
      "text/plain": [
       "Processing deterministic:   0%|          | 0/2 [00:00<?, ?it/s]"
      ]
     },
     "metadata": {},
     "output_type": "display_data"
    },
    {
     "data": {
      "application/vnd.jupyter.widget-view+json": {
       "model_id": "76f7da21893440eebe1160b893b736ec",
       "version_major": 2,
       "version_minor": 0
      },
      "text/plain": [
       "Playing games:   0%|          | 0/10 [00:00<?, ?it/s]"
      ]
     },
     "metadata": {},
     "output_type": "display_data"
    },
    {
     "data": {
      "application/vnd.jupyter.widget-view+json": {
       "model_id": "d2c00d35db7848a199f274ec066535ed",
       "version_major": 2,
       "version_minor": 0
      },
      "text/plain": [
       "Playing games:   0%|          | 0/10 [00:00<?, ?it/s]"
      ]
     },
     "metadata": {},
     "output_type": "display_data"
    },
    {
     "data": {
      "application/vnd.jupyter.widget-view+json": {
       "model_id": "ffe98aefe2d54666b0ec4a08638b5be0",
       "version_major": 2,
       "version_minor": 0
      },
      "text/plain": [
       "Processing deterministic:   0%|          | 0/2 [00:00<?, ?it/s]"
      ]
     },
     "metadata": {},
     "output_type": "display_data"
    },
    {
     "data": {
      "application/vnd.jupyter.widget-view+json": {
       "model_id": "c8cf6af81854459f9c6ee40046f70225",
       "version_major": 2,
       "version_minor": 0
      },
      "text/plain": [
       "Playing games:   0%|          | 0/10 [00:00<?, ?it/s]"
      ]
     },
     "metadata": {},
     "output_type": "display_data"
    },
    {
     "data": {
      "application/vnd.jupyter.widget-view+json": {
       "model_id": "f6a178a50f4b49169a970610a525e57c",
       "version_major": 2,
       "version_minor": 0
      },
      "text/plain": [
       "Playing games:   0%|          | 0/10 [00:00<?, ?it/s]"
      ]
     },
     "metadata": {},
     "output_type": "display_data"
    },
    {
     "name": "stdout",
     "output_type": "stream",
     "text": [
      "{(3, 3, True): {'p1_wins': 0, 'p2_wins': 10, 'p1_average_game_time': 0.0002289470552932471, 'p2_average_game_time': 0.00024683378999018006}, (3, 3, False): {'p1_wins': 6, 'p2_wins': 4, 'p1_average_game_time': 0.00020798426082668204, 'p2_average_game_time': 0.00019021828850552516}, (3, 7, True): {'p1_wins': 0, 'p2_wins': 10, 'p1_average_game_time': 0.00019951410824432968, 'p2_average_game_time': 0.019893830576135467}, (3, 7, False): {'p1_wins': 2, 'p2_wins': 8, 'p1_average_game_time': 0.00019779810952398966, 'p2_average_game_time': 0.01911820238727766}, (7, 3, True): {'p1_wins': 10, 'p2_wins': 0, 'p1_average_game_time': 0.02334477917886236, 'p2_average_game_time': 0.00018067178963166144}, (7, 3, False): {'p1_wins': 7, 'p2_wins': 3, 'p1_average_game_time': 0.02371987709793206, 'p2_average_game_time': 0.00018958421986411332}, (7, 7, True): {'p1_wins': 0, 'p2_wins': 10, 'p1_average_game_time': 0.026445193312247282, 'p2_average_game_time': 0.024016775638197683}, (7, 7, False): {'p1_wins': 6, 'p2_wins': 4, 'p1_average_game_time': 0.027432303284003867, 'p2_average_game_time': 0.023314404772018963}}\n"
     ]
    }
   ],
   "source": [
    "# Win tracking dict\n",
    "results = {}\n",
    "\n",
    "depths = [3, 7]\n",
    "deterministic = [True, False]\n",
    "game_amount = 10\n",
    "\n",
    "for d1, d2 in tqdm([(d1, d2) for d1 in depths for d2 in depths], desc=\"Processing depths\"):\n",
    "    for det in tqdm(deterministic, desc=\"Processing deterministic\"):\n",
    "        # print(f\"depth1: {d1}, depth2: {d2} deterministic: {det}\")\n",
    "        \n",
    "        # Play 10 games and track the results\n",
    "        p1_wins = 0\n",
    "        p2_wins = 0\n",
    "        p1_avg_time = 0\n",
    "        p2_avg_time = 0\n",
    "\n",
    "        for x in tqdm(range(game_amount), desc=\"Playing games\"):\n",
    "            ai = SSS(d1)\n",
    "            ai2 = SSS(d2)\n",
    "            game = Nim(players=[AI_Player(ai), AI_Player(ai2)],\n",
    "                    deterministic=det,\n",
    "                    piles=[5,5,5,5])\n",
    "            p1_time, p2_time = game.play(verbose=False)\n",
    "            p1_avg_time += p1_time\n",
    "            p2_avg_time += p2_time\n",
    "            # print(\"\\nplayer %d wins\\n\" % game.current_player)\n",
    "            if game.current_player == 1:\n",
    "                p1_wins += 1\n",
    "            else:\n",
    "                p2_wins += 1 \n",
    "\n",
    "        p1_avg_time /= game_amount\n",
    "        p2_avg_time /= game_amount\n",
    "        results[(d1, d2, det)] = {\"p1_wins\": p1_wins,\n",
    "                                    \"p2_wins\": p2_wins,\n",
    "                                    \"p1_average_game_time\": p1_avg_time,\n",
    "                                    \"p2_average_game_time\": p2_avg_time} # Update the results\n",
    "\n",
    "print(results)"
   ]
  },
  {
   "cell_type": "markdown",
   "metadata": {},
   "source": [
    "# Expectiminimax"
   ]
  },
  {
   "cell_type": "code",
   "execution_count": 9,
   "metadata": {},
   "outputs": [
    {
     "data": {
      "application/vnd.jupyter.widget-view+json": {
       "model_id": "ec2363cb04a548dd910307878012685b",
       "version_major": 2,
       "version_minor": 0
      },
      "text/plain": [
       "Processing depths:   0%|          | 0/4 [00:00<?, ?it/s]"
      ]
     },
     "metadata": {},
     "output_type": "display_data"
    },
    {
     "data": {
      "application/vnd.jupyter.widget-view+json": {
       "model_id": "b2822bddfd4f46b79a3ed70e96c7f02a",
       "version_major": 2,
       "version_minor": 0
      },
      "text/plain": [
       "Processing deterministic:   0%|          | 0/2 [00:00<?, ?it/s]"
      ]
     },
     "metadata": {},
     "output_type": "display_data"
    },
    {
     "data": {
      "application/vnd.jupyter.widget-view+json": {
       "model_id": "c992f28f95e24075a8a74d45f2b25042",
       "version_major": 2,
       "version_minor": 0
      },
      "text/plain": [
       "Playing games:   0%|          | 0/10 [00:00<?, ?it/s]"
      ]
     },
     "metadata": {},
     "output_type": "display_data"
    },
    {
     "data": {
      "application/vnd.jupyter.widget-view+json": {
       "model_id": "673ec8706a1f41d09daee90adc9c3448",
       "version_major": 2,
       "version_minor": 0
      },
      "text/plain": [
       "Playing games:   0%|          | 0/10 [00:00<?, ?it/s]"
      ]
     },
     "metadata": {},
     "output_type": "display_data"
    },
    {
     "data": {
      "application/vnd.jupyter.widget-view+json": {
       "model_id": "75b62d50d8234fb9a848958b416df6bd",
       "version_major": 2,
       "version_minor": 0
      },
      "text/plain": [
       "Processing deterministic:   0%|          | 0/2 [00:00<?, ?it/s]"
      ]
     },
     "metadata": {},
     "output_type": "display_data"
    },
    {
     "data": {
      "application/vnd.jupyter.widget-view+json": {
       "model_id": "90abb0734ac74b9d94cb5912cc8fc667",
       "version_major": 2,
       "version_minor": 0
      },
      "text/plain": [
       "Playing games:   0%|          | 0/10 [00:00<?, ?it/s]"
      ]
     },
     "metadata": {},
     "output_type": "display_data"
    },
    {
     "data": {
      "application/vnd.jupyter.widget-view+json": {
       "model_id": "cdb663749133418ab6cbfe0d3b7b74c7",
       "version_major": 2,
       "version_minor": 0
      },
      "text/plain": [
       "Playing games:   0%|          | 0/10 [00:00<?, ?it/s]"
      ]
     },
     "metadata": {},
     "output_type": "display_data"
    },
    {
     "ename": "KeyboardInterrupt",
     "evalue": "",
     "output_type": "error",
     "traceback": [
      "\u001b[0;31m---------------------------------------------------------------------------\u001b[0m",
      "\u001b[0;31mKeyboardInterrupt\u001b[0m                         Traceback (most recent call last)",
      "\u001b[1;32m/Users/coado/learning/inteligencja-obliczeniowa/lab1/script.ipynb Cell 12\u001b[0m line \u001b[0;36m2\n\u001b[1;32m     <a href='vscode-notebook-cell:/Users/coado/learning/inteligencja-obliczeniowa/lab1/script.ipynb#X14sZmlsZQ%3D%3D?line=19'>20</a>\u001b[0m ai2 \u001b[39m=\u001b[39m Expectiminimax(d2)\n\u001b[1;32m     <a href='vscode-notebook-cell:/Users/coado/learning/inteligencja-obliczeniowa/lab1/script.ipynb#X14sZmlsZQ%3D%3D?line=20'>21</a>\u001b[0m game \u001b[39m=\u001b[39m Nim(players\u001b[39m=\u001b[39m[AI_Player(ai), AI_Player(ai2)],\n\u001b[1;32m     <a href='vscode-notebook-cell:/Users/coado/learning/inteligencja-obliczeniowa/lab1/script.ipynb#X14sZmlsZQ%3D%3D?line=21'>22</a>\u001b[0m         deterministic\u001b[39m=\u001b[39mdet,\n\u001b[1;32m     <a href='vscode-notebook-cell:/Users/coado/learning/inteligencja-obliczeniowa/lab1/script.ipynb#X14sZmlsZQ%3D%3D?line=22'>23</a>\u001b[0m         piles\u001b[39m=\u001b[39m[\u001b[39m5\u001b[39m,\u001b[39m5\u001b[39m,\u001b[39m5\u001b[39m,\u001b[39m5\u001b[39m])\n\u001b[0;32m---> <a href='vscode-notebook-cell:/Users/coado/learning/inteligencja-obliczeniowa/lab1/script.ipynb#X14sZmlsZQ%3D%3D?line=23'>24</a>\u001b[0m p1_time, p2_time \u001b[39m=\u001b[39m game\u001b[39m.\u001b[39mplay(verbose\u001b[39m=\u001b[39m\u001b[39mFalse\u001b[39;00m)\n\u001b[1;32m     <a href='vscode-notebook-cell:/Users/coado/learning/inteligencja-obliczeniowa/lab1/script.ipynb#X14sZmlsZQ%3D%3D?line=24'>25</a>\u001b[0m p1_avg_time \u001b[39m+\u001b[39m\u001b[39m=\u001b[39m p1_time\n\u001b[1;32m     <a href='vscode-notebook-cell:/Users/coado/learning/inteligencja-obliczeniowa/lab1/script.ipynb#X14sZmlsZQ%3D%3D?line=25'>26</a>\u001b[0m p2_avg_time \u001b[39m+\u001b[39m\u001b[39m=\u001b[39m p2_time\n",
      "File \u001b[0;32m~/learning/inteligencja-obliczeniowa/lab1/easyAI/TwoPlayerGame.py:116\u001b[0m, in \u001b[0;36mTwoPlayerGame.play\u001b[0;34m(self, nmoves, verbose)\u001b[0m\n\u001b[1;32m    113\u001b[0m     \u001b[39mbreak\u001b[39;00m\n\u001b[1;32m    115\u001b[0m start_time \u001b[39m=\u001b[39m timer()\n\u001b[0;32m--> 116\u001b[0m move \u001b[39m=\u001b[39m \u001b[39mself\u001b[39m\u001b[39m.\u001b[39mplayer\u001b[39m.\u001b[39mask_move(\u001b[39mself\u001b[39m)\n\u001b[1;32m    117\u001b[0m end_time \u001b[39m=\u001b[39m timer()\n\u001b[1;32m    119\u001b[0m thinking_time \u001b[39m=\u001b[39m end_time \u001b[39m-\u001b[39m start_time\n",
      "File \u001b[0;32m~/learning/inteligencja-obliczeniowa/lab1/easyAI/Player.py:63\u001b[0m, in \u001b[0;36mAI_Player.ask_move\u001b[0;34m(self, game)\u001b[0m\n\u001b[1;32m     62\u001b[0m \u001b[39mdef\u001b[39;00m \u001b[39mask_move\u001b[39m(\u001b[39mself\u001b[39m, game):\n\u001b[0;32m---> 63\u001b[0m     \u001b[39mreturn\u001b[39;00m \u001b[39mself\u001b[39m\u001b[39m.\u001b[39mAI_algo(game)\n",
      "File \u001b[0;32m~/learning/inteligencja-obliczeniowa/lab1/easyAI/AI/Expectiminimax.py:182\u001b[0m, in \u001b[0;36mExpectiminimax.__call__\u001b[0;34m(self, game)\u001b[0m\n\u001b[1;32m    174\u001b[0m \u001b[39m\u001b[39m\u001b[39m\"\"\"\u001b[39;00m\n\u001b[1;32m    175\u001b[0m \u001b[39mReturns the AI's best move given the current state of the game.\u001b[39;00m\n\u001b[1;32m    176\u001b[0m \u001b[39m\"\"\"\u001b[39;00m\n\u001b[1;32m    178\u001b[0m scoring \u001b[39m=\u001b[39m (\n\u001b[1;32m    179\u001b[0m     \u001b[39mself\u001b[39m\u001b[39m.\u001b[39mscoring \u001b[39mif\u001b[39;00m \u001b[39mself\u001b[39m\u001b[39m.\u001b[39mscoring \u001b[39melse\u001b[39;00m (\u001b[39mlambda\u001b[39;00m g: g\u001b[39m.\u001b[39mscoring())\n\u001b[1;32m    180\u001b[0m )  \u001b[39m# horrible hack\u001b[39;00m\n\u001b[0;32m--> 182\u001b[0m \u001b[39mself\u001b[39m\u001b[39m.\u001b[39malpha \u001b[39m=\u001b[39m expectiminimax(\n\u001b[1;32m    183\u001b[0m     game,\n\u001b[1;32m    184\u001b[0m     \u001b[39mself\u001b[39m\u001b[39m.\u001b[39mdepth,\n\u001b[1;32m    185\u001b[0m     \u001b[39mself\u001b[39m\u001b[39m.\u001b[39mdepth,\n\u001b[1;32m    186\u001b[0m     scoring,\n\u001b[1;32m    187\u001b[0m     \u001b[39m-\u001b[39m\u001b[39mself\u001b[39m\u001b[39m.\u001b[39mwin_score,\n\u001b[1;32m    188\u001b[0m     \u001b[39m+\u001b[39m\u001b[39mself\u001b[39m\u001b[39m.\u001b[39mwin_score,\n\u001b[1;32m    189\u001b[0m     \u001b[39mself\u001b[39m\u001b[39m.\u001b[39mtt,\n\u001b[1;32m    190\u001b[0m )\n\u001b[1;32m    191\u001b[0m \u001b[39mreturn\u001b[39;00m game\u001b[39m.\u001b[39mai_move\n",
      "File \u001b[0;32m~/learning/inteligencja-obliczeniowa/lab1/easyAI/AI/Expectiminimax.py:82\u001b[0m, in \u001b[0;36mexpectiminimax\u001b[0;34m(game, depth, origDepth, scoring, alpha, beta, tt)\u001b[0m\n\u001b[1;32m     80\u001b[0m game\u001b[39m.\u001b[39mmake_move(backfired_move)\n\u001b[1;32m     81\u001b[0m game\u001b[39m.\u001b[39mswitch_player()\n\u001b[0;32m---> 82\u001b[0m backfired_move_alpha \u001b[39m=\u001b[39m \u001b[39m-\u001b[39mexpectiminimax(game, depth \u001b[39m-\u001b[39m \u001b[39m1\u001b[39m, origDepth, scoring, \u001b[39m-\u001b[39mbeta, \u001b[39m-\u001b[39malpha, tt)\n\u001b[1;32m     83\u001b[0m game\u001b[39m.\u001b[39mswitch_player()\n\u001b[1;32m     84\u001b[0m game\u001b[39m.\u001b[39munmake_move(backfired_move)\n",
      "File \u001b[0;32m~/learning/inteligencja-obliczeniowa/lab1/easyAI/AI/Expectiminimax.py:82\u001b[0m, in \u001b[0;36mexpectiminimax\u001b[0;34m(game, depth, origDepth, scoring, alpha, beta, tt)\u001b[0m\n\u001b[1;32m     80\u001b[0m game\u001b[39m.\u001b[39mmake_move(backfired_move)\n\u001b[1;32m     81\u001b[0m game\u001b[39m.\u001b[39mswitch_player()\n\u001b[0;32m---> 82\u001b[0m backfired_move_alpha \u001b[39m=\u001b[39m \u001b[39m-\u001b[39mexpectiminimax(game, depth \u001b[39m-\u001b[39m \u001b[39m1\u001b[39m, origDepth, scoring, \u001b[39m-\u001b[39mbeta, \u001b[39m-\u001b[39malpha, tt)\n\u001b[1;32m     83\u001b[0m game\u001b[39m.\u001b[39mswitch_player()\n\u001b[1;32m     84\u001b[0m game\u001b[39m.\u001b[39munmake_move(backfired_move)\n",
      "    \u001b[0;31m[... skipping similar frames: expectiminimax at line 82 (3 times)]\u001b[0m\n",
      "File \u001b[0;32m~/learning/inteligencja-obliczeniowa/lab1/easyAI/AI/Expectiminimax.py:82\u001b[0m, in \u001b[0;36mexpectiminimax\u001b[0;34m(game, depth, origDepth, scoring, alpha, beta, tt)\u001b[0m\n\u001b[1;32m     80\u001b[0m game\u001b[39m.\u001b[39mmake_move(backfired_move)\n\u001b[1;32m     81\u001b[0m game\u001b[39m.\u001b[39mswitch_player()\n\u001b[0;32m---> 82\u001b[0m backfired_move_alpha \u001b[39m=\u001b[39m \u001b[39m-\u001b[39mexpectiminimax(game, depth \u001b[39m-\u001b[39m \u001b[39m1\u001b[39m, origDepth, scoring, \u001b[39m-\u001b[39mbeta, \u001b[39m-\u001b[39malpha, tt)\n\u001b[1;32m     83\u001b[0m game\u001b[39m.\u001b[39mswitch_player()\n\u001b[1;32m     84\u001b[0m game\u001b[39m.\u001b[39munmake_move(backfired_move)\n",
      "File \u001b[0;32m~/learning/inteligencja-obliczeniowa/lab1/easyAI/AI/Expectiminimax.py:80\u001b[0m, in \u001b[0;36mexpectiminimax\u001b[0;34m(game, depth, origDepth, scoring, alpha, beta, tt)\u001b[0m\n\u001b[1;32m     78\u001b[0m count \u001b[39m=\u001b[39m \u001b[39mstr\u001b[39m(\u001b[39mint\u001b[39m(count) \u001b[39m-\u001b[39m \u001b[39m1\u001b[39m)\n\u001b[1;32m     79\u001b[0m backfired_move \u001b[39m=\u001b[39m \u001b[39mf\u001b[39m\u001b[39m\"\u001b[39m\u001b[39m{\u001b[39;00mpile\u001b[39m}\u001b[39;00m\u001b[39m,\u001b[39m\u001b[39m{\u001b[39;00mcount\u001b[39m}\u001b[39;00m\u001b[39m\"\u001b[39m\n\u001b[0;32m---> 80\u001b[0m game\u001b[39m.\u001b[39mmake_move(backfired_move)\n\u001b[1;32m     81\u001b[0m game\u001b[39m.\u001b[39mswitch_player()\n\u001b[1;32m     82\u001b[0m backfired_move_alpha \u001b[39m=\u001b[39m \u001b[39m-\u001b[39mexpectiminimax(game, depth \u001b[39m-\u001b[39m \u001b[39m1\u001b[39m, origDepth, scoring, \u001b[39m-\u001b[39mbeta, \u001b[39m-\u001b[39malpha, tt)\n",
      "\u001b[1;32m/Users/coado/learning/inteligencja-obliczeniowa/lab1/script.ipynb Cell 12\u001b[0m line \u001b[0;36m2\n\u001b[1;32m     <a href='vscode-notebook-cell:/Users/coado/learning/inteligencja-obliczeniowa/lab1/script.ipynb#X14sZmlsZQ%3D%3D?line=18'>19</a>\u001b[0m \u001b[39mdef\u001b[39;00m \u001b[39mmake_move\u001b[39m(\u001b[39mself\u001b[39m, move):\n\u001b[1;32m     <a href='vscode-notebook-cell:/Users/coado/learning/inteligencja-obliczeniowa/lab1/script.ipynb#X14sZmlsZQ%3D%3D?line=19'>20</a>\u001b[0m     pile, count \u001b[39m=\u001b[39m move\u001b[39m.\u001b[39msplit(\u001b[39m\"\u001b[39m\u001b[39m,\u001b[39m\u001b[39m\"\u001b[39m)\n\u001b[0;32m---> <a href='vscode-notebook-cell:/Users/coado/learning/inteligencja-obliczeniowa/lab1/script.ipynb#X14sZmlsZQ%3D%3D?line=20'>21</a>\u001b[0m     \u001b[39mself\u001b[39m\u001b[39m.\u001b[39mpiles[\u001b[39mint\u001b[39m(pile) \u001b[39m-\u001b[39m \u001b[39m1\u001b[39m] \u001b[39m-\u001b[39m\u001b[39m=\u001b[39m \u001b[39mint\u001b[39m(count)\n",
      "\u001b[0;31mKeyboardInterrupt\u001b[0m: "
     ]
    }
   ],
   "source": [
    "# Win tracking dict\n",
    "results = {}\n",
    "\n",
    "depths = [3, 7]\n",
    "deterministic = [True, False]\n",
    "game_amount = 10\n",
    "\n",
    "for d1, d2 in tqdm([(d1, d2) for d1 in depths for d2 in depths], desc=\"Processing depths\"):\n",
    "    for det in tqdm(deterministic, desc=\"Processing deterministic\"):\n",
    "        # print(f\"depth1: {d1}, depth2: {d2} deterministic: {det}\")\n",
    "        \n",
    "        # Play 10 games and track the results\n",
    "        p1_wins = 0\n",
    "        p2_wins = 0\n",
    "        p1_avg_time = 0\n",
    "        p2_avg_time = 0\n",
    "\n",
    "        for x in tqdm(range(game_amount), desc=\"Playing games\"):\n",
    "            ai = Expectiminimax(d1)\n",
    "            ai2 = Expectiminimax(d2)\n",
    "            game = Nim(players=[AI_Player(ai), AI_Player(ai2)],\n",
    "                    deterministic=det,\n",
    "                    piles=[5,5,5,5])\n",
    "            p1_time, p2_time = game.play(verbose=False)\n",
    "            p1_avg_time += p1_time\n",
    "            p2_avg_time += p2_time\n",
    "            # print(\"\\nplayer %d wins\\n\" % game.current_player)\n",
    "            if game.current_player == 1:\n",
    "                p1_wins += 1\n",
    "            else:\n",
    "                p2_wins += 1 \n",
    "\n",
    "        p1_avg_time /= game_amount\n",
    "        p2_avg_time /= game_amount\n",
    "        results[(d1, d2, det)] = {\"p1_wins\": p1_wins,\n",
    "                                    \"p2_wins\": p2_wins,\n",
    "                                    \"p1_average_game_time\": p1_avg_time,\n",
    "                                    \"p2_average_game_time\": p2_avg_time} # Update the results\n",
    "\n",
    "print(results)"
   ]
  },
  {
   "cell_type": "code",
   "execution_count": 10,
   "metadata": {},
   "outputs": [],
   "source": [
    "# read txt, it contains a dict, assign it to a variable\n",
    "with open(\"results/Negamax.txt\", \"r\") as file:\n",
    "    negamax_results = eval(file.read())\n",
    "with open(\"results/NegamaxNoPruning.txt\", \"r\") as file:\n",
    "    negamax_no_pruning_results = eval(file.read())\n",
    "with open(\"results/NonRecursiveNegamax.txt\", \"r\") as file:\n",
    "    non_recursive_negamax_results = eval(file.read())\n",
    "with open(\"results/SSS.txt\", \"r\") as file:\n",
    "    sss_results = eval(file.read())\n",
    "with open(\"results/Expectiminimax.txt\", \"r\") as file:\n",
    "    expectiminimax_results = eval(file.read())"
   ]
  },
  {
   "cell_type": "code",
   "execution_count": null,
   "metadata": {},
   "outputs": [
    {
     "data": {
      "text/plain": [
       "dict_keys([(3, 3, True), (3, 3, False), (3, 7, True), (3, 7, False), (7, 3, True), (7, 3, False), (7, 7, True), (7, 7, False)])"
      ]
     },
     "execution_count": 27,
     "metadata": {},
     "output_type": "execute_result"
    }
   ],
   "source": [
    "negamax_results.keys()"
   ]
  },
  {
   "cell_type": "code",
   "execution_count": 11,
   "metadata": {},
   "outputs": [],
   "source": [
    "def prepare_dataframe(results, det, algorithm_name):\n",
    "    # Only take keys with deterministic = det, also remove the deterministic key\n",
    "    results = {k: v for k, v in results.items() if k[2] == det}\n",
    "    results = {k[:2]: v for k, v in results.items()}\n",
    "\n",
    "    # Convert to dataframes\n",
    "    df = pd.DataFrame(results)\n",
    "    # Swap rows with columns\n",
    "    df = df.transpose()\n",
    "    # Change column names\n",
    "    df.columns = [\"P1 wins\", \"P2 wins\", \"P1 average turn time\", \"P2 average turn time\"]\n",
    "    # Add column for the depth\n",
    "    df[\"Depth\"] = df.index\n",
    "    # Convert float to int\n",
    "    df[\"P1 wins\"] = df[\"P1 wins\"].astype(int)\n",
    "    df[\"P2 wins\"] = df[\"P2 wins\"].astype(int)\n",
    "    # Add column for the algorithm name\n",
    "    df[\"Algorithm\"] = algorithm_name\n",
    "    return df"
   ]
  },
  {
   "cell_type": "code",
   "execution_count": 12,
   "metadata": {},
   "outputs": [
    {
     "data": {
      "text/html": [
       "<div>\n",
       "<style scoped>\n",
       "    .dataframe tbody tr th:only-of-type {\n",
       "        vertical-align: middle;\n",
       "    }\n",
       "\n",
       "    .dataframe tbody tr th {\n",
       "        vertical-align: top;\n",
       "    }\n",
       "\n",
       "    .dataframe thead th {\n",
       "        text-align: right;\n",
       "    }\n",
       "</style>\n",
       "<table border=\"1\" class=\"dataframe\">\n",
       "  <thead>\n",
       "    <tr style=\"text-align: right;\">\n",
       "      <th></th>\n",
       "      <th>P1 wins</th>\n",
       "      <th>P2 wins</th>\n",
       "      <th>P1 average turn time</th>\n",
       "      <th>P2 average turn time</th>\n",
       "      <th>Depth</th>\n",
       "      <th>Algorithm</th>\n",
       "    </tr>\n",
       "  </thead>\n",
       "  <tbody>\n",
       "    <tr>\n",
       "      <th>0</th>\n",
       "      <td>0</td>\n",
       "      <td>10</td>\n",
       "      <td>0.000323</td>\n",
       "      <td>0.000326</td>\n",
       "      <td>(3, 3)</td>\n",
       "      <td>Negamax</td>\n",
       "    </tr>\n",
       "    <tr>\n",
       "      <th>1</th>\n",
       "      <td>0</td>\n",
       "      <td>10</td>\n",
       "      <td>0.000300</td>\n",
       "      <td>0.022325</td>\n",
       "      <td>(3, 7)</td>\n",
       "      <td>Negamax</td>\n",
       "    </tr>\n",
       "    <tr>\n",
       "      <th>2</th>\n",
       "      <td>10</td>\n",
       "      <td>0</td>\n",
       "      <td>0.028406</td>\n",
       "      <td>0.000323</td>\n",
       "      <td>(7, 3)</td>\n",
       "      <td>Negamax</td>\n",
       "    </tr>\n",
       "    <tr>\n",
       "      <th>3</th>\n",
       "      <td>0</td>\n",
       "      <td>10</td>\n",
       "      <td>0.023934</td>\n",
       "      <td>0.021653</td>\n",
       "      <td>(7, 7)</td>\n",
       "      <td>Negamax</td>\n",
       "    </tr>\n",
       "    <tr>\n",
       "      <th>4</th>\n",
       "      <td>0</td>\n",
       "      <td>10</td>\n",
       "      <td>0.002352</td>\n",
       "      <td>0.002235</td>\n",
       "      <td>(3, 3)</td>\n",
       "      <td>NegamaxNoPruning</td>\n",
       "    </tr>\n",
       "    <tr>\n",
       "      <th>5</th>\n",
       "      <td>0</td>\n",
       "      <td>10</td>\n",
       "      <td>0.002285</td>\n",
       "      <td>6.192901</td>\n",
       "      <td>(3, 7)</td>\n",
       "      <td>NegamaxNoPruning</td>\n",
       "    </tr>\n",
       "    <tr>\n",
       "      <th>6</th>\n",
       "      <td>10</td>\n",
       "      <td>0</td>\n",
       "      <td>9.457784</td>\n",
       "      <td>0.002167</td>\n",
       "      <td>(7, 3)</td>\n",
       "      <td>NegamaxNoPruning</td>\n",
       "    </tr>\n",
       "    <tr>\n",
       "      <th>7</th>\n",
       "      <td>0</td>\n",
       "      <td>10</td>\n",
       "      <td>8.437451</td>\n",
       "      <td>6.304129</td>\n",
       "      <td>(7, 7)</td>\n",
       "      <td>NegamaxNoPruning</td>\n",
       "    </tr>\n",
       "    <tr>\n",
       "      <th>8</th>\n",
       "      <td>0</td>\n",
       "      <td>10</td>\n",
       "      <td>0.000587</td>\n",
       "      <td>0.000570</td>\n",
       "      <td>(3, 3)</td>\n",
       "      <td>NonRecursiveNegamax</td>\n",
       "    </tr>\n",
       "    <tr>\n",
       "      <th>9</th>\n",
       "      <td>0</td>\n",
       "      <td>10</td>\n",
       "      <td>0.000523</td>\n",
       "      <td>0.033737</td>\n",
       "      <td>(3, 7)</td>\n",
       "      <td>NonRecursiveNegamax</td>\n",
       "    </tr>\n",
       "    <tr>\n",
       "      <th>10</th>\n",
       "      <td>10</td>\n",
       "      <td>0</td>\n",
       "      <td>0.030837</td>\n",
       "      <td>0.000347</td>\n",
       "      <td>(7, 3)</td>\n",
       "      <td>NonRecursiveNegamax</td>\n",
       "    </tr>\n",
       "    <tr>\n",
       "      <th>11</th>\n",
       "      <td>0</td>\n",
       "      <td>10</td>\n",
       "      <td>0.028018</td>\n",
       "      <td>0.023945</td>\n",
       "      <td>(7, 7)</td>\n",
       "      <td>NonRecursiveNegamax</td>\n",
       "    </tr>\n",
       "    <tr>\n",
       "      <th>12</th>\n",
       "      <td>0</td>\n",
       "      <td>10</td>\n",
       "      <td>0.000480</td>\n",
       "      <td>0.000465</td>\n",
       "      <td>(3, 3)</td>\n",
       "      <td>SSS</td>\n",
       "    </tr>\n",
       "    <tr>\n",
       "      <th>13</th>\n",
       "      <td>0</td>\n",
       "      <td>10</td>\n",
       "      <td>0.000474</td>\n",
       "      <td>0.045282</td>\n",
       "      <td>(3, 7)</td>\n",
       "      <td>SSS</td>\n",
       "    </tr>\n",
       "    <tr>\n",
       "      <th>14</th>\n",
       "      <td>10</td>\n",
       "      <td>0</td>\n",
       "      <td>0.038624</td>\n",
       "      <td>0.000306</td>\n",
       "      <td>(7, 3)</td>\n",
       "      <td>SSS</td>\n",
       "    </tr>\n",
       "    <tr>\n",
       "      <th>15</th>\n",
       "      <td>0</td>\n",
       "      <td>10</td>\n",
       "      <td>0.043826</td>\n",
       "      <td>0.039979</td>\n",
       "      <td>(7, 7)</td>\n",
       "      <td>SSS</td>\n",
       "    </tr>\n",
       "    <tr>\n",
       "      <th>16</th>\n",
       "      <td>0</td>\n",
       "      <td>10</td>\n",
       "      <td>0.000446</td>\n",
       "      <td>0.000442</td>\n",
       "      <td>(3, 3)</td>\n",
       "      <td>Expectiminimax</td>\n",
       "    </tr>\n",
       "    <tr>\n",
       "      <th>17</th>\n",
       "      <td>0</td>\n",
       "      <td>10</td>\n",
       "      <td>0.000316</td>\n",
       "      <td>0.022827</td>\n",
       "      <td>(3, 7)</td>\n",
       "      <td>Expectiminimax</td>\n",
       "    </tr>\n",
       "    <tr>\n",
       "      <th>18</th>\n",
       "      <td>10</td>\n",
       "      <td>0</td>\n",
       "      <td>0.029629</td>\n",
       "      <td>0.000321</td>\n",
       "      <td>(7, 3)</td>\n",
       "      <td>Expectiminimax</td>\n",
       "    </tr>\n",
       "    <tr>\n",
       "      <th>19</th>\n",
       "      <td>0</td>\n",
       "      <td>10</td>\n",
       "      <td>0.026409</td>\n",
       "      <td>0.022943</td>\n",
       "      <td>(7, 7)</td>\n",
       "      <td>Expectiminimax</td>\n",
       "    </tr>\n",
       "  </tbody>\n",
       "</table>\n",
       "</div>"
      ],
      "text/plain": [
       "    P1 wins  P2 wins  P1 average turn time  P2 average turn time   Depth  \\\n",
       "0         0       10              0.000323              0.000326  (3, 3)   \n",
       "1         0       10              0.000300              0.022325  (3, 7)   \n",
       "2        10        0              0.028406              0.000323  (7, 3)   \n",
       "3         0       10              0.023934              0.021653  (7, 7)   \n",
       "4         0       10              0.002352              0.002235  (3, 3)   \n",
       "5         0       10              0.002285              6.192901  (3, 7)   \n",
       "6        10        0              9.457784              0.002167  (7, 3)   \n",
       "7         0       10              8.437451              6.304129  (7, 7)   \n",
       "8         0       10              0.000587              0.000570  (3, 3)   \n",
       "9         0       10              0.000523              0.033737  (3, 7)   \n",
       "10       10        0              0.030837              0.000347  (7, 3)   \n",
       "11        0       10              0.028018              0.023945  (7, 7)   \n",
       "12        0       10              0.000480              0.000465  (3, 3)   \n",
       "13        0       10              0.000474              0.045282  (3, 7)   \n",
       "14       10        0              0.038624              0.000306  (7, 3)   \n",
       "15        0       10              0.043826              0.039979  (7, 7)   \n",
       "16        0       10              0.000446              0.000442  (3, 3)   \n",
       "17        0       10              0.000316              0.022827  (3, 7)   \n",
       "18       10        0              0.029629              0.000321  (7, 3)   \n",
       "19        0       10              0.026409              0.022943  (7, 7)   \n",
       "\n",
       "              Algorithm  \n",
       "0               Negamax  \n",
       "1               Negamax  \n",
       "2               Negamax  \n",
       "3               Negamax  \n",
       "4      NegamaxNoPruning  \n",
       "5      NegamaxNoPruning  \n",
       "6      NegamaxNoPruning  \n",
       "7      NegamaxNoPruning  \n",
       "8   NonRecursiveNegamax  \n",
       "9   NonRecursiveNegamax  \n",
       "10  NonRecursiveNegamax  \n",
       "11  NonRecursiveNegamax  \n",
       "12                  SSS  \n",
       "13                  SSS  \n",
       "14                  SSS  \n",
       "15                  SSS  \n",
       "16       Expectiminimax  \n",
       "17       Expectiminimax  \n",
       "18       Expectiminimax  \n",
       "19       Expectiminimax  "
      ]
     },
     "execution_count": 12,
     "metadata": {},
     "output_type": "execute_result"
    }
   ],
   "source": [
    "# Append all deterministic dataframes together\n",
    "df_deterministic = pd.concat([prepare_dataframe(negamax_results, True, \"Negamax\"),\n",
    "                prepare_dataframe(negamax_no_pruning_results, True, \"NegamaxNoPruning\"),\n",
    "                prepare_dataframe(non_recursive_negamax_results, True, \"NonRecursiveNegamax\"),\n",
    "                prepare_dataframe(sss_results, True, \"SSS\"),\n",
    "                prepare_dataframe(expectiminimax_results, True, \"Expectiminimax\")])\n",
    "\n",
    "df_deterministic.reset_index(drop=True, inplace=True)\n",
    "df_deterministic"
   ]
  },
  {
   "cell_type": "code",
   "execution_count": 13,
   "metadata": {},
   "outputs": [
    {
     "data": {
      "text/html": [
       "<div>\n",
       "<style scoped>\n",
       "    .dataframe tbody tr th:only-of-type {\n",
       "        vertical-align: middle;\n",
       "    }\n",
       "\n",
       "    .dataframe tbody tr th {\n",
       "        vertical-align: top;\n",
       "    }\n",
       "\n",
       "    .dataframe thead th {\n",
       "        text-align: right;\n",
       "    }\n",
       "</style>\n",
       "<table border=\"1\" class=\"dataframe\">\n",
       "  <thead>\n",
       "    <tr style=\"text-align: right;\">\n",
       "      <th></th>\n",
       "      <th>P1 wins</th>\n",
       "      <th>P2 wins</th>\n",
       "      <th>P1 average turn time</th>\n",
       "      <th>P2 average turn time</th>\n",
       "      <th>Depth</th>\n",
       "      <th>Algorithm</th>\n",
       "    </tr>\n",
       "  </thead>\n",
       "  <tbody>\n",
       "    <tr>\n",
       "      <th>0</th>\n",
       "      <td>1</td>\n",
       "      <td>9</td>\n",
       "      <td>0.000377</td>\n",
       "      <td>0.000378</td>\n",
       "      <td>(3, 3)</td>\n",
       "      <td>Negamax</td>\n",
       "    </tr>\n",
       "    <tr>\n",
       "      <th>1</th>\n",
       "      <td>3</td>\n",
       "      <td>7</td>\n",
       "      <td>0.000317</td>\n",
       "      <td>0.022761</td>\n",
       "      <td>(3, 7)</td>\n",
       "      <td>Negamax</td>\n",
       "    </tr>\n",
       "    <tr>\n",
       "      <th>2</th>\n",
       "      <td>7</td>\n",
       "      <td>3</td>\n",
       "      <td>0.025529</td>\n",
       "      <td>0.000292</td>\n",
       "      <td>(7, 3)</td>\n",
       "      <td>Negamax</td>\n",
       "    </tr>\n",
       "    <tr>\n",
       "      <th>3</th>\n",
       "      <td>5</td>\n",
       "      <td>5</td>\n",
       "      <td>0.024704</td>\n",
       "      <td>0.021459</td>\n",
       "      <td>(7, 7)</td>\n",
       "      <td>Negamax</td>\n",
       "    </tr>\n",
       "    <tr>\n",
       "      <th>4</th>\n",
       "      <td>6</td>\n",
       "      <td>4</td>\n",
       "      <td>0.002165</td>\n",
       "      <td>0.001970</td>\n",
       "      <td>(3, 3)</td>\n",
       "      <td>NegamaxNoPruning</td>\n",
       "    </tr>\n",
       "    <tr>\n",
       "      <th>5</th>\n",
       "      <td>4</td>\n",
       "      <td>6</td>\n",
       "      <td>0.002478</td>\n",
       "      <td>6.702793</td>\n",
       "      <td>(3, 7)</td>\n",
       "      <td>NegamaxNoPruning</td>\n",
       "    </tr>\n",
       "    <tr>\n",
       "      <th>6</th>\n",
       "      <td>8</td>\n",
       "      <td>2</td>\n",
       "      <td>9.432900</td>\n",
       "      <td>0.002168</td>\n",
       "      <td>(7, 3)</td>\n",
       "      <td>NegamaxNoPruning</td>\n",
       "    </tr>\n",
       "    <tr>\n",
       "      <th>7</th>\n",
       "      <td>5</td>\n",
       "      <td>5</td>\n",
       "      <td>9.085430</td>\n",
       "      <td>7.044955</td>\n",
       "      <td>(7, 7)</td>\n",
       "      <td>NegamaxNoPruning</td>\n",
       "    </tr>\n",
       "    <tr>\n",
       "      <th>8</th>\n",
       "      <td>5</td>\n",
       "      <td>5</td>\n",
       "      <td>0.000643</td>\n",
       "      <td>0.000551</td>\n",
       "      <td>(3, 3)</td>\n",
       "      <td>NonRecursiveNegamax</td>\n",
       "    </tr>\n",
       "    <tr>\n",
       "      <th>9</th>\n",
       "      <td>2</td>\n",
       "      <td>8</td>\n",
       "      <td>0.000521</td>\n",
       "      <td>0.033183</td>\n",
       "      <td>(3, 7)</td>\n",
       "      <td>NonRecursiveNegamax</td>\n",
       "    </tr>\n",
       "    <tr>\n",
       "      <th>10</th>\n",
       "      <td>8</td>\n",
       "      <td>2</td>\n",
       "      <td>0.030319</td>\n",
       "      <td>0.000352</td>\n",
       "      <td>(7, 3)</td>\n",
       "      <td>NonRecursiveNegamax</td>\n",
       "    </tr>\n",
       "    <tr>\n",
       "      <th>11</th>\n",
       "      <td>4</td>\n",
       "      <td>6</td>\n",
       "      <td>0.028050</td>\n",
       "      <td>0.023709</td>\n",
       "      <td>(7, 7)</td>\n",
       "      <td>NonRecursiveNegamax</td>\n",
       "    </tr>\n",
       "    <tr>\n",
       "      <th>12</th>\n",
       "      <td>4</td>\n",
       "      <td>6</td>\n",
       "      <td>0.000597</td>\n",
       "      <td>0.000554</td>\n",
       "      <td>(3, 3)</td>\n",
       "      <td>SSS</td>\n",
       "    </tr>\n",
       "    <tr>\n",
       "      <th>13</th>\n",
       "      <td>2</td>\n",
       "      <td>8</td>\n",
       "      <td>0.000454</td>\n",
       "      <td>0.046214</td>\n",
       "      <td>(3, 7)</td>\n",
       "      <td>SSS</td>\n",
       "    </tr>\n",
       "    <tr>\n",
       "      <th>14</th>\n",
       "      <td>8</td>\n",
       "      <td>2</td>\n",
       "      <td>0.037171</td>\n",
       "      <td>0.000312</td>\n",
       "      <td>(7, 3)</td>\n",
       "      <td>SSS</td>\n",
       "    </tr>\n",
       "    <tr>\n",
       "      <th>15</th>\n",
       "      <td>2</td>\n",
       "      <td>8</td>\n",
       "      <td>0.040427</td>\n",
       "      <td>0.037903</td>\n",
       "      <td>(7, 7)</td>\n",
       "      <td>SSS</td>\n",
       "    </tr>\n",
       "    <tr>\n",
       "      <th>16</th>\n",
       "      <td>5</td>\n",
       "      <td>5</td>\n",
       "      <td>0.002675</td>\n",
       "      <td>0.002524</td>\n",
       "      <td>(3, 3)</td>\n",
       "      <td>Expectiminimax</td>\n",
       "    </tr>\n",
       "    <tr>\n",
       "      <th>17</th>\n",
       "      <td>3</td>\n",
       "      <td>7</td>\n",
       "      <td>0.002208</td>\n",
       "      <td>3.809995</td>\n",
       "      <td>(3, 7)</td>\n",
       "      <td>Expectiminimax</td>\n",
       "    </tr>\n",
       "    <tr>\n",
       "      <th>18</th>\n",
       "      <td>5</td>\n",
       "      <td>5</td>\n",
       "      <td>4.283704</td>\n",
       "      <td>0.002107</td>\n",
       "      <td>(7, 3)</td>\n",
       "      <td>Expectiminimax</td>\n",
       "    </tr>\n",
       "    <tr>\n",
       "      <th>19</th>\n",
       "      <td>5</td>\n",
       "      <td>5</td>\n",
       "      <td>4.143148</td>\n",
       "      <td>3.562364</td>\n",
       "      <td>(7, 7)</td>\n",
       "      <td>Expectiminimax</td>\n",
       "    </tr>\n",
       "  </tbody>\n",
       "</table>\n",
       "</div>"
      ],
      "text/plain": [
       "    P1 wins  P2 wins  P1 average turn time  P2 average turn time   Depth  \\\n",
       "0         1        9              0.000377              0.000378  (3, 3)   \n",
       "1         3        7              0.000317              0.022761  (3, 7)   \n",
       "2         7        3              0.025529              0.000292  (7, 3)   \n",
       "3         5        5              0.024704              0.021459  (7, 7)   \n",
       "4         6        4              0.002165              0.001970  (3, 3)   \n",
       "5         4        6              0.002478              6.702793  (3, 7)   \n",
       "6         8        2              9.432900              0.002168  (7, 3)   \n",
       "7         5        5              9.085430              7.044955  (7, 7)   \n",
       "8         5        5              0.000643              0.000551  (3, 3)   \n",
       "9         2        8              0.000521              0.033183  (3, 7)   \n",
       "10        8        2              0.030319              0.000352  (7, 3)   \n",
       "11        4        6              0.028050              0.023709  (7, 7)   \n",
       "12        4        6              0.000597              0.000554  (3, 3)   \n",
       "13        2        8              0.000454              0.046214  (3, 7)   \n",
       "14        8        2              0.037171              0.000312  (7, 3)   \n",
       "15        2        8              0.040427              0.037903  (7, 7)   \n",
       "16        5        5              0.002675              0.002524  (3, 3)   \n",
       "17        3        7              0.002208              3.809995  (3, 7)   \n",
       "18        5        5              4.283704              0.002107  (7, 3)   \n",
       "19        5        5              4.143148              3.562364  (7, 7)   \n",
       "\n",
       "              Algorithm  \n",
       "0               Negamax  \n",
       "1               Negamax  \n",
       "2               Negamax  \n",
       "3               Negamax  \n",
       "4      NegamaxNoPruning  \n",
       "5      NegamaxNoPruning  \n",
       "6      NegamaxNoPruning  \n",
       "7      NegamaxNoPruning  \n",
       "8   NonRecursiveNegamax  \n",
       "9   NonRecursiveNegamax  \n",
       "10  NonRecursiveNegamax  \n",
       "11  NonRecursiveNegamax  \n",
       "12                  SSS  \n",
       "13                  SSS  \n",
       "14                  SSS  \n",
       "15                  SSS  \n",
       "16       Expectiminimax  \n",
       "17       Expectiminimax  \n",
       "18       Expectiminimax  \n",
       "19       Expectiminimax  "
      ]
     },
     "execution_count": 13,
     "metadata": {},
     "output_type": "execute_result"
    }
   ],
   "source": [
    "# Append all non-deterministic dataframes together\n",
    "df_non_deterministic = pd.concat([prepare_dataframe(negamax_results, False, \"Negamax\"),\n",
    "                prepare_dataframe(negamax_no_pruning_results, False, \"NegamaxNoPruning\"),\n",
    "                prepare_dataframe(non_recursive_negamax_results, False, \"NonRecursiveNegamax\"),\n",
    "                prepare_dataframe(sss_results, False, \"SSS\"),\n",
    "                prepare_dataframe(expectiminimax_results, False, \"Expectiminimax\")])\n",
    "\n",
    "df_non_deterministic.reset_index(drop=True, inplace=True)\n",
    "df_non_deterministic"
   ]
  },
  {
   "cell_type": "code",
   "execution_count": 14,
   "metadata": {},
   "outputs": [],
   "source": [
    "# Convert to csv\n",
    "df_deterministic.to_csv(\"results/deterministic.csv\", index=False, sep=\";\")\n",
    "df_non_deterministic.to_csv(\"results/non_deterministic.csv\", index=False, sep=\";\")"
   ]
  },
  {
   "cell_type": "markdown",
   "metadata": {},
   "source": [
    "# Play the game"
   ]
  },
  {
   "cell_type": "code",
   "execution_count": 15,
   "metadata": {},
   "outputs": [
    {
     "name": "stdout",
     "output_type": "stream",
     "text": [
      "5 5 5 5\n",
      "------------------------------\n",
      "\n",
      "Move #1: player 1 plays (1,1) and it was successful:\n",
      "Took 1.65053 seconds to make a move.\n",
      "4 5 5 5\n",
      "\n",
      "------------------------------\n",
      "\n",
      "Move #2: player 2 plays (1,1) and it was successful:\n",
      "Took 21.81764 seconds to make a move.\n",
      "3 5 5 5\n",
      "\n",
      "------------------------------\n",
      "\n",
      "Move #3: player 1 plays (1,1) and it was successful:\n",
      "Took 1.20613 seconds to make a move.\n",
      "2 5 5 5\n",
      "\n",
      "------------------------------\n",
      "\n",
      "Move #4: player 2 plays (2,2) and it was successful:\n",
      "Took 2.71474 seconds to make a move.\n",
      "2 3 5 5\n",
      "\n",
      "------------------------------\n",
      "\n",
      "Move #5: player 1 plays (1,1) and it was successful:\n",
      "Took 1.54150 seconds to make a move.\n",
      "1 3 5 5\n",
      "\n",
      "------------------------------\n",
      "\n",
      "Move #6: player 2 plays (4,5) and it was successful:\n",
      "Took 2.38929 seconds to make a move.\n",
      "1 3 5 0\n",
      "\n",
      "------------------------------\n",
      "\n",
      "Move #7: player 1 plays (3,3) and it was successful:\n",
      "Took 0.00923 seconds to make a move.\n",
      "1 3 2 0\n",
      "\n",
      "------------------------------\n",
      "\n",
      "Move #8: player 2 plays (3,2) and it was successful:\n",
      "Took 4.99939 seconds to make a move.\n",
      "1 3 0 0\n",
      "\n",
      "------------------------------\n",
      "\n",
      "Move #9: player 1 plays (2,3) and it was successful:\n",
      "Took 0.00014 seconds to make a move.\n",
      "1 0 0 0\n",
      "\n"
     ]
    }
   ],
   "source": [
    "ai = Negamax(10)\n",
    "game = Nim([AI_Player(ai), Human_Player()], deterministic=True, piles=[5,5,5,5])\n",
    "x = game.play(verbose=True)\n",
    "print(\"\\nplayer %d wins\\n\" % game.current_player)"
   ]
  },
  {
   "cell_type": "code",
   "execution_count": null,
   "metadata": {},
   "outputs": [],
   "source": []
  }
 ],
 "metadata": {
  "kernelspec": {
   "display_name": "intobl",
   "language": "python",
   "name": "python3"
  },
  "language_info": {
   "codemirror_mode": {
    "name": "ipython",
    "version": 3
   },
   "file_extension": ".py",
   "mimetype": "text/x-python",
   "name": "python",
   "nbconvert_exporter": "python",
   "pygments_lexer": "ipython3",
   "version": "3.11.5"
  }
 },
 "nbformat": 4,
 "nbformat_minor": 2
}
