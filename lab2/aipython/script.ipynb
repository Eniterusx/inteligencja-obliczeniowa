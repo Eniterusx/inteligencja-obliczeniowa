{
 "cells": [
  {
   "cell_type": "code",
   "execution_count": 1,
   "metadata": {},
   "outputs": [
    {
     "name": "stdout",
     "output_type": "stream",
     "text": [
      "Solution: {'cake': False}\n",
      "   --bake_cake--> {'cake': True} (cost: 1)\n",
      " 2 paths have been expanded and 0 paths remain in the frontier\n"
     ]
    },
    {
     "data": {
      "text/plain": [
       "{'cake': False}\n",
       "   --bake_cake--> {'cake': True}"
      ]
     },
     "execution_count": 1,
     "metadata": {},
     "output_type": "execute_result"
    }
   ],
   "source": [
    "from stripsProblem import Planning_problem, STRIPS_domain, Strips\n",
    "from searchMPP import SearcherMPP\n",
    "from stripsForwardPlanner import Forward_STRIPS\n",
    "\n",
    "# Cake\n",
    "# 1. The cake is in the kitchen\n",
    "# 2. The cake is delicious\n",
    "# 3. The cake is not eaten\n",
    "# 4. The cake is sweet\n",
    "# 5. The cake is not sweet\n",
    "# 6. The cake is not delicious\n",
    "# 7. The cake is eaten\n",
    "# 8. The cake is in the stomach\n",
    "\n",
    "def eat():\n",
    "    return \"eat_cake\"\n",
    "\n",
    "def bake():\n",
    "    return \"bake_cake\"\n",
    "\n",
    "stmap = { \n",
    "        Strips(eat(), { \"cake\": True}, {\"cake\": False}),\n",
    "        Strips(bake(), { \"cake\": False}, {\"cake\": True})\n",
    "    }\n",
    "\n",
    "# all possible actions\n",
    "feature_domain_dict = { \"cake\": { True, False} }\n",
    "strips_domain = STRIPS_domain(feature_domain_dict, stmap)\n",
    "cake_problem = Planning_problem(strips_domain, { \"cake\": False}, { \"cake\": True})\n",
    "SearcherMPP(Forward_STRIPS(cake_problem)).search()\n"
   ]
  },
  {
   "cell_type": "code",
   "execution_count": 8,
   "metadata": {},
   "outputs": [
    {
     "ename": "TypeError",
     "evalue": "initWorld() missing 2 required positional arguments: 'fire_coords' and 'earth_coords'",
     "output_type": "error",
     "traceback": [
      "\u001b[0;31m---------------------------------------------------------------------------\u001b[0m",
      "\u001b[0;31mTypeError\u001b[0m                                 Traceback (most recent call last)",
      "\u001b[1;32m/Users/coado/learning/inteligencja-obliczeniowa/lab2/aipython/script.ipynb Cell 2\u001b[0m line \u001b[0;36m7\n\u001b[1;32m     <a href='vscode-notebook-cell:/Users/coado/learning/inteligencja-obliczeniowa/lab2/aipython/script.ipynb#W2sZmlsZQ%3D%3D?line=68'>69</a>\u001b[0m     \u001b[39mreturn\u001b[39;00m STRIPS_domain(feature_domain_dict, stmap)\n\u001b[1;32m     <a href='vscode-notebook-cell:/Users/coado/learning/inteligencja-obliczeniowa/lab2/aipython/script.ipynb#W2sZmlsZQ%3D%3D?line=70'>71</a>\u001b[0m dragon \u001b[39m=\u001b[39m (\u001b[39m1\u001b[39m, \u001b[39m3\u001b[39m)\n\u001b[0;32m---> <a href='vscode-notebook-cell:/Users/coado/learning/inteligencja-obliczeniowa/lab2/aipython/script.ipynb#W2sZmlsZQ%3D%3D?line=71'>72</a>\u001b[0m world1 \u001b[39m=\u001b[39m initWorld(\u001b[39m5\u001b[39m, dragon)\n\u001b[1;32m     <a href='vscode-notebook-cell:/Users/coado/learning/inteligencja-obliczeniowa/lab2/aipython/script.ipynb#W2sZmlsZQ%3D%3D?line=72'>73</a>\u001b[0m player_coords \u001b[39m=\u001b[39m (\u001b[39m1\u001b[39m, \u001b[39m1\u001b[39m)\n\u001b[1;32m     <a href='vscode-notebook-cell:/Users/coado/learning/inteligencja-obliczeniowa/lab2/aipython/script.ipynb#W2sZmlsZQ%3D%3D?line=73'>74</a>\u001b[0m castle \u001b[39m=\u001b[39m (\u001b[39m4\u001b[39m, \u001b[39m4\u001b[39m)\n",
      "\u001b[0;31mTypeError\u001b[0m: initWorld() missing 2 required positional arguments: 'fire_coords' and 'earth_coords'"
     ]
    }
   ],
   "source": [
    "# magic world\n",
    "\n",
    "# Copilot stop spamming the f-cking chat\n",
    "\n",
    "def move(x, y, nx, ny):\n",
    "    return 'move_from_'+str(x)+str(y)+'_to_'+str(nx)+str(ny)\n",
    "\n",
    "def attack(x, y):\n",
    "    return \"attack_dragon_at_\" + str(x) + \"_\" + str(y)\n",
    "\n",
    "def open():\n",
    "    pass\n",
    "\n",
    "def collectFire(x, y):\n",
    "    return \"collect_fire_at_\" + str(x) + \"_\" + str(y)\n",
    "\n",
    "def collectEarth(x, y):\n",
    "    return \"collect_earth_at_\" + str(x) + \"_\" + str(y)\n",
    "\n",
    "def buildFireball():\n",
    "    return \"build_fireball\"\n",
    "\n",
    "# nxn grid with player, castle, walls, and dragons\n",
    "# End goal is kill the dragon and react the castle\n",
    "# To kill the dragon, player needs a fireball\n",
    "# To build a fireball, the player needs k earth and l fire\n",
    "# To attack, the player has to be at the same position as a dragon\n",
    "# Player can open a chest but idk why - skip for now\n",
    "\n",
    "def initWorld(n, dragon_coords, fire_coords, earth_coords):\n",
    "    # nxn grid\n",
    "    feature_domain_dict = { \n",
    "        \"player\": [(i, j) for i in range(n) for j in range(n)], \n",
    "        \"dragon\": (True, False),\n",
    "        \"fire\": (True, False),\n",
    "        \"earth\": (True, False),\n",
    "        \"fireball\": (True, False), \n",
    "    }\n",
    "\n",
    "    # all possible player movements\n",
    "    stmap = {\n",
    "        Strips(move(x, y, x + dx, y + dy), { \"player\": (x, y)}, { \"player\": (x + dx, y + dy)}) \n",
    "            for dx, dy in [(1, 0), (-1, 0), (0, 1), (0, -1)]\n",
    "            for x in range(n) \n",
    "            for y in range(n)\n",
    "            if x + dx in range(n) and y + dy in range(n)\n",
    "    }\n",
    "\n",
    "    # collecting fire\n",
    "    stmap.update({\n",
    "        Strips(collectFire(fire_coords[0], fire_coords[1]), { \"player\": fire_coords, \"fire\": False}, { \"fire\": True })\n",
    "    })\n",
    "\n",
    "    # collecting earth\n",
    "    stmap.update({\n",
    "        Strips(collectEarth(earth_coords[0], earth_coords[1]), { \"player\": earth_coords, \"earth\": False}, { \"earth\": True })\n",
    "    })\n",
    "\n",
    "    # building a fireball\n",
    "    stmap.update({\n",
    "        Strips(buildFireball(), { \"fire\": True, \"earth\": True, \"fireball\": False}, { \"fireball\": True, \"fire\": False, \"earth\": False})\n",
    "    })\n",
    "\n",
    "    # attacking a dragon\n",
    "    stmap.update({\n",
    "       Strips(attack(dragon_coords[0], dragon_coords[1]), { \"player\": dragon_coords, \"dragon\": True, \"fireball\": True}, { \"dragon\": False, \"fireball\": False }) \n",
    "    })\n",
    "\n",
    "    return STRIPS_domain(feature_domain_dict, stmap)\n",
    "\n",
    "dragon = (1, 3)\n",
    "fire = (2, 2)\n",
    "earth = (3, 3)\n",
    "world1 = initWorld(5, dragon, fire, earth)\n",
    "player_coords = (1, 1)\n",
    "castle = (4, 4)\n",
    "\n",
    "problem = Planning_problem(\n",
    "    world1, \n",
    "    { \"player\": player_coords, \"dragon\": True, \"fire\": False, \"earth\": False, \"fireball\": False}, \n",
    "    { \"player\": castle, \"dragon\": False}\n",
    ")\n",
    "\n",
    "sol = SearcherMPP(Forward_STRIPS(problem)).search()\n",
    "print(sol)"
   ]
  }
 ],
 "metadata": {
  "kernelspec": {
   "display_name": "Python 3",
   "language": "python",
   "name": "python3"
  },
  "language_info": {
   "codemirror_mode": {
    "name": "ipython",
    "version": 3
   },
   "file_extension": ".py",
   "mimetype": "text/x-python",
   "name": "python",
   "nbconvert_exporter": "python",
   "pygments_lexer": "ipython3",
   "version": "3.11.5"
  }
 },
 "nbformat": 4,
 "nbformat_minor": 2
}
