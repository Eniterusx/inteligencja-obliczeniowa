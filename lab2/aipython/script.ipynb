{
 "cells": [
  {
   "cell_type": "code",
   "execution_count": 1,
   "metadata": {},
   "outputs": [],
   "source": [
    "from stripsProblem import Planning_problem, STRIPS_domain, Strips\n",
    "from searchMPP import SearcherMPP\n",
    "from stripsForwardPlanner import Forward_STRIPS\n",
    "\n",
    "# Cake\n",
    "# 1. The cake is in the kitchen\n",
    "# 2. The cake is delicious\n",
    "# 3. The cake is not eaten\n",
    "# 4. The cake is sweet\n",
    "# 5. The cake is not sweet\n",
    "# 6. The cake is not delicious\n",
    "# 7. The cake is eaten\n",
    "# 8. The cake is in the stomach\n",
    "\n",
    "def eat():\n",
    "    return \"eat_cake\"\n",
    "\n",
    "def bake():\n",
    "    return \"bake_cake\"\n",
    "\n",
    "stmap = { \n",
    "        Strips(eat(), { \"cake\": True}, {\"cake\": False}),\n",
    "        Strips(bake(), { \"cake\": False}, {\"cake\": True})\n",
    "    }\n",
    "feature_domain_dict = { \"cake\": True, \"cake\": False }\n",
    "strips_domain = STRIPS_domain(feature_domain_dict, stmap)\n",
    "cake_problem = Planning_problem(strips_domain, { \"cake\": False}, { \"cake\": True})\n",
    "SearcherMPP(Forward_STRIPS(cake_problem)).search()\n"
   ]
  }
 ],
 "metadata": {
  "kernelspec": {
   "display_name": "Python 3",
   "language": "python",
   "name": "python3"
  },
  "language_info": {
   "codemirror_mode": {
    "name": "ipython",
    "version": 3
   },
   "file_extension": ".py",
   "mimetype": "text/x-python",
   "name": "python",
   "nbconvert_exporter": "python",
   "pygments_lexer": "ipython3",
   "version": "3.11.5"
  }
 },
 "nbformat": 4,
 "nbformat_minor": 2
}
