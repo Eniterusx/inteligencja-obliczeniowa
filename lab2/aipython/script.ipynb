{
 "cells": [
  {
   "cell_type": "code",
   "execution_count": 2,
   "metadata": {},
   "outputs": [
    {
     "name": "stdout",
     "output_type": "stream",
     "text": [
      "Solution: {'cake': False}\n",
      "   --bake_cake--> {'cake': True} (cost: 1)\n",
      " 2 paths have been expanded and 0 paths remain in the frontier\n"
     ]
    },
    {
     "data": {
      "text/plain": [
       "{'cake': False}\n",
       "   --bake_cake--> {'cake': True}"
      ]
     },
     "execution_count": 2,
     "metadata": {},
     "output_type": "execute_result"
    }
   ],
   "source": [
    "from stripsProblem import Planning_problem, STRIPS_domain, Strips\n",
    "from searchMPP import SearcherMPP\n",
    "from stripsForwardPlanner import Forward_STRIPS\n",
    "\n",
    "# Cake\n",
    "# 1. The cake is in the kitchen\n",
    "# 2. The cake is delicious\n",
    "# 3. The cake is not eaten\n",
    "# 4. The cake is sweet\n",
    "# 5. The cake is not sweet\n",
    "# 6. The cake is not delicious\n",
    "# 7. The cake is eaten\n",
    "# 8. The cake is in the stomach\n",
    "\n",
    "def eat():\n",
    "    return \"eat_cake\"\n",
    "\n",
    "def bake():\n",
    "    return \"bake_cake\"\n",
    "\n",
    "stmap = { \n",
    "        Strips(eat(), { \"cake\": True}, {\"cake\": False}),\n",
    "        Strips(bake(), { \"cake\": False}, {\"cake\": True})\n",
    "    }\n",
    "\n",
    "# all possible actions\n",
    "feature_domain_dict = { \"cake\": True, \"cake\": False }\n",
    "strips_domain = STRIPS_domain(feature_domain_dict, stmap)\n",
    "cake_problem = Planning_problem(strips_domain, { \"cake\": False}, { \"cake\": True})\n",
    "SearcherMPP(Forward_STRIPS(cake_problem)).search()\n"
   ]
  },
  {
   "cell_type": "code",
   "execution_count": null,
   "metadata": {},
   "outputs": [],
   "source": [
    "# magic world\n",
    "\n",
    "# Copilot stop spamming the fucking chat\n",
    "# 1. The chat is not spammed\n",
    "# 2. The chat is spammed!\n",
    "# 3. The chat is not spammed, the copilot is not spamming, the chat is not spammed, Copilot is the spammer\n",
    "\n",
    "def move():\n",
    "    pass\n",
    "\n",
    "def attack():\n",
    "    pass\n",
    "\n",
    "def open():\n",
    "    pass\n",
    "\n",
    "def collectFire():\n",
    "    pass\n",
    "\n",
    "def collectEarth():\n",
    "    pass\n",
    "\n",
    "def buildFireball():\n",
    "    pass\n",
    "\n",
    "# nxn grid with player, castle, walls, and dragons\n",
    "# End goal is kill the dragon and react the castle\n",
    "# To kill the dragon, player needs a fireball\n",
    "# To build a fireball, the player needs k earth and l fire\n",
    "# To attack, the player has to be at the same position as a dragon\n",
    "# \n",
    "\n",
    "def initWorld():\n",
    "    # nxn grid\n",
    "    worldSize = (5, 5)"
   ]
  }
 ],
 "metadata": {
  "kernelspec": {
   "display_name": "Python 3",
   "language": "python",
   "name": "python3"
  },
  "language_info": {
   "codemirror_mode": {
    "name": "ipython",
    "version": 3
   },
   "file_extension": ".py",
   "mimetype": "text/x-python",
   "name": "python",
   "nbconvert_exporter": "python",
   "pygments_lexer": "ipython3",
   "version": "3.11.5"
  }
 },
 "nbformat": 4,
 "nbformat_minor": 2
}
