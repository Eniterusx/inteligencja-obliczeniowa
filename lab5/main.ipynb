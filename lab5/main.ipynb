{
 "cells": [
  {
   "cell_type": "code",
   "execution_count": null,
   "metadata": {},
   "outputs": [],
   "source": [
    "def dynamic_learning_rate(progress_remaining):\n",
    "    init_lr = 0.001\n",
    "    return init_lr * progress_remaining"
   ]
  },
  {
   "cell_type": "code",
   "execution_count": null,
   "metadata": {},
   "outputs": [],
   "source": [
    "# Experiment 1alt\n",
    "LR = 0.0003\n",
    "GAMMA = 0.99\n",
    "N_STEPS = 256\n",
    "GAE_LAMBDA = 0.95\n",
    "\n",
    "policy_kwargs = dict(\n",
    "    net_arch = [256, 256, 256]\n",
    ")\n",
    "\n",
    "experiment_name = \"a2c_experiment_1alt\"\n"
   ]
  },
  {
   "cell_type": "code",
   "execution_count": null,
   "metadata": {},
   "outputs": [],
   "source": [
    "# Experiment 1\n",
    "LR = 0.0003\n",
    "GAMMA = 0.99\n",
    "N_STEPS = 256\n",
    "GAE_LAMBDA = 0.95\n",
    "\n",
    "policy_kwargs = dict(\n",
    "    net_arch = [64, 64]\n",
    ")\n",
    "\n",
    "experiment_name = \"a2c_experiment_1\"\n"
   ]
  },
  {
   "cell_type": "code",
   "execution_count": null,
   "metadata": {},
   "outputs": [],
   "source": [
    "# Experiment 2\n",
    "LR = 0.0005\n",
    "GAMMA = 0.99\n",
    "N_STEPS = 256\n",
    "GAE_LAMBDA = 0.95\n",
    "\n",
    "policy_kwargs = dict(\n",
    "    net_arch = [64, 64]\n",
    ")\n",
    "\n",
    "experiment_name = \"a2c_experiment_2\""
   ]
  },
  {
   "cell_type": "code",
   "execution_count": null,
   "metadata": {},
   "outputs": [],
   "source": [
    "# Experiment 3\n",
    "LR = dynamic_learning_rate\n",
    "GAMMA = 0.995\n",
    "N_STEPS = 256\n",
    "GAE_LAMBDA = 0.97\n",
    "\n",
    "policy_kwargs = dict(\n",
    "    net_arch = [64, 64]\n",
    ")\n",
    "\n",
    "experiment_name = \"a2c_experiment_3\""
   ]
  },
  {
   "cell_type": "code",
   "execution_count": null,
   "metadata": {},
   "outputs": [],
   "source": [
    "# Experiment 4\n",
    "LR = 0.0003\n",
    "GAMMA = 0.99\n",
    "N_STEPS = 256\n",
    "GAE_LAMBDA = 0.95\n",
    "\n",
    "policy_kwargs = dict(\n",
    "    net_arch = [128, 128]\n",
    ")\n",
    "\n",
    "experiment_name = \"a2c_experiment_4\""
   ]
  },
  {
   "cell_type": "code",
   "execution_count": null,
   "metadata": {},
   "outputs": [],
   "source": [
    "# Experiment 5\n",
    "LR = 0.0005\n",
    "GAMMA = 0.99\n",
    "N_STEPS = 256\n",
    "GAE_LAMBDA = 0.95\n",
    "\n",
    "policy_kwargs = dict(\n",
    "    net_arch = [128, 128]\n",
    ")\n",
    "\n",
    "experiment_name = \"a2c_experiment_5\""
   ]
  },
  {
   "cell_type": "code",
   "execution_count": null,
   "metadata": {},
   "outputs": [],
   "source": [
    "# Experiment 6\n",
    "LR = dynamic_learning_rate\n",
    "GAMMA = 0.995\n",
    "N_STEPS = 256\n",
    "GAE_LAMBDA = 0.97\n",
    "\n",
    "policy_kwargs = dict(\n",
    "    net_arch = [128, 128]\n",
    ")\n",
    "\n",
    "experiment_name = \"a2c_experiment_6\""
   ]
  },
  {
   "cell_type": "code",
   "execution_count": null,
   "metadata": {},
   "outputs": [],
   "source": [
    "import gymnasium as gym\n",
    "from stable_baselines3 import A2C\n",
    "from stable_baselines3.common.vec_env import DummyVecEnv\n",
    "from stable_baselines3.common.callbacks import BaseCallback\n",
    "from stable_baselines3.common.monitor import Monitor\n",
    "import numpy as np\n",
    "import torch as th\n",
    "\n",
    "# Create the CarRacing-v2 environment\n",
    "env = gym.make('CarRacing-v2')\n",
    "# env = Monitor(env)  # To log episode rewards\n",
    "\n",
    "# Wrap the environment\n",
    "# env = DummyVecEnv([lambda: env])\n",
    "\n",
    "# Create the PPO model\n",
    "model = A2C('MlpPolicy',\n",
    "            env,\n",
    "            verbose=1,\n",
    "            n_steps=N_STEPS,\n",
    "            learning_rate=LR,\n",
    "            gamma=GAMMA,\n",
    "            gae_lambda=GAE_LAMBDA,\n",
    "            tensorboard_log=\"./ppo_car_racing_tensorboard/\",\n",
    "            device='auto',\n",
    "            policy_kwargs=policy_kwargs\n",
    "            )\n",
    "\n",
    "# Train the model with the custom callback\n",
    "model.learn(total_timesteps=50_000, tb_log_name=experiment_name, progress_bar=True, log_interval=1)\n",
    "\n",
    "# Save the model\n",
    "model.save(experiment_name)\n",
    "\n",
    "# To use the model later, load it with:\n",
    "# model = PPO.load(\"ppo_car_racing_v2\")"
   ]
  },
  {
   "cell_type": "code",
   "execution_count": null,
   "metadata": {},
   "outputs": [],
   "source": [
    "import gymnasium as gym\n",
    "from stable_baselines3 import PPO\n",
    "from stable_baselines3.common.vec_env import DummyVecEnv\n",
    "from stable_baselines3.common.callbacks import BaseCallback\n",
    "from stable_baselines3.common.monitor import Monitor\n",
    "import numpy as np\n",
    "\n",
    "# load model\n",
    "\n",
    "env = gym.make('CarRacing-v2', render_mode='human')\n",
    "model = PPO.load(\"a2c_experiment_1\")\n",
    "\n",
    "obs, info = env.reset()\n",
    "while True:\n",
    "    try:\n",
    "        action, _states = model.predict(obs)\n",
    "        obs, rewards, dones, info, _ = env.step(action)\n",
    "        env.render()\n",
    "    except KeyboardInterrupt:\n",
    "        break    "
   ]
  }
 ],
 "metadata": {
  "kernelspec": {
   "display_name": "intobl",
   "language": "python",
   "name": "python3"
  },
  "language_info": {
   "codemirror_mode": {
    "name": "ipython",
    "version": 3
   },
   "file_extension": ".py",
   "mimetype": "text/x-python",
   "name": "python",
   "nbconvert_exporter": "python",
   "pygments_lexer": "ipython3",
   "version": "3.11.7"
  }
 },
 "nbformat": 4,
 "nbformat_minor": 2
}
